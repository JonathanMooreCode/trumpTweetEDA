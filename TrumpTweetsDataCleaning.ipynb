{
 "cells": [
  {
   "cell_type": "markdown",
   "id": "moral-century",
   "metadata": {},
   "source": [
    "# Trump's Twitter History: Data Cleaning\n",
    "Those reading this will already be familiar with the political career of Donald Trump, and will no doubt understand the level of influence his twitter account, as well as his television interviews and meetings with the press had in communicating his political message. Often, his tweets were headline news in publications around the globe, and were not uncommon to captured the attention of the world. His twitter account was suspended as of January 8th, 2021, and has not been renstated as of March 19th, 2021.  \n",
    "His complete twitter history has been archived thanks to https://www.thetrumparchive.com/, which I have used as my source of data for the following notebooks.\n",
    "  \n",
    "Why take the time to preform an overview analysis of Trump's twitter career? Well, most influencial political leaders of the past are nearly completly lost to history. How many speechs of Roman emperors do you know? How many of there speeches even remain?  \n",
    "That is what makes this dataset interesting as a historical artifact. We, as data scientists/data analysts, have a chance observe and study this political artifact before it is lost to the memory of human kind. In addition, analysing this dataset allows us to imagine how political leaders of the future will use their rising technological powers to rule the populos of the future.  \n",
    "  \n",
    "Having said that, this series of notebooks will serve more so as an investigation of modern natural language processing and data analisys techniques. Both experimental and fundemental, to see what insights we can extract from a twitter account alone.  \n",
    "  \n",
    "The most interesting of questions, that off the so called 'ratio', cannot be discussed here as per number of responses were not recorded in the original data set, and may now be lost to time forever. If there are any enterprising readers out there who may know how to get there hands on such data, you may hold the answers to the most interesting questions of all. "
   ]
  },
  {
   "cell_type": "markdown",
   "id": "structural-archive",
   "metadata": {},
   "source": [
    "## Trump Twitter Series\n",
    "I will do a total of three notebooks on the Trump Twitter archive.  \n",
    "1) Data Cleaning, and Creation of Custom Topics.  \n",
    "2) Analysis of the Data.  \n",
    "3) Evaluation of off of the Shelf NLP Machine Learning Techniques.  "
   ]
  },
  {
   "cell_type": "markdown",
   "id": "international-syndrome",
   "metadata": {},
   "source": [
    "## Table of Content\n",
    "Section 1: Data Retreval and Package Download  \n",
    "Section 2.1: Extracting Quote Tweets  \n",
    "Secion 2.2: Extracting Hashtags and Mentions  \n",
    "Section 2.3: Extracting Datetime Information  \n",
    "Section 2.4: Sentiment Analysis  \n",
    "Section 2.5: Category Extraction  \n",
    "Section 2.6: Category Coherence Analysis"
   ]
  },
  {
   "cell_type": "markdown",
   "id": "looking-worship",
   "metadata": {},
   "source": [
    "#### Section 1: Data Retreval and Package Download"
   ]
  },
  {
   "cell_type": "code",
   "execution_count": 1,
   "id": "third-salmon",
   "metadata": {},
   "outputs": [],
   "source": [
    "# Import the Relevent Packages\n",
    "import pandas as pd\n",
    "import os\n",
    "import re\n",
    "import math\n",
    "import statistics as sts\n",
    "import datetime as dt\n",
    "import time\n",
    "import seaborn as sns\n",
    "from matplotlib import pyplot as plt\n",
    "import spacy\n",
    "spacy_model = spacy.load('en_core_web_sm')\n",
    "\n",
    "import random as rd\n",
    "from textblob import TextBlob\n",
    "from wordcloud import WordCloud"
   ]
  },
  {
   "cell_type": "code",
   "execution_count": 2,
   "id": "apparent-compilation",
   "metadata": {},
   "outputs": [],
   "source": [
    "# Change for Github Upload\n",
    "# Set working dir\n",
    "os.chdir('C:\\\\Users\\\\John\\\\Desktop\\\\SpeakAi')"
   ]
  },
  {
   "cell_type": "code",
   "execution_count": 3,
   "id": "caroline-dressing",
   "metadata": {},
   "outputs": [],
   "source": [
    "# Change for Github Upload\n",
    "# Downloading the data\n",
    "tweets = pd.read_csv('TrumpTweetsDeleted.csv')"
   ]
  },
  {
   "cell_type": "code",
   "execution_count": 4,
   "id": "suited-horse",
   "metadata": {},
   "outputs": [
    {
     "data": {
      "text/html": [
       "<div>\n",
       "<style scoped>\n",
       "    .dataframe tbody tr th:only-of-type {\n",
       "        vertical-align: middle;\n",
       "    }\n",
       "\n",
       "    .dataframe tbody tr th {\n",
       "        vertical-align: top;\n",
       "    }\n",
       "\n",
       "    .dataframe thead th {\n",
       "        text-align: right;\n",
       "    }\n",
       "</style>\n",
       "<table border=\"1\" class=\"dataframe\">\n",
       "  <thead>\n",
       "    <tr style=\"text-align: right;\">\n",
       "      <th></th>\n",
       "      <th>id</th>\n",
       "      <th>text</th>\n",
       "      <th>isRetweet</th>\n",
       "      <th>isDeleted</th>\n",
       "      <th>device</th>\n",
       "      <th>favorites</th>\n",
       "      <th>retweets</th>\n",
       "      <th>date</th>\n",
       "      <th>isFlagged</th>\n",
       "    </tr>\n",
       "  </thead>\n",
       "  <tbody>\n",
       "    <tr>\n",
       "      <th>0</th>\n",
       "      <td>98454970654916608</td>\n",
       "      <td>Republicans and Democrats have both created ou...</td>\n",
       "      <td>f</td>\n",
       "      <td>f</td>\n",
       "      <td>TweetDeck</td>\n",
       "      <td>49</td>\n",
       "      <td>255</td>\n",
       "      <td>2011-08-02 18:07:48</td>\n",
       "      <td>f</td>\n",
       "    </tr>\n",
       "    <tr>\n",
       "      <th>1</th>\n",
       "      <td>1234653427789070336</td>\n",
       "      <td>I was thrilled to be back in the Great city of...</td>\n",
       "      <td>f</td>\n",
       "      <td>f</td>\n",
       "      <td>Twitter for iPhone</td>\n",
       "      <td>73748</td>\n",
       "      <td>17404</td>\n",
       "      <td>2020-03-03 01:34:50</td>\n",
       "      <td>f</td>\n",
       "    </tr>\n",
       "    <tr>\n",
       "      <th>2</th>\n",
       "      <td>1218010753434820614</td>\n",
       "      <td>RT @CBS_Herridge: READ: Letter to surveillance...</td>\n",
       "      <td>t</td>\n",
       "      <td>f</td>\n",
       "      <td>Twitter for iPhone</td>\n",
       "      <td>0</td>\n",
       "      <td>7396</td>\n",
       "      <td>2020-01-17 03:22:47</td>\n",
       "      <td>f</td>\n",
       "    </tr>\n",
       "    <tr>\n",
       "      <th>3</th>\n",
       "      <td>1304875170860015617</td>\n",
       "      <td>The Unsolicited Mail In Ballot Scam is a major...</td>\n",
       "      <td>f</td>\n",
       "      <td>f</td>\n",
       "      <td>Twitter for iPhone</td>\n",
       "      <td>80527</td>\n",
       "      <td>23502</td>\n",
       "      <td>2020-09-12 20:10:58</td>\n",
       "      <td>f</td>\n",
       "    </tr>\n",
       "    <tr>\n",
       "      <th>4</th>\n",
       "      <td>1218159531554897920</td>\n",
       "      <td>RT @MZHemingway: Very friendly telling of even...</td>\n",
       "      <td>t</td>\n",
       "      <td>f</td>\n",
       "      <td>Twitter for iPhone</td>\n",
       "      <td>0</td>\n",
       "      <td>9081</td>\n",
       "      <td>2020-01-17 13:13:59</td>\n",
       "      <td>f</td>\n",
       "    </tr>\n",
       "  </tbody>\n",
       "</table>\n",
       "</div>"
      ],
      "text/plain": [
       "                    id                                               text  \\\n",
       "0    98454970654916608  Republicans and Democrats have both created ou...   \n",
       "1  1234653427789070336  I was thrilled to be back in the Great city of...   \n",
       "2  1218010753434820614  RT @CBS_Herridge: READ: Letter to surveillance...   \n",
       "3  1304875170860015617  The Unsolicited Mail In Ballot Scam is a major...   \n",
       "4  1218159531554897920  RT @MZHemingway: Very friendly telling of even...   \n",
       "\n",
       "  isRetweet isDeleted              device  favorites  retweets  \\\n",
       "0         f         f           TweetDeck         49       255   \n",
       "1         f         f  Twitter for iPhone      73748     17404   \n",
       "2         t         f  Twitter for iPhone          0      7396   \n",
       "3         f         f  Twitter for iPhone      80527     23502   \n",
       "4         t         f  Twitter for iPhone          0      9081   \n",
       "\n",
       "                  date isFlagged  \n",
       "0  2011-08-02 18:07:48         f  \n",
       "1  2020-03-03 01:34:50         f  \n",
       "2  2020-01-17 03:22:47         f  \n",
       "3  2020-09-12 20:10:58         f  \n",
       "4  2020-01-17 13:13:59         f  "
      ]
     },
     "execution_count": 4,
     "metadata": {},
     "output_type": "execute_result"
    }
   ],
   "source": [
    "# Examine our Data.\n",
    "tweets.head()"
   ]
  },
  {
   "cell_type": "markdown",
   "id": "patient-terrace",
   "metadata": {},
   "source": [
    "### Section 2.1 Extracting Quote Tweets.\n",
    "#### Types of Tweets\n",
    "The first thing to mention when examining the tweets is that there appear to be three types of tweets.  \n",
    "1) Regular Trump Tweets.  \n",
    "2) Tweets that have been retweeted by Trump. These tweets are disinquesed in two ways, they all begin with RT in the text, and isRetweet is valued at 't'.   \n",
    "3) Quote tweets; similar to a retweet, but not flagged by isRetweet. These tweets can be detected by the \"\"\"@user that begins the text string. To deal with this we will both extract the username, the quoted message, and the additional message added by trump.  "
   ]
  },
  {
   "cell_type": "code",
   "execution_count": 5,
   "id": "happy-jackson",
   "metadata": {},
   "outputs": [
    {
     "data": {
      "text/plain": [
       "'The “Surrender Caucus” within the Republican Party will go down in infamy as weak and ineffective “guardians” of our Nation, who were willing to accept the certification of fraudulent presidential numbers!'"
      ]
     },
     "execution_count": 5,
     "metadata": {},
     "output_type": "execute_result"
    }
   ],
   "source": [
    "# 1) An example of a standard tweet.\n",
    "tweets.loc[(54,'text')]"
   ]
  },
  {
   "cell_type": "code",
   "execution_count": 6,
   "id": "every-sender",
   "metadata": {},
   "outputs": [
    {
     "data": {
      "text/plain": [
       "'RT @GOP: “Operation Warp Speed is unequaled and unrivaled anywhere in the world.”—@realDonaldTrump https://t.co/LHOGKznr0R'"
      ]
     },
     "execution_count": 6,
     "metadata": {},
     "output_type": "execute_result"
    }
   ],
   "source": [
    "# 2) An example of a retweet.\n",
    "tweets.loc[(942,'text')]"
   ]
  },
  {
   "cell_type": "code",
   "execution_count": 7,
   "id": "developmental-excerpt",
   "metadata": {},
   "outputs": [
    {
     "data": {
      "text/plain": [
       "'\"\"\"@CpacDean: @realDonaldTrump you\\'ve raised children that young people can look up too. thats probably your greatest achievement in my mind\"\"\"'"
      ]
     },
     "execution_count": 7,
     "metadata": {},
     "output_type": "execute_result"
    }
   ],
   "source": [
    "# 3) An example of a qoute tweet.\n",
    "tweets.loc[(23186,'text')]"
   ]
  },
  {
   "cell_type": "markdown",
   "id": "portable-universal",
   "metadata": {},
   "source": [
    "Our next goal is to seperate out the information encoded in quote tweets.  \n",
    "  \n",
    "This section is a bit of the nitty-gritty found in real world data problems, because the formating used is inconsistent through out the dataset.  \n",
    "  \n",
    "Here, pattern1 identifies tweet['text'] of the form: \"\"\"@user: User_Message\"\" Trump_message\".  \n",
    "pattern2 identifies tweets with the text of the form: \"\"\"@user User_messsage\".  \n",
    "  \n",
    "The function extracts and records each of the above sections, as well as recordes an indicator as to whether the tweet is of type pattern1 (t1), pattern2 (t2), or not quote-tweet ('n/a')."
   ]
  },
  {
   "cell_type": "code",
   "execution_count": 8,
   "id": "directed-bulgarian",
   "metadata": {},
   "outputs": [],
   "source": [
    "# A Funtion to extract info from quote tweets.\n",
    "\n",
    "isQuoteTweet = []\n",
    "quotedFrom = []\n",
    "quoteText = []\n",
    "trumpResp = []\n",
    "\n",
    "pattern1 = re.compile(r'\"\"\"(@.+):(.+\"\")(.*)')\n",
    "pattern2 = re.compile(r'\"\"\"(@.+) (.+\")')\n",
    "\n",
    "for i in range(len(tweets)):\n",
    "    matches1 = pattern1.finditer(tweets.loc[(i,'text')])\n",
    "    initCheck = len(isQuoteTweet)\n",
    "    for match1 in matches1:\n",
    "        isQuoteTweet.append('t1')\n",
    "        quotedFrom.append(match1.group(1))\n",
    "        quoteText.append(match1.group(2))\n",
    "        trumpResp.append(match1.group(3))\n",
    "    if initCheck == len(isQuoteTweet):\n",
    "        matches2 = pattern2.finditer(tweets.loc[(i,'text')])\n",
    "        for match2 in matches2:\n",
    "            isQuoteTweet.append('t2')\n",
    "            quotedFrom.append(match2.group(1))\n",
    "            quoteText.append(match2.group(2))\n",
    "            trumpResp.append('n/a')\n",
    "    if initCheck == len(isQuoteTweet):\n",
    "        isQuoteTweet.append('f')\n",
    "        quotedFrom.append('n/a')\n",
    "        quoteText.append('n/a')\n",
    "        trumpResp.append('n/a')\n",
    "\n",
    "tweets['isQuoteTweet'] = isQuoteTweet\n",
    "tweets['quotedFrom'] = quotedFrom\n",
    "tweets['quoteText'] = quoteText\n",
    "tweets['trumpResp'] = trumpResp"
   ]
  },
  {
   "cell_type": "code",
   "execution_count": 9,
   "id": "smart-gravity",
   "metadata": {},
   "outputs": [
    {
     "data": {
      "text/plain": [
       "f     45790\n",
       "t1     8374\n",
       "t2     2407\n",
       "Name: isQuoteTweet, dtype: int64"
      ]
     },
     "execution_count": 9,
     "metadata": {},
     "output_type": "execute_result"
    }
   ],
   "source": [
    "tweets['isQuoteTweet'].value_counts()"
   ]
  },
  {
   "cell_type": "markdown",
   "id": "legitimate-theory",
   "metadata": {},
   "source": [
    "Further analysis of the quote tweets can be found in the next notebook, Trump Tweets Analysis."
   ]
  },
  {
   "cell_type": "markdown",
   "id": "intensive-territory",
   "metadata": {},
   "source": [
    "### Section 2.2: Hashtags and Mentions  \n",
    "A quick an easy way to extract all hastags and mentions from a tweet, using python's Regular Expressions Package (re).  \n",
    "Code copied from: https://stackoverflow.com/questions/45874879/extract-hashtags-from-columns-of-a-pandas-dataframe"
   ]
  },
  {
   "cell_type": "code",
   "execution_count": 10,
   "id": "automatic-partition",
   "metadata": {},
   "outputs": [],
   "source": [
    "# Extract Hashtags and mentions from tweets\n",
    "tweets['mentions'] = tweets['text'].str.findall(r'(?:(?<=\\s)|(?<=^))@.*?(?=\\s|$)')\n",
    "tweets['hashtags'] = tweets['text'].str.findall(r'(?:(?<=\\s)|(?<=^))#.*?(?=\\s|$)')"
   ]
  },
  {
   "cell_type": "markdown",
   "id": "other-register",
   "metadata": {},
   "source": [
    "### Section 2.3: Extracting Datetime Information\n",
    "Next, we want to take the existing date strings and convert them into a more python friendly format, by the way of the datetime package."
   ]
  },
  {
   "cell_type": "code",
   "execution_count": 11,
   "id": "devoted-intent",
   "metadata": {},
   "outputs": [],
   "source": [
    "# A simple application of the datetime module.\n",
    "year = []\n",
    "month = []\n",
    "day = []\n",
    "hour = []\n",
    "date = []\n",
    "for i in range(len(tweets)):\n",
    "    datestamp = dt.datetime.strptime(tweets.loc[(i,'date')], '%Y-%m-%d %H:%M:%S')\n",
    "    year.append(datestamp.date().year)\n",
    "    month.append(datestamp.date().month)\n",
    "    day.append(datestamp.date().day)\n",
    "    hour.append(datestamp.time().hour)\n",
    "    date.append(datestamp.date())"
   ]
  },
  {
   "cell_type": "code",
   "execution_count": 12,
   "id": "international-device",
   "metadata": {},
   "outputs": [],
   "source": [
    "# Append our information to our dataframe\n",
    "tweets['year'] = year\n",
    "tweets['month'] = month\n",
    "tweets['day'] = day\n",
    "tweets['hour'] = hour\n",
    "tweets['date'] = date"
   ]
  },
  {
   "cell_type": "markdown",
   "id": "combined-anthony",
   "metadata": {},
   "source": [
    "### Section 2.4: Sentiment Analysis:  \n",
    "This Sentement Analysis technique is based on work done by kaggle user ahmedterry, his notebook can be found here:  \n",
    "https://www.kaggle.com/ahmedterry/trump-tweets-eda-nlp-sentiments-analysis  \n",
    "  \n",
    "There are few steps involved in this sentiment analysis:  \n",
    "1) Clean the text, lemminize and remove stop words etc.  \n",
    "2) Extract 'Subjectivity' and 'Polerization' Scores.  \n",
    "3) Simplfy the subjectivity into 'Positive', 'Neutral', and 'Negative' buckets.  \n",
    "4) And finnaly we seperate our cleaned sentences into tokens that we can use for searching, as will be see in the create category section."
   ]
  },
  {
   "cell_type": "code",
   "execution_count": 13,
   "id": "another-mainstream",
   "metadata": {},
   "outputs": [],
   "source": [
    "# Cleaing features from the tweets\n",
    "processed_features = []\n",
    "for sentence in tweets['text']:\n",
    "    # Remove all the http: urls\n",
    "    processed_feature = re.sub('(https?://\\S+)', '', str(sentence))\n",
    "    \n",
    "    # Remove all the special characters\n",
    "    processed_feature = re.sub(r'\\W', ' ', processed_feature)\n",
    " \n",
    "    #Converting to Lowercase\n",
    "    processed_feature = processed_feature.lower()\n",
    "    \n",
    "    processed_features.append(processed_feature)"
   ]
  },
  {
   "cell_type": "code",
   "execution_count": 14,
   "id": "blank-affair",
   "metadata": {},
   "outputs": [],
   "source": [
    "# Create a function to get the subjectivity\n",
    "def getSubjectivity(text):\n",
    "    return TextBlob(text).sentiment.subjectivity\n",
    "\n",
    "# Create a function to get the polarity\n",
    "def getPolarity(text):\n",
    "    return  TextBlob(text).sentiment.polarity\n",
    "\n",
    "\n",
    "# Create two new columns 'Subjectivity' & 'Polarity'\n",
    "tweets['subjectivity'] = pd.Series(processed_features).apply(getSubjectivity)\n",
    "tweets['polarity'] = pd.Series(processed_features).apply(getPolarity)"
   ]
  },
  {
   "cell_type": "code",
   "execution_count": 15,
   "id": "practical-directive",
   "metadata": {},
   "outputs": [],
   "source": [
    "def getAnalysis(score):\n",
    "    if score < 0:\n",
    "        return 'negative'\n",
    "    elif score == 0:\n",
    "        return 'neutral'\n",
    "    else:\n",
    "        return 'positive'\n",
    "tweets['analysis'] = tweets['polarity'].apply(getAnalysis)"
   ]
  },
  {
   "cell_type": "markdown",
   "id": "efficient-scout",
   "metadata": {},
   "source": [
    "There is an interesting note here by the stop words used in the trump tweet dataset. There are many occurances of single letters like, 's','t','u', etc.  \n",
    "I am not really sure what is the reason for this, but we can address the common occuring ones up front here. "
   ]
  },
  {
   "cell_type": "code",
   "execution_count": 16,
   "id": "acting-tract",
   "metadata": {},
   "outputs": [],
   "source": [
    "# Removing stopwords\n",
    "stop_words = ['rt','s','t','amp','u','m','w','p','c',' ','  ','   ']\n",
    "for stopword in stop_words:\n",
    "    lexeme = spacy_model.vocab[stopword]\n",
    "    lexeme.is_stop = True"
   ]
  },
  {
   "cell_type": "code",
   "execution_count": 17,
   "id": "cordless-emperor",
   "metadata": {},
   "outputs": [
    {
     "name": "stdout",
     "output_type": "stream",
     "text": [
      "Time to Run: 14.44 minutes\n"
     ]
    }
   ],
   "source": [
    "#Lemmanize\n",
    "start = time.time()\n",
    "cleanTweet = []\n",
    "for tweet in processed_features:\n",
    "    tweet = spacy_model(tweet)\n",
    "    tokenTweet = []\n",
    "    for token in tweet:\n",
    "        if not token.is_punct and not token.is_stop and not token.like_num and token.lemma_ != '-PRON-':\n",
    "                tokenTweet.append(token.lemma_)\n",
    "    cleanTweet.append(tokenTweet)\n",
    "print('Time to Run:', round((time.time() - start)/60,2), 'minutes')"
   ]
  },
  {
   "cell_type": "code",
   "execution_count": 18,
   "id": "compact-rating",
   "metadata": {},
   "outputs": [
    {
     "data": {
      "text/plain": [
       "['whitehouse',\n",
       " 'president',\n",
       " 'realdonaldtrump',\n",
       " 'announce',\n",
       " 'historic',\n",
       " 'step',\n",
       " 'protect',\n",
       " 'constitutional',\n",
       " 'right',\n",
       " 'pray',\n",
       " 'public',\n",
       " 'school']"
      ]
     },
     "execution_count": 18,
     "metadata": {},
     "output_type": "execute_result"
    }
   ],
   "source": [
    "cleanTweet[5]"
   ]
  },
  {
   "cell_type": "code",
   "execution_count": 19,
   "id": "ruled-increase",
   "metadata": {},
   "outputs": [],
   "source": [
    "tweets['cleanText']=cleanTweet"
   ]
  },
  {
   "cell_type": "markdown",
   "id": "stupid-agreement",
   "metadata": {},
   "source": [
    "### Section 2.5: Category Extraction\n",
    "The primary technique we will use to extract the categories from tweets is as follows.  \n",
    "1) Sort through the top 500 most used lemminized terms used in the dataset.  \n",
    "2) Categorize these terms into 1 or 0 groups based on human judgement.  \n",
    "3) Examine a statistically significant number of tweets from each custom made category (and subcategory), to see if the categories make sence.  \n",
    "  \n",
    "The issues with this approach: Keywords can be used in different contexts. For example, 'Presedent' is used both with 'Trump', and with 'Obama' in this dataset. To address this issue, I will look at LSA models of each section, in my Analysis Notebook."
   ]
  },
  {
   "cell_type": "code",
   "execution_count": 20,
   "id": "liable-floating",
   "metadata": {},
   "outputs": [],
   "source": [
    "# Creates a list of all tokens (words) used, accross all tweets.\n",
    "wordList = []\n",
    "for tweet in tweets['cleanText']:\n",
    "    for word in tweet:\n",
    "        wordList.append(word)\n",
    "\n",
    "wordSeries = pd.Series(wordList)"
   ]
  },
  {
   "cell_type": "code",
   "execution_count": 21,
   "id": "invisible-biodiversity",
   "metadata": {},
   "outputs": [
    {
     "data": {
      "text/plain": [
       "37756"
      ]
     },
     "execution_count": 21,
     "metadata": {},
     "output_type": "execute_result"
    }
   ],
   "source": [
    "# Number of unique tokens\n",
    "len(wordSeries.value_counts())"
   ]
  },
  {
   "cell_type": "markdown",
   "id": "fantastic-butler",
   "metadata": {},
   "source": [
    "Below, I sorted through the top 500 most commonly occuring tokens, and sorted them into categories manually."
   ]
  },
  {
   "cell_type": "code",
   "execution_count": 22,
   "id": "impaired-austin",
   "metadata": {},
   "outputs": [
    {
     "data": {
      "text/plain": [
       "realdonaldtrump    11168\n",
       "great               8139\n",
       "trump               7014\n",
       "thank               5868\n",
       "president           4855\n",
       "people              3538\n",
       "good                3132\n",
       "country             2796\n",
       "big                 2598\n",
       "dtype: int64"
      ]
     },
     "execution_count": 22,
     "metadata": {},
     "output_type": "execute_result"
    }
   ],
   "source": [
    "wordSeries.value_counts()[1:10]"
   ]
  },
  {
   "cell_type": "code",
   "execution_count": 23,
   "id": "completed-kansas",
   "metadata": {},
   "outputs": [
    {
     "data": {
      "text/plain": [
       "0.537540396407546"
      ]
     },
     "execution_count": 23,
     "metadata": {},
     "output_type": "execute_result"
    }
   ],
   "source": [
    "# The percentage of tokens I cover using my method.\n",
    "wordSeries.value_counts()[1:500].sum()/wordSeries[1:].value_counts().sum()"
   ]
  },
  {
   "cell_type": "markdown",
   "id": "funded-essex",
   "metadata": {},
   "source": [
    "After sorting through the top 500 terms, I came to define the categories by the following definitions. If you are interested in seeing more detail about the definitions of any category, see Section 2.6: Topic Coherence for a more detailed look.  \n",
    "1) 'selfReference': Any term that may refer to Donald Trump, or his campaign, in the third person. (note 'I' was removed as a stopword.  \n",
    "2) 'usa': Terms that refer to the country 'United States of America'.  \n",
    "3) 'government': Terms that refer to the government of the United States or its major governmental bodies.  \n",
    "4) 'democrates': Terms that refer to either the democratic party, or one of its promenent members.  \n",
    "5) 'republicans': Terms that refer to either the republican party, or one of its promenent members.  \n",
    "6) 'election': Terms that refer to elections, or electoral processess.  \n",
    "7) 'positive': Terms that generaly imply a positive meaning, or a positive adjective.  \n",
    "8) 'negative': Terms that generaly imply a negative meaning, or a negative adjective.  \n",
    "9) 'news': Terms that talk about news, and news networks.  \n",
    "10) 'law': Terms that refer to law and order, or the American Judicial System.  \n",
    "11) 'border': Terms that reference the US border wall, or imigration.  \n",
    "12) 'economic': Terms that reference the economy.  \n",
    "13) 'states': Terms that reference and State in the United States.  \n",
    "14) 'countries': Names of other countries used, not including the United States.  \n",
    "15) 'bucket': Bucket is the category where I have stored interesting terms, but could not categorized. An enterprising reader may wish to contiune my work were I could not."
   ]
  },
  {
   "cell_type": "code",
   "execution_count": 126,
   "id": "welsh-mission",
   "metadata": {},
   "outputs": [],
   "source": [
    "# Sorted Category of tokens. \n",
    "selfReference = ['realdonaltrump','president','trump','donald','trump2016','maga','makeamericagreatagain','potus','teamtrump','donaldtrump']\n",
    "usa = ['contry','america','state','american','united','states','national','usa']\n",
    "government = ['whitehouse','senate','senator','congress','office','govenor','washington','administration',\n",
    "             'government','federal','congressman','impeachment']\n",
    "democrates = ['obama','barackobama','democrats','joe','biden','hillary','clinton','dem','democrat',\n",
    "             'obamacare','schiff','nancy','pelosi','comey','bernie']\n",
    "republicans = ['republican','gop','mittromney','bush','cruz','gopchairwomen']\n",
    "election = ['election','poll','campaign','party','debate','bill','voter','elect','vote','endorsement','primary','candidate','ballot']\n",
    "positive = ['great','good','big','win','new','love','true','strong','support','amazing','hope',\n",
    "           'happy','agree','friend','wow','totally','wonderful','beautiful','success','important','fantastic',\n",
    "           'incredible','tremendous','smart','winner','champion','protect']\n",
    "negative = ['bad','fight','fail','lie','wrong','crooked','kill','terrible','corrupt','sad','disaster','loser','hoax',\n",
    "           'hate','lose','sleepy','phoney','rig','fake','attack','destroy','radical']\n",
    "news = ['news','medium','rating','foxandfriend','foxnew','foxnews','fox','seanhannity','cnn','nbc']\n",
    "law = ['law','justice','drug','fraud','police','crime','security','illegal','enforcement','criminal','military','fbi','investigation',\n",
    "      'court','mueller','war','power']\n",
    "border = ['border','build','wall','immigration']\n",
    "economic = ['people','job','work','buisness','money','stock','tariff','cost','oil','tax','economy','economic','unemployment','dollar']\n",
    "states = ['california','florida','carolina','texas','pennsylvania','iowa']\n",
    "countries = ['china','mexico','iran','korea']\n",
    "\n",
    "bucket = ['twitter','supporter','isis','thank','run','world','right','report','history','leader','honor',\n",
    "          'live','family','forward','fact','believe','open','course','order','donaldjtrumpjr','help',\n",
    "          'record','give','presedential','political',\n",
    "         'stand','cut','golf','join','problem','women','complete','appretice','celebapprentice','apprencticebc','healthcare'\n",
    "         'case','city','fire','spend','hit','speech','nation',\n",
    "         'miss','tough','meeting','witch','hunt','white','crowd','release','massive','proud','rally','collusion',\n",
    "         'leadership','general','rate','buy',\n",
    "         'respect','question','price','vet','ammendment','hotel','ivankatrump','politician','truth','coronavirus',\n",
    "         'energy','policy','market','small','large','focus','entrepreneur','god','worker','early','raise','safe',\n",
    "         'million','tweet','celebrity','check','little','deliver','deal']"
   ]
  },
  {
   "cell_type": "code",
   "execution_count": 25,
   "id": "alien-graduation",
   "metadata": {},
   "outputs": [],
   "source": [
    "# A function that searchs all tweets for the occurance of a token (term).\n",
    "def searchTerm(term):\n",
    "    catcher = []\n",
    "    for i in range(len(tweets)):\n",
    "        if term in tweets.loc[(i,'cleanText')]:\n",
    "             catcher.append(tweets.loc[(i,'text')])\n",
    "    return pd.Series(catcher)"
   ]
  },
  {
   "cell_type": "code",
   "execution_count": 26,
   "id": "collected-reader",
   "metadata": {},
   "outputs": [],
   "source": [
    "# An example of searchTerm\n",
    "sample = searchTerm('rig')"
   ]
  },
  {
   "cell_type": "code",
   "execution_count": 27,
   "id": "manual-recognition",
   "metadata": {},
   "outputs": [
    {
     "data": {
      "text/plain": [
       "'Nolte: Top Pollster Finds 47% Say ‘Likely‘ Democrats Stole Election https://t.co/d8YFhFzA5w via @BreitbartNews Rigged Election!'"
      ]
     },
     "execution_count": 27,
     "metadata": {},
     "output_type": "execute_result"
    }
   ],
   "source": [
    "# Notice that the lemmanized token 'rig', returns a tweet containing, 'rigged'.\n",
    "sample[3]"
   ]
  },
  {
   "cell_type": "code",
   "execution_count": 28,
   "id": "overall-sally",
   "metadata": {},
   "outputs": [],
   "source": [
    "# A funtion that searchs all tweets for the occurance of any one token in list 'bucket'.\n",
    "# Then creates a new column, which is a indicator of if the tweet contains one of the tokens.\n",
    "def createCategory(bucket, name):\n",
    "    start = time.time()\n",
    "    category = []\n",
    "    for i in range(len(tweets)):\n",
    "        j = 0\n",
    "        for word in bucket:\n",
    "            if j == 0 and word in tweets.loc[(i,'cleanText')]:\n",
    "                j = 1\n",
    "        if j == 0:\n",
    "            category.append(0)\n",
    "        else:\n",
    "            category.append(1)\n",
    "    tweets[name] = category "
   ]
  },
  {
   "cell_type": "code",
   "execution_count": 127,
   "id": "deluxe-criticism",
   "metadata": {},
   "outputs": [
    {
     "name": "stdout",
     "output_type": "stream",
     "text": [
      "Minutes to Run: 1589564132 2\n"
     ]
    }
   ],
   "source": [
    "start = time.time()\n",
    "createCategory(selfReference, 'selfReference')\n",
    "createCategory(usa,'usa')\n",
    "createCategory(government,'government')\n",
    "createCategory(democrates,'democrates')\n",
    "createCategory(republicans,'republicans')\n",
    "createCategory(election,'election')\n",
    "createCategory(positive,'positive')\n",
    "createCategory(negative,'negative')\n",
    "createCategory(news,'news')\n",
    "createCategory(law,'law')\n",
    "createCategory(border,'border')\n",
    "createCategory(economic,'economic')\n",
    "createCategory(states,'states')\n",
    "createCategory(countries,'countries')\n",
    "print('Minutes to Run:', round(start - time.time()/60),2)"
   ]
  },
  {
   "cell_type": "markdown",
   "id": "downtown-tunisia",
   "metadata": {},
   "source": [
    "### Section 2.6: Category Coherence Analysis"
   ]
  },
  {
   "cell_type": "markdown",
   "id": "minimal-ecology",
   "metadata": {},
   "source": [
    "#### A Quick Disscussion on Category Coherence.\n",
    "Now that we have defined the topics by commonly occuring key words, we want to examine if we have defined our topics apporpriatly.  \n",
    "One way of doing this is by taking a random sample of tweets from each category, manually verifing if they meet the topic definition, and then creating a statistic of percentage of tweets that were correctly included in each topic. And that is the approach we will take here."
   ]
  },
  {
   "cell_type": "markdown",
   "id": "infectious-spare",
   "metadata": {},
   "source": [
    "#### Self-Reference Category Coherence\n",
    "A tweet qualifies as 'SeflReference' if the tweet in some way referes to Donald Trump.  \n",
    "Positive Example (42162: I just got off the phone with the great people of Guam! Thank you for your support! #VoteTrump today! #Trump2016).  \n",
    "Negative Example (40775: Our next Vice President of the United States of America, Gov. @Mike_Pence!#GOPinCLE #GOPConvention#AmericaFirst https://t.co/TZT3XcKp1c).  \n",
    "\n",
    "Notice that in our negative example, the tweet was selected for using the keyword 'Presedent' but in context, is refering to Obama and not trump."
   ]
  },
  {
   "cell_type": "code",
   "execution_count": 30,
   "id": "transparent-america",
   "metadata": {},
   "outputs": [
    {
     "name": "stdout",
     "output_type": "stream",
     "text": [
      "40775 Our next Vice President of the United States of America, Gov. @Mike_Pence!#GOPinCLE #GOPConvention#AmericaFirst https://t.co/TZT3XcKp1c\n",
      "42162 I just got off the phone with the great people of Guam! Thank you for your support! #VoteTrump today! #Trump2016\n",
      "4966 Virginia, VOTE for President Trump and save your under siege 2nd Amendment. https://t.co/V0AGM7gLaL\n",
      "30939 I'll be playing golf tomorrow in Palm Beach at the number one rated golf course in the State of Florida, Trump International Golf Club.\n",
      "47691 Tom Homan, fmr ICE Director: “There is nobody that has done more for border security &amp, public safety than President Trump. I’ve worked for six presidents, and I respect them all, but nobody has done more than this Administration &amp, President Trump, that’s just a stone cold fact!”\n",
      "46167 Statement from President Donald J. Trump and First Lady Melania Trump on the Passing of Former President George H.W. Bush https://t.co/qxPsp4Ggs7\n",
      "41627 #MakeAmericaGreatAgain #Trump2016 https://t.co/ZHM5w7jnss\n",
      "34373 Veterans, please call 855- VETS- 352 or email address veterans@donaldtrump.com to share your stories about the need to reform the VA.\n",
      "45765 People are pouring into Washington in record numbers. Bikers for Trump are on their way. It will be a great Thursday, Friday and Saturday!\n",
      "39471 Join @TeamTrump on Facebook &amp, watch tonight's rally from Geneva, Ohio- our 3rd rally of the day. #AmericaFirst #MAGA https://t.co/ZqJmf4QcwH\n",
      "52935 Wow, Report Just Out! Google manipulated from 2.6 million to 16 million votes for Hillary Clinton in 2016 Election! This was put out by a Clinton supporter, not a Trump Supporter! Google should be sued. My victory was even bigger than thought! @JudicialWatch\n",
      "26049 Via @GolfDigest by @LukeKerrDineen: “@MichaelBreed to open golf academy at Donald Trump’s @TrumpFerryPoint” http://t.co/h1cfQkEmRQ\n",
      "47322 Google search results for “Trump News” shows only the viewing/reporting of Fake New Media. In other words, they have it RIGGED, for me &amp, others, so that almost all stories &amp, news is BAD. Fake CNN is prominent. Republican/Conservative &amp, Fair Media  is shut out. Illegal?  96% of...\n",
      "16299 All recent Presidents have released their transcripts. What is @BarackObama hiding?\n",
      "32433 President Obama just told President Putin how important the Russian air strikes against ISIS have been. I TOLD YOU SO!\n",
      "16324 My @WOR710 interview on The John Gambling Show discussing the 2012 election, Trump real estate projects &amp, our airports http://t.co/PoaYvpSz\n",
      "12990 Great honor to have the endorsement of the Governor of Puerto Rico, Wanda Vázquez Garced. As I have always said, Donald J. Trump is the best thing to ever happen to the people of Puerto Rico. The drug manufacturers are now coming back. Biden ended that program! @wandavazquezg\n",
      "55352 A must read, Andy McCarthy’s column today, “Dirty dealings of dirt devils who concocted Trump-Russia probe.” The greatest Scam in political history. If the Mainstream Media were honest, which they are not, this story would be bigger and more important than Watergate. Someday!\n",
      "29761 \"Via @itp_ab by @ctrenwith: \"\"'Trump effect' will see Dubai properties rise 50%” http://t.co/bVEfai8hg9\"\n",
      "48964 Thank you for hosting! #MAGA https://t.co/9pHH60DVlX\n"
     ]
    }
   ],
   "source": [
    "rd.seed(0)\n",
    "x = tweets[(tweets['selfReference'] == 1) & (tweets['isRetweet'] == 'f') & (tweets['isQuoteTweet'] == 'f')]\n",
    "    \n",
    "for identity in rd.sample(x.index.tolist(), k = 20):\n",
    "    print(identity,x.loc[(identity,'text')])"
   ]
  },
  {
   "cell_type": "code",
   "execution_count": 31,
   "id": "finite-swaziland",
   "metadata": {},
   "outputs": [
    {
     "data": {
      "text/plain": [
       "0.8"
      ]
     },
     "execution_count": 31,
     "metadata": {},
     "output_type": "execute_result"
    }
   ],
   "source": [
    "hit = [0,1,1,1,1,1,1,0,1,1,1,1,1,0,0,1,1,1,1,1]\n",
    "p_st = sum(hit)/len(hit)\n",
    "p_st"
   ]
  },
  {
   "cell_type": "code",
   "execution_count": 32,
   "id": "criminal-think",
   "metadata": {},
   "outputs": [
    {
     "name": "stdout",
     "output_type": "stream",
     "text": [
      "12518 RT @_StephanieMyers: #BREAKING \n",
      "President Trump is nominated for the Nobel Peace Prize for helping broker the peace agreement between Israe…\n",
      "39893 RT @TeamTrump: RT if you agree - @HillaryClinton &amp, @timkaine are WRONG for America! #VPDebate #MAGA https://t.co/2MZfFzCo6c\n",
      "1525 RT @kayleighmcenany: President @realDonaldTrump &amp; First Lady @MELANIATRUMP take the stage in Valdosta, Georgia‼️ https://t.co/6Laq5cPvQ1\n",
      "8667 RT @DeptVetAffairs: .@POTUS signed legislation today that will maintain educational benefits for Veterans and their families impacted by th…\n",
      "49839 RT @Jim_Jordan: While Democrats are focused on undoing the 2016 election, President Trump is doing what he said.Able-bodied adults withou...\n",
      "48345 RT @Scavino45: cc: @POTUS @realDonaldTrump https://t.co/MasB5mdUVS\n",
      "13097 RT @TeamTrump: President @realDonaldTrump: Joe Biden and the far-left want to abolish borders, fully support sanctuary cities and incentivi…\n",
      "10032 RT @TeamTrump: President @realDonaldTrump: In Biden’s policy manifesto written with socialist Bernie Sanders, Biden pledges to OUTLAW Ameri…\n",
      "47237 RT @CoreyStewartVA: In the U.S. Senate I'll be working WITH @realDonaldTrump on his #MAGA agenda -- and that includes having the backs of A...\n",
      "11613 RT @GOPChairwoman: President @realDonaldTrump is spot on.\n",
      " \n",
      "“[Democrats] want to bury our economy under suffocating, relentless landslides…\n",
      "52133 RT @StewardshipAmer: President @realDonaldTrump is the best president to happen for America since Abraham Lincoln. President Lincoln saved...\n",
      "7466 RT @SteveGuest: Israel and UAE peace deal is vindication for Trump\n",
      "\n",
      "https://t.co/wj9EDOCuqW\n",
      "49701 RT @BuckSexton: Let’s all be very clear: what Nadler implied today is, unless Trump is impeached and removed from office, we should all exp...\n",
      "5168 RT @KristinG70: Trump is relaxed and his entertaining self tonight.  Enjoyable to watch!  #TrumpTownHall\n",
      "9361 RT @bpolitics: Republican Senator Chuck Grassley says he supports voting on Trump’s Supreme Court nominee, adding to the GOP tally https://…\n",
      "5173 RT @TeamTrump: President @realDonaldTrump: In every battle, we have placed our loyalty in each other &amp; God - we have prevailed, and we will…\n",
      "3915 RT @leodunson: @realDonaldTrump The Republican Party my whole life has ignored Black America. This President continues to prove over and ov…\n",
      "54290 RT @larryelder: The Trump-hating media/dems now face a YUGE dilemma--how NOT to give @realDonaldTrump credit.#MexicoCavesAfterTariffThrea...\n",
      "8418 RT @marklevinshow: 2. Kudos to the president’s legal team.  Now, ignore the “analysts” and enjoy the rest of  your Saturday. You’ve reason…\n",
      "50309 RT @WhiteHouse: Since the day President @realDonaldTrump took office, House Democrats have ignored working Americans to focus on their only...\n"
     ]
    }
   ],
   "source": [
    "rd.seed(0)\n",
    "x = tweets[(tweets['selfReference'] == 1) & (tweets['isRetweet'] == 't') & (tweets['isQuoteTweet'] == 'f')]\n",
    "    \n",
    "for identity in rd.sample(x.index.tolist(), k = 20):\n",
    "    print(identity,x.loc[(identity,'text')])"
   ]
  },
  {
   "cell_type": "code",
   "execution_count": 33,
   "id": "polar-cooking",
   "metadata": {},
   "outputs": [
    {
     "data": {
      "text/plain": [
       "1.0"
      ]
     },
     "execution_count": 33,
     "metadata": {},
     "output_type": "execute_result"
    }
   ],
   "source": [
    "hit = [1,1,1,1,1,1,1,1,1,1,1,1,1,1,1,1,1,1,1,1]\n",
    "p_sr = sum(hit)/len(hit)\n",
    "p_sr"
   ]
  },
  {
   "cell_type": "code",
   "execution_count": 34,
   "id": "electronic-fault",
   "metadata": {},
   "outputs": [
    {
     "name": "stdout",
     "output_type": "stream",
     "text": [
      "35143 \"\"\"@RSan: Donald Trump's Polling Looks too Good to Be True.\"\n",
      "35986 \"\"\"@SHAWSHANK5: @realDonaldTrump @AJ_13_Hulton Why not run for president? You are the best for America and the world\"\n",
      "20494 \"\"\"@BBKdayspa: @realDonaldTrump: I'm busy reading 'The Midas Touch' and its so inspiring! Thank you Donald Trump and Robert Kiyosaki.\"\"\"\n",
      "31279 \"\"\"@peyton2419: Can't wait until 2016 when DT is POTUS. So that I can stop listening to problems with our economy in the State of the Union.\"\"\"\n",
      "38581 \"\"\"@cwbyfn12: @realDonaldTrump you really need to run for president. Our country needs a leader like you!\"\"\"\n",
      "37431 \"\"\"@daltonkats Inside Trump Tower in NYC! What a beautiful building! @realDonaldTrump\"\"  Thanks!\"\n",
      "35625 \"\"\"@JollyGoodman181: @realDonaldTrump The \"\"Don\"\" is our guy... the man who will set things straight. Donald Trump for President.\"\"\"\n",
      "32849 \"\"\"@AtheistWWonka: @realDonaldTrump @jakistheman by the time you're done everyone will be wearing a Trump tie\"\"\"\n",
      "37242 \"\"\"@_ayley: @realDonaldTrump you would be doing our country a favor by running for President. #Trump2016\"\"\"\n",
      "34427 \"\"\"@HL3tweets:  @CoachAbda Trump is the only candidate who doesn't test his statements before focus groups to be sure no one is offended. True\"\n",
      "29762 \"\"\"@ptarkkonen: \"\"What separates the winners from the losers is how a person reacts to each new twist of fate.\"\" -Donald Trump #leadership\"\"\"\n",
      "38292 \"\"\"@jackgulas: @realDonaldTrump @fitsnews agree with Mr. Trump for @GOP nominee to win in 2016. Can't be Mitt. Bold conservative needed.\"\"\"\n",
      "27232 \"\"\"@Amber_Sadler22: Donald Trump and Mitt Romney would be the most dynamic pres/vp combo in history\"\" No, bad chemistry - I like winning!\"\n",
      "32218 \"\"\"@Trump2016online: Live Stream: Donald Trump Rally in Sarasota, FL Nov 28 - 12:00 PM (EST) https://t.co/OSkVKDRhrr #Trump2016 #RobartsArena\"\n",
      "27236 \"\"\"@PeteDicenSO: @realDonaldTrump we need you in the White House!!!!! #Trump2016\"\"  I agree, thanks!\"\n",
      "26068 \"\"\"@kyle_42120: @realDonaldTrump FOR PRESIDENT. #2016 #RealChange 🇺🇸🇺🇸🇺🇸🇺🇸🇺🇸🇺🇸🇺🇸🇺🇸🇺🇸🇺🇸🇺🇸🇺🇸🇺🇸🇺🇸🇺🇸🇺🇸🇺🇸🇺🇸🇺\"\n",
      "30962 \"\"\"@AndyDubaingltd                       @realDonaldTrump Mr Trump,you were created for our generatıon\"\"  Wow!\"\n",
      "41275 \"\"\"@MariaErnandez3b: Trump Supports Rolling Thunder Rally #TRUMP STRONG https://t.co/pfVXQ8NdZu\"\" So true, and remember the M.I.A.'s!\"\n",
      "27455 \"\"\"@TPM: Donald Trump tells Fox why he doesn't trust Obama on Ebola: Benghazi! http://t.co/kgn4fVLVpB\"\"\"\n",
      "33008 \"\"\"@USATrustTrump: WOW! The More Opponents Push The Higher The #Trump2016 Reach! Keep Pushing DEMS And Jealous GOPs! https://t.co/RaS4FJAsls\"\"\"\n"
     ]
    }
   ],
   "source": [
    "rd.seed(0)\n",
    "x = tweets[(tweets['selfReference'] == 1) & (tweets['isRetweet'] == 'f') & ((tweets['isQuoteTweet'] == 't1') ^ (tweets['isQuoteTweet'] == 't2'))]\n",
    "    \n",
    "for identity in rd.sample(x.index.tolist(), k = 20):\n",
    "    print(identity,x.loc[(identity,'text')])"
   ]
  },
  {
   "cell_type": "code",
   "execution_count": 35,
   "id": "contrary-coffee",
   "metadata": {},
   "outputs": [
    {
     "data": {
      "text/plain": [
       "1.0"
      ]
     },
     "execution_count": 35,
     "metadata": {},
     "output_type": "execute_result"
    }
   ],
   "source": [
    "hit = [1,1,1,1,1,1,1,1,1,1,1,1,1,1,1,1,1,1,1,1]\n",
    "p_sq = sum(hit)/len(hit)\n",
    "p_sq"
   ]
  },
  {
   "cell_type": "markdown",
   "id": "innovative-fancy",
   "metadata": {},
   "source": [
    "#### USA Category Coherence\n",
    "What we are looking for in this category is for the tweet to refer America in some way.  \n",
    "  \n",
    "Example for Positive: (45996: Does the USA want to be the Policeman of the Middle East, getting NOTHING but spending precious lives and trillions of dollars protecting others who, in almost all cases, do not appreciate what we are doing? Do we want to be there forever? Time for others to finally fight.....)  \n",
    "  \n",
    "Example for Negative: (47613: Looking forward to being in the Great State of Ohio on Saturday night where I will be campaigning hard for a truly talented future Congressman, @Troy_Balderson. See you all then! Tickets: https://t.co/8UOykaI8uf https://t.co/jHdtAy5fgj)  \n",
    "In this case, the false positive is due to the use of 'State'."
   ]
  },
  {
   "cell_type": "code",
   "execution_count": 36,
   "id": "departmental-marks",
   "metadata": {},
   "outputs": [
    {
     "name": "stdout",
     "output_type": "stream",
     "text": [
      "45996 Does the USA want to be the Policeman of the Middle East, getting NOTHING but spending precious lives and trillions of dollars protecting others who, in almost all cases, do not appreciate what we are doing? Do we want to be there forever? Time for others to finally fight.....\n",
      "47613 Looking forward to being in the Great State of Ohio on Saturday night where I will be campaigning hard for a truly talented future Congressman, @Troy_Balderson. See you all then! Tickets: https://t.co/8UOykaI8uf https://t.co/jHdtAy5fgj\n",
      "2806 AMERICA FIRST!\n",
      "35657 Via @CBNNews by @TheBrodyFile: “Donald Trump: 'We Must Make America Great Again'”  http://t.co/3tTIu2lnNE\n",
      "53526 As you can see, I did nothing to lead people on, nor was I particularly happy with their chant. Just a very big and patriotic crowd. They love the USA! https://t.co/6IVKEffNnq\n",
      "51856 His lies were made in perhaps the most blatant and sinister manner ever seen in the great Chamber. He wrote down and read terrible things, then said it was from the mouth of the President of the United States. I want Schiff questioned at the highest level for Fraud &amp, Treason.....\n",
      "46835 I applaud and congratulate the U.S. Senate for confirming our GREAT NOMINEE, Judge Brett Kavanaugh, to the United States Supreme Court. Later today, I will sign his Commission of Appointment, and he will be officially sworn in. Very exciting!\n",
      "41075 MAKE AMERICA GREAT AGAIN! MAKE AMERICA SAFE AGAIN!#Trump2016 #AmericaFirst https://t.co/vN4K8FvQNT\n",
      "51331 America First!\n",
      "44636 We will defend our country, protect our communities and put the safety of the AMERICAN PEOPLE FIRST! Replay: https://t.co/dcZxPKOPZ9 https://t.co/0NGiIhGY18\n",
      "27487 \"Can you believe this fool, Dr. Thomas Frieden of CDC, just stated, \"\"anyone with fever should be asked if they have been in West Africa\"\" DOPE\"\n",
      "53232 The FBI, local and state law enforcement are working together in El Paso and in Dayton, Ohio. Information is rapidly being accumulated in Dayton. Much has already be learned in El Paso. Law enforcement was very rapid in both instances. Updates will be given throughout the day!\n",
      "12943 Texarkana Regional Airport has a major grant coming its way from @USDOT. I’m designating $3.6 million to reconstruct its terminal building, in addition to 5 more airport grants around the State. Glad to help the people of Arkansas!\n",
      "39674 The State Department's 'shadow government' #DrainTheSwamp https://t.co/UtbqlGrYJh\n",
      "12963 I am in @AirForceOne_HQ flying to the Great State of Texas. It is AMAZING in watching @FoxNews how different they are from four years ago. Not even watchable. They totally forgot who got them where they are!\n",
      "7849 The National Guard has been activated In Minneapolis. They have arrived on the seen. George Floyd will not have died in vain. Respect his memory!!!\n",
      "34690 We will no longer be silent. We can take our country back! Let’s Make America Great Again! https://t.co/u25yI6aIvG\n",
      "54447 90% of the Drugs coming into the United States come through Mexico &amp, our Southern Border. 80,000 people died last year, 1,000,000 people ruined. This has gone on for many years &amp, nothing has been done about it. We have a 100 Billion Dollar Trade Deficit with Mexico. It’s time!\n",
      "13693 ObamaCare is one of the greatest threats our country faces.  It is unsustainable and will lead America into complete insolvency.\n",
      "41691 Will be spending the day campaigning in Connecticut, another state where jobs are being stolen by other countries. I will stop this fast!\n"
     ]
    }
   ],
   "source": [
    "rd.seed(0)\n",
    "x = tweets[(tweets['usa'] == 1) & (tweets['isRetweet'] == 'f') & (tweets['isQuoteTweet'] == 'f')]\n",
    "    \n",
    "for identity in rd.sample(x.index.tolist(), k = 20):\n",
    "    print(identity,x.loc[(identity,'text')])"
   ]
  },
  {
   "cell_type": "code",
   "execution_count": 37,
   "id": "fatal-cream",
   "metadata": {},
   "outputs": [
    {
     "data": {
      "text/plain": [
       "0.75"
      ]
     },
     "execution_count": 37,
     "metadata": {},
     "output_type": "execute_result"
    }
   ],
   "source": [
    "hit = [1,0,1,1,1,1,1,1,1,1,0,0,1,0,0,1,1,1,1,1]\n",
    "p_ut = sum(hit)/len(hit)\n",
    "p_ut"
   ]
  },
  {
   "cell_type": "code",
   "execution_count": 38,
   "id": "yellow-window",
   "metadata": {},
   "outputs": [
    {
     "name": "stdout",
     "output_type": "stream",
     "text": [
      "12540 RT @dbongino: ANTIFA is a fascist terror-group committed to bringing fascism to the United States by whatever means necessary.\n",
      "40504 RT @DRUDGE_REPORT: 'Win-lose deal that benefits Iran and hurts United States'... https://t.co/zqpeNCouXc\n",
      "1607 RT @LouDobbs: Reopening America: President @realDonaldTrump says ‘we’re not shutting down’ our country and economy again. #MAGA #AmericaFir…\n",
      "8880 RT @WhiteHouse: Over the weekend, the number of daily new infections remained flat.\n",
      "\n",
      "Thanks to the efforts of every American, our strategie…\n",
      "50450 RT @IvankaTrump: It is an honor to serve our great Country and fight for America’s workers! 🇺🇸 https://t.co/ZAhfkqDII8\n",
      "49752 RT @Mike_Pence: Electric crowd here tonight in the Keystone State! Pennsylvania and American know that to #KeepAmericaGreat we need FOUR MO...\n",
      "13095 RT @TeamTrump: President @realDonaldTrump to the people of Pennsylvania: I’ll never let you down and we will continue to put America First!…\n",
      "10173 RT @BreitbartNews: Every American needs to see Joe Biden's latest brain freeze. https://t.co/CfrrHRElfy\n",
      "49271 \"RT @FoxNews: .@KellyannePolls: \"\"Since @POTUS took office, 863,000 new jobs were filled by women. Over half a million American women have en...\"\n",
      "11645 RT @ColumbiaBugle: Donald Trump was not elected to be “nice” or “polite” to the enemies of the American people.\n",
      "53524 RT @GOPLeader: American optimism is at its highest level in more than a decade! https://t.co/1VWu6rtAtP\n",
      "7695 RT @Pismo_B: Good Morning America 🇺🇸\n",
      "\n",
      "https://t.co/fYsRHj4AnT\n",
      "50086 \"RT @WhiteHouse: \"\"THEREFORE, I, DONALD J. TRUMP, President of the United States of America, by virtue of the authority vested in me by the C...\"\n",
      "5447 RT @mikandynothem: Happy Birthday Mr. President!\n",
      "America is blessed beyond measure to have you in the White House. You're promoting all tha…\n",
      "9510 RT @kilmeade: TONIGHT the newest episode of \"What Made America Great\" premieres at 10pm ET on @FoxNews Channel! I visited the White House t…\n",
      "5471 RT @DrewCHudson: Nancy Pelosi ripping up the State of the Union speech...I assume she planned to throw the trash on the sidewalk, given the…\n",
      "4031 RT @WhiteHouse: \"As long as I am President of the United States, Iran will never be allowed to have a nuclear weapon.\" https://t.co/7lzGY5f…\n",
      "55237 RT @SenKevinCramer: Created under the Tax Cuts and Jobs Act, Opportunity Zones help lift low income Americans out of poverty by encouraging...\n",
      "8671 RT @realDonaldTrump: Crossing State lines to incite violence is a FEDERAL CRIME! Liberal Governors and Mayors must get MUCH tougher or the…\n",
      "51181 RT @VP: While Dems in Congress have been trying to overturn the will of the American people by reversing Election Day 2016, our Admin will...\n"
     ]
    }
   ],
   "source": [
    "rd.seed(0)\n",
    "x = tweets[(tweets['usa'] == 1) & (tweets['isRetweet'] == 't') & (tweets['isQuoteTweet'] == 'f')]\n",
    "    \n",
    "for identity in rd.sample(x.index.tolist(), k = 20):\n",
    "    print(identity,x.loc[(identity,'text')])"
   ]
  },
  {
   "cell_type": "code",
   "execution_count": 39,
   "id": "congressional-coach",
   "metadata": {},
   "outputs": [
    {
     "data": {
      "text/plain": [
       "0.9"
      ]
     },
     "execution_count": 39,
     "metadata": {},
     "output_type": "execute_result"
    }
   ],
   "source": [
    "hit = [1,1,1,1,1,1,1,1,1,1,1,0,1,1,1,1,1,1,0,1]\n",
    "p_ur = sum(hit)/len(hit)\n",
    "p_ur"
   ]
  },
  {
   "cell_type": "code",
   "execution_count": 40,
   "id": "needed-validation",
   "metadata": {},
   "outputs": [
    {
     "name": "stdout",
     "output_type": "stream",
     "text": [
      "41427 \"\"\"@wesleyfelixpsi: @realDonaldTrump speaks from the heart 4 all of America.His intention is for a positive future 4 all. @FoxNews @megynkelly\"\n",
      "32080 \"\"\"@bjmgraphics:  @MarkHalperin Trump understands freedom needs defending with full heart and diligence. He will fight for America!\"\n",
      "37229 \"\"\"@IndyBuffaloJim @greta I remember visiting that building a real jewel I am proud of Donald once again stepping up to make America Beautiful\"\n",
      "32678 \"\"\"@svn2hd: @realDonaldTrump Crippled AMERICA is a must read. So right. Great job on another best seller.\"\"\"\n",
      "19276 \"\"\"@RandyMinshew: America needs a brilliant patriot like @realDonaldTrump to guide this country!\"\"  Thank you!\"\n",
      "28538 \"\"\"@LindaBales1: \"\"@gretawire: .@realDonaldTrump just said, \"\"Mexico is called the highway to the United States\"\" #BorderCrisis\"\"\"\" True!\"\n",
      "34218 \"\"\"@iuhoops2015 @realDonaldTrump it should be an honor and a privilege to be in this country. Not a right. Make America great again! \"\"\"\n",
      "33772 \"\"\"@DaveInKeno: Mr. Trump, Sir, this country is, and has been, on a path of self destruction and needs you to MAKE AMERICA GREAT AGAIN!\"\"\"\n",
      "32436 \"\"\"@760_831: @DanSaltsman @realDonaldTrump @MichaelCohen212 @IvankaTrump  I have faith he will win and save America\"\"\"\n",
      "37579 \"\"\"@rosenavy5:  @MCLAUGHLlN I would vote for Donald Trump! ! A true American who understands business and stands by American people!\"\n",
      "40610 \"\"\"@patrioticpepe: @realDonaldTrump ONLY TRUMP CAN UNITE AMERICA AND FIX OBAMA'S MISTAKES!!! #Trump2016 https://t.co/yB72Bm2muM\"\"\"\n",
      "29591 \"\"\"@nklaeger We need a successful business person to upright the USA...no rookies. Trump is the man to do it!\"\"  Thanks, I agree!\"\n",
      "33488 \"\"\"@tvegan: DonaldTrump your kicking everyone's ASS! always believed in this Country ! your going to make America Great Again ! Mr President!\"\n",
      "31406 \"\"\"@PREACHPALERIDER:  begged you 3 years ago to run for pres....2016 is America's last shot before descent into darkness...consider it now.\"\"\"\n",
      "35028 \"\"\"@MARGIE352: @Highlander6700 @Macys They were taken out of context. Trying to make him look bad to the American Hispanic community.\"\"\"\n",
      "27184 \"\"\"@REALtesswilson: @realDonaldTrump is the smartest businessman in America\"\"  Thank you.\"\n",
      "34041 \"\"\"@crstin0516: @DanScavino @keraladubai @realDonaldTrump That chant gave me sweet, sweet chills!! #USA 🇺🇸 #America\"\"\"\n",
      "25845 \"\"\"@twinroj: @realDonaldTrump im british but i sure would vote for you if i was american #Trump2016\"\"\"\n",
      "29088 \"\"\"@oddi_donovan_99: You're a big thinker, and one of a kind... go for President of USA @realDonaldTrump .\"\n",
      "25848 \"\"\"@hwpal: @realDonaldTrump Voting for DonaldTrump16 is voting for the essence of being American &amp,the value of great capitalism #trump16\"\"\"\n"
     ]
    }
   ],
   "source": [
    "rd.seed(0)\n",
    "x = tweets[(tweets['usa'] == 1) & (tweets['isRetweet'] == 'f') & ((tweets['isQuoteTweet'] == 't1') ^ (tweets['isQuoteTweet'] == 't2'))]\n",
    "    \n",
    "for identity in rd.sample(x.index.tolist(), k = 20):\n",
    "    print(identity,x.loc[(identity,'text')])"
   ]
  },
  {
   "cell_type": "code",
   "execution_count": 41,
   "id": "ecological-favor",
   "metadata": {},
   "outputs": [
    {
     "data": {
      "text/plain": [
       "1.0"
      ]
     },
     "execution_count": 41,
     "metadata": {},
     "output_type": "execute_result"
    }
   ],
   "source": [
    "hit = [1,1,1,1,1,1,1,1,1,1,1,1,1,1,1,1,1,1,1,1]\n",
    "p_uq = sum(hit)/len(hit)\n",
    "p_uq"
   ]
  },
  {
   "cell_type": "markdown",
   "id": "confident-mechanism",
   "metadata": {},
   "source": [
    "#### Government Category Coherence\n",
    "Here what we are looking for is for the tweet to refer to the US government in some way.  \n",
    "\n",
    "A Positive Example is: (44878: Democrats purposely misstated Medicaid under new Senate bill - actually goes up. https://t.co/necCt4K6UH)  \n",
    "\n",
    "A Negative Example is: (17362: \"\"\"Imagine how much stronger economic shape we would be in if we made the Iraqi government agree to a cost-sharing (cont) http://t.co/Zf2pEO80\")"
   ]
  },
  {
   "cell_type": "code",
   "execution_count": 42,
   "id": "thirty-ratio",
   "metadata": {},
   "outputs": [
    {
     "name": "stdout",
     "output_type": "stream",
     "text": [
      "43520 This week, the Senate can join the House &amp, take a strong stand for the Middle Class families who are the backbone of America. Together, we will give the American people a big, beautiful Christmas present-a massive tax cut that lets Americans keep more of their HARD-EARNED MONEY! https://t.co/9jddEW2Oo5\n",
      "44878 Democrats purposely misstated Medicaid under new Senate bill - actually goes up. https://t.co/necCt4K6UH\n",
      "3213 Interesting? By Congress not wanting the special 5 minute testing apparatus, they are saying that they are not “essential”.  In any event, we have great testing capacity, and have performed 6.5 million tests, which is more than every country in the world, combined!\n",
      "17995 Naghmeh Abedini, the lovely wife of the Christian Pastor Saeed being held in an Iranian jail, just left my office. #savesaeed\n",
      "47647 The Fake News Media is going CRAZY! They are totally unhinged and in many ways, after witnessing first hand the damage they do to so many innocent and decent people, I enjoy watching. In 7 years, when I am no longer in office, their ratings will dry up and they will be gone!\n",
      "46989 “We can’t secure the Border because of the Democrats historic level of Obstruction. The Presidents fed up with this. His agenda is working. The economy is growing at twice the rate it did under Obama. We’ve nominated and confirmed 68 Federal Judges, 26 Court of Appeals Judges....\n",
      "44416 James Clapper, who famously got caught lying to Congress, is now an authority on Donald Trump. Will he show you his beautiful letter to me?\n",
      "27040 Jeanne Shaheen was the deciding vote for ObamaCare. Premiums have skyrocketed 90% for New Hampshire. Send @SenScottBrown to the Senate!\n",
      "46671 Will be landing soon. Looking forward to seeing our next Senator from Montana, Matt Rosendale. He will represent our Country well, far better than Jon Tester who will vote with Cryin’ Chuck Schumer and Nancy Pelosi - never with us!\n",
      "40292 Just landed in Iowa to attend a great event in honor of wonderful Senator @JoniErnst. Look forward to being with all of my friends.\n",
      "49576 The last time I spoke to Debbie Dingell was her call thanking me for granting top memorial and funeral service honors for her then just departed husband, long time Congressman John Dingell. Now I watch her ripping me as part of the Democrats Impeachment Hoax. Really pathetic!\n",
      "14079 \"\"\"Increasing America’s debt weakens us domestically and internationally.\"\" - US Senator @BarackObama, 2007\"\n",
      "47503 Pete Stauber is running for Congress in Minnesota. He will make for a great Congressman. Pete is strong on crime and borders, loves our Military, Vets and Second Amendment. Vote for Pete tomorrow. He has my full and total Endorsement!\n",
      "8464 So interesting to see all of these people I beat so badly, pundits &amp; consultants that never had a chance, telling me how to run for office. Many are Republicans who should LOVE our 280 new Judges, rebuilt Military, 2A, great V.A. Low Taxes, etc. Just don’t like that I beat them!\n",
      "20375 Do as I say, not as I do. Obama just granted a special ObamaCare exemption for all Congress http://t.co/iy34KnpowZ All are hypocrites!\n",
      "8484 Remember this, every Governor who has sky high approval on their handling of the Coronavirus, and I am happy for them all, could in no way have gotten those numbers, or had that success, without me and the Federal Governments help. From Ventilators to Testing, we made it happen!\n",
      "5926 To those families and citizens who are worried and concerned for themselves and their loved ones, I want you to know that your Federal Government will unleash every authority, resource and tool at its disposal to safeguard the lives and health of our people. https://t.co/uVDY12vXAM\n",
      "51296 You would think there is NO WAY that any of the Democrat Candidates that we witnessed last night could possibly become President of the United States. Now you see why they have no choice but to push a totally illegal &amp, absurd Impeachment of one of the most successful Presidents!\n",
      "17362 \"\"\"Imagine how much stronger economic shape we would be in if we made the Iraqi government agree to a cost-sharing (cont) http://t.co/Zf2pEO80\"\n",
      "48376 A.P. has just reported that the Russian Hoax Investigation has now cost our government over $17 million, and going up fast. No Collusion, except by the Democrats!\n"
     ]
    }
   ],
   "source": [
    "rd.seed(0)\n",
    "x = tweets[(tweets['government'] == 1) & (tweets['isRetweet'] == 'f') & (tweets['isQuoteTweet'] == 'f')]\n",
    "    \n",
    "for identity in rd.sample(x.index.tolist(), k = 20):\n",
    "    print(identity,x.loc[(identity,'text')])"
   ]
  },
  {
   "cell_type": "code",
   "execution_count": 43,
   "id": "spanish-setup",
   "metadata": {},
   "outputs": [
    {
     "data": {
      "text/plain": [
       "0.95"
      ]
     },
     "execution_count": 43,
     "metadata": {},
     "output_type": "execute_result"
    }
   ],
   "source": [
    "hit = [1,1,1,1,1,1,1,1,1,1,1,1,1,1,1,1,1,1,0,1]\n",
    "p_gt = sum(hit)/len(hit)\n",
    "p_gt"
   ]
  },
  {
   "cell_type": "code",
   "execution_count": 44,
   "id": "minor-college",
   "metadata": {},
   "outputs": [
    {
     "name": "stdout",
     "output_type": "stream",
     "text": [
      "54055 RT @VP: Mexico has done more to secure our border in 10 days than Democrats in Congress have in 10 YEARS. The time to put Americans first i...\n",
      "9347 RT @WhiteHouse: The Federal government has ordered and shipped hundreds of millions of PPE items around the country. https://t.co/bVD3SyuXas\n",
      "51186 RT @GOP: It's no surprise that far-left Democrats like Alexandria Ocasio-Cortez and Illhan Omar support Senator Bernie Sanders for Presiden...\n",
      "55811 \"RT @WhiteHouse: “Public optimism in their personal economy has hit a 16-year high under President Trump.\"\"“The job market doesn’t get much...\"\n",
      "10266 RT @ChadPergram: McConnell says Senate coronavirus bill includes\n",
      "•More federally-expanded unemployment benefits for laid-off Americans\n",
      "•An…\n",
      "1642 RT @Rothbard1776: BREAKING: @SidneyPowell1 \"There is no telling how many Congressional &amp; Senate seats, and even Governorships, we've lost b…\n",
      "7013 RT @RealSLokhova: Whoa Congress was briefed on @GenFlynn original 302 which is now “missing”\n",
      "12202 RT @WhiteHouse: LIVE: President @realDonaldTrump delivers remarks on lowering drug prices https://t.co/RfHCwpgRCp\n",
      "11710 RT @realDonaldTrump: Getting VERY good reviews of the job the Federal Government is doing on CoronaVirus. Ventilators, building hospitals,…\n",
      "9939 RT @WhiteHouse: LIVE: Press Briefing with Coronavirus Task Force https://t.co/Ciwe6T4Dr2\n",
      "51986 RT @DonaldJTrumpJr: Are you saying the Democrats started an all out move towards impeachment without even seeing the transcript? https://t....\n",
      "53307 RT @senatemajldr: I spoke on the Senate floor today about my extensive record of standing up to Russia, election security, and why we won’t...\n",
      "7863 RT @SenJohnBarrasso: Since @realDonaldTrump took office, we’ve added 7 million new jobs, consumer confidence &amp; the stock market are at all-…\n",
      "11394 RT @Surabees: The radical Biden/Bernie Sanders climate plan would crush unions and kill middle-class American jobs. \n",
      "\n",
      "Washington Examiner:…\n",
      "8874 RT @JimInhofe: The precedent here is clear. In the case of a united government, with voters having elected a Senate and White House of the…\n",
      "46291 RT @WhiteHouse: President @realDonaldTrump is traveling to California to meet with those impacted by the devastating wildfires. Learn how t...\n",
      "55900 \"RT @WhiteHouse: President Trump's message to those affected by the tornadoes in the Gulf states: \"\"We grieve by your side and we pledge our...\"\n",
      "5878 RT @LevinTV: The Dems Have No Case\n",
      "\n",
      "It is clear to any person that this impeachment is a purely political sham\n",
      "\n",
      "Tonight we've got another F…\n",
      "12010 RT @paulsperry_: Comey refutes Senators' assertion he spied on Trump, when in fact he sent Pientka to surveil Trump at a security briefing…\n",
      "4665 RT @RepAndyBiggsAZ: Democrats also conveniently gloss over fact that, under @realDonaldTrump's administration, Ukraine received lethal mili...\n"
     ]
    }
   ],
   "source": [
    "rd.seed(0)\n",
    "x = tweets[(tweets['government'] == 1) & (tweets['isRetweet'] == 't') & (tweets['isQuoteTweet'] == 'f')]\n",
    "    \n",
    "for identity in rd.sample(x.index.tolist(), k = 20):\n",
    "    print(identity,x.loc[(identity,'text')])"
   ]
  },
  {
   "cell_type": "code",
   "execution_count": 45,
   "id": "considered-nickel",
   "metadata": {},
   "outputs": [
    {
     "data": {
      "text/plain": [
       "0.95"
      ]
     },
     "execution_count": 45,
     "metadata": {},
     "output_type": "execute_result"
    }
   ],
   "source": [
    "hit = [1,1,1,1,1,1,1,1,1,1,1,1,1,0,1,1,1,1,1,1]\n",
    "p_gr = sum(hit)/len(hit)\n",
    "p_gr"
   ]
  },
  {
   "cell_type": "code",
   "execution_count": 46,
   "id": "discrete-kuwait",
   "metadata": {},
   "outputs": [
    {
     "name": "stdout",
     "output_type": "stream",
     "text": [
      "28796 \"\"\"@seaopdet1: Stand up and help us Trump!!! Please!!! Someone with some clout needs to do something to get the madman out of office!\"\"\"\n",
      "40430 \"\"\"@SheriffClarke: https://t.co/G9R9CGhf8q Everything coming from this administration is a lie. Only @realDonaldTrump will change it\"\"\"\n",
      "29170 \"\"\"@myjr54: @realDonaldTrump run for president. I wanna deal maker in office.\"\"\"\n",
      "19042 \"\"\"@jj10471  @realDonaldTrump if you were in office this would of never happen #trump2016\"\"  True!\"\n",
      "26577 \"\"\"@GhostOfXerxes: @realDonaldTrump We need you to bring common sense to Washington DC...in 2016, the White House gets \"\"Trumped\"\"!\"\n",
      "31045 \"\"\"@michelleneuf: @realDonaldTrump  We need you and Giuliani in Whitehouse. We need a crime fighter who knows crime!!! And your creativity.\"\"\"\n",
      "30026 \"\"\"@Thayne_Spinks: If I don't see @realDonaldTrump in office in the next decade, I am moving costal and never returning. We need a leader.\"\n",
      "29029 \"\"\"@InTheElections: @TheRealHOodRept @realDonaldTrump The Obama administration is the American disaster, TRUMP 2016 is the solution.\"\" So true!\"\n",
      "42743 \"\"\"@Enlighten2881: @ukcatwoman52 @ericnlin @AC360 How come Rubio&amp,Cruz are going to turn America around but did nothing in the Senate for USA?\"\"\"\n",
      "27529 \"\"\"@Dundee_Tam: @realDonaldTrump @dollymund yes Mr. Trump please run for the Oval Office and help bring the USA back to prominence.\"\"\"\n",
      "29946 \"\"\"@musedSUCCESS: @realDonaldTrump We need a business oriented man in office! RUN! You've got my vote!\"\"\"\n",
      "28340 \"\"\"@Mega_Murph_: We need smart people like @realDonaldTrump in office -  he can get America back on it's feet\"\"\"\n",
      "34509 \"\"\"@fedupwithgovern: Congress Can't Find Money for Veterans *Houses, Feeds, Educates, Provide Drs for illegals *Gives Iran over $200 Billion\"\"\"\n",
      "26113 \"\"\"@lindsey_shanks: #Donald  bought my favorite #dc building. New hotel coming in 2016 to #PennAve @ Old Post Office... http://t.co/sXkq5TRrNB\"\n",
      "30659 \"\"\"@meade1214 @realDonaldTrump trump for office!! He's a good man!\"\" I am?\"\n",
      "21341 \"\"\"@TeaPartyHub: Infuriating that our government buys our flags from China! Such disrespect! http://t.co/JJ4bjbjZ0J @WashingtonDCTea\"\n",
      "27188 \"\"\"@MELANIATRUMP: Good night Washington D.C. 🇺🇸 http://t.co/cS2XfGVjnH\"\"\"\n",
      "38658 \"\"\"@BNicehouse: @realDonaldTrump GET THIS LUNATIC OUT OF OFFICE RUN FOR PRESIDENT!\"\"\"\n",
      "19571 \"\"\"@GarryGreiner: @realDonaldTrump We should send Obama and Congress to Syria!\"\"\"\n",
      "35707 \"\"\"@BlueWaterDays: Would rather have a dynamic, experienced businessman than a corrupt professional politician in the oval office DonaldTrump\"\"\"\n"
     ]
    }
   ],
   "source": [
    "rd.seed(0)\n",
    "x = tweets[(tweets['government'] == 1) & (tweets['isRetweet'] == 'f') & ((tweets['isQuoteTweet'] == 't1') ^ (tweets['isQuoteTweet'] == 't2'))]\n",
    "    \n",
    "for identity in rd.sample(x.index.tolist(), k = 20):\n",
    "    print(identity,x.loc[(identity,'text')])"
   ]
  },
  {
   "cell_type": "code",
   "execution_count": 47,
   "id": "competent-outline",
   "metadata": {},
   "outputs": [
    {
     "data": {
      "text/plain": [
       "1.0"
      ]
     },
     "execution_count": 47,
     "metadata": {},
     "output_type": "execute_result"
    }
   ],
   "source": [
    "hit = [1,1,1,1,1,1,1,1,1,1,1,1,1,1,1,1,1,1,1,1]\n",
    "p_gq = sum(hit)/len(hit)\n",
    "p_gq"
   ]
  },
  {
   "cell_type": "markdown",
   "id": "interstate-indonesian",
   "metadata": {},
   "source": [
    "#### Democratic Category Coherence\n",
    "For the democratic category, we are just looking for the tweet to mention the democratic party, or one of its members.  \n",
    "Postive Example: (28382: If only the illegals were Tea Party members then Obama would get them out of the country immediately.)  "
   ]
  },
  {
   "cell_type": "code",
   "execution_count": 48,
   "id": "social-philosophy",
   "metadata": {},
   "outputs": [
    {
     "name": "stdout",
     "output_type": "stream",
     "text": [
      "28382 If only the illegals were Tea Party members then Obama would get them out of the country immediately.\n",
      "56270 Former FBI top lawyer James Baker just admitted involvement in FISA Warrant and further admitted there  were IRREGULARITIES in the way the Russia probe was handled. They relied heavily on the unverified Trump “Dossier” paid for by the DNC &amp, Clinton Campaign, &amp, funded through a...\n",
      "36044 I am the BEST builder, just look at what I've built. Hillary can't build. Republican candidates can't build. They don't have a clue!\n",
      "3241 The Democrat Party has given up on counting votes in Iowa. Looks like it all got computer “fried”. Nobody knows who the real winner is. Maybe it’s Sleepy Joe, but it’s not looking that way. They lost millions &amp; millions of dollars, all for NOTHING. But I WON Iowa big!\n",
      "16651 The Amateur! First @BarackObama was caught bowing to the Saudi King but now the President of Mexico!  http://t.co/f0CFiUS9\n",
      "43325 While the Fake News loves to talk about my so-called low approval rating, @foxandfriends just showed that my rating on Dec. 28, 2017, was approximately the same as President Obama on Dec. 28, 2009, which was 47%...and this despite massive negative Trump coverage &amp, Russia hoax!\n",
      "41060 Obama-Clinton inherited $10T in debt and turned it into nearly $20T.  They have bankrupted... https://t.co/1COtt0RPY7\n",
      "31704 When I said that Hillary Clinton got schlonged by Obama, it meant got beaten badly. The media knows this. Often used word in politics!\n",
      "17893 Alternatives are important but first Repubs must repeal ObamaCare. It's an unsustainable monstrosity that's destroying our healthcare.\n",
      "40857 To all the Bernie voters who want to stop bad trade deals &amp, global special interests, we welcome you with open arms. People first.\n",
      "25484 Can you imagine if Obama had to give today's press conference before the election? He would have lost.  @GOP really blew it.\n",
      "47519 .@JudgeJeanine  “Bob Mueller, isn’t your whole investigation premised on a Fake Dossier, paid for by Hillary, created by a man who hates Donald Trump, &amp, used to con a FISA Court Judge. Bob, I really think it’s time for you to give up your phony investigation.” No Collusion!\n",
      "15817 Weekly jobless claims are up once again. The economy cannot recover with Obama in office.\n",
      "42429 Ted Cruz is lying again. Polls are showing that I do beat Hillary Clinton head to head. Check out https://t.co/45g7qpxq7T Poll snd Q Poll.\n",
      "12242 “You see it in enthusiasm for the President outside Walter Reed Hospital. You see it in Registrations, from Florida to Pennsylvania &amp; West Virginia, where Republicans are outstripping Democrats by 2 to 1. If the President bounces back onto the campaign trail, he will be an....\n",
      "17275 @BarackObama has wasted billions of our tax dollars on speculative green projects like Solyndra. He is an economic ignoramus.\n",
      "12255 The Democrats will open up their states on November 4th, the day after the Election. These shutdowns are ridiculous, and only being done to hurt the economy prior to the most important election, perhaps, in our history! #MAGA\n",
      "56159 Democrats at the top are killing the Great State of Virginia. If the three failing pols were Republicans, far stronger action would be taken. Virginia will come back HOME Republican) in 2020!\n",
      "8238 Mayor Jacob Frey of Minneapolis will never be mistaken for the late, great General Douglas McArthur or great fighter General George Patton. How come all of these places that defend so poorly are run by Liberal Democrats? Get tough and fight (and arrest the bad ones). STRENGTH!\n",
      "48945 Wow, watch Comey lie under oath to Senator G when asked “have you ever been an anonymous source...or known someone else to be an anonymous source...?” He said strongly “never, no.” He lied as shown clearly on @foxandfriends.\n"
     ]
    }
   ],
   "source": [
    "rd.seed(0)\n",
    "x = tweets[(tweets['democrates'] == 1) & (tweets['isRetweet'] == 'f') & (tweets['isQuoteTweet'] == 'f')]\n",
    "    \n",
    "for identity in rd.sample(x.index.tolist(), k = 20):\n",
    "    print(identity,x.loc[(identity,'text')])"
   ]
  },
  {
   "cell_type": "code",
   "execution_count": 49,
   "id": "distant-salvation",
   "metadata": {},
   "outputs": [
    {
     "data": {
      "text/plain": [
       "1.0"
      ]
     },
     "execution_count": 49,
     "metadata": {},
     "output_type": "execute_result"
    }
   ],
   "source": [
    "hit = [1,1,1,1,1,1,1,1,1,1,1,1,1,1,1,1,1,1,1,1]\n",
    "p_dt = sum(hit)/len(hit)\n",
    "p_dt"
   ]
  },
  {
   "cell_type": "code",
   "execution_count": 50,
   "id": "nonprofit-tribune",
   "metadata": {},
   "outputs": [
    {
     "name": "stdout",
     "output_type": "stream",
     "text": [
      "51181 RT @VP: While Dems in Congress have been trying to overturn the will of the American people by reversing Election Day 2016, our Admin will...\n",
      "8599 RT @ScottPresler: Ladies &amp; gentlemen, \n",
      "\n",
      "I present to you: The democrat presidential candidate. \n",
      "\n",
      "“We have never, never let our democracy sa…\n",
      "50216 RT @parscale: Adam Schiff is running the Democrat sham impeachment but now it’s time you got your say!BULL-SCHIFF!Get your 100% cotton...\n",
      "51986 RT @DonaldJTrumpJr: Are you saying the Democrats started an all out move towards impeachment without even seeing the transcript? https://t....\n",
      "9218 \"RT @GOPChairwoman: \"\"Wages are advancing at about a 3.7 percent annual pace after falling to 2.5 percent during the final years of the Obama...\"\n",
      "1138 RT @RepMattGaetz: President Trump should pardon Flynn, the Thanksgiving turkey, and everyone from himself, to his admin, to Joe Exotic if h…\n",
      "6136 RT @dbongino: Short List of Debunked Democrat Hoaxes:\n",
      "1) Russian collusion ❌\n",
      "2) Ukrainian quid pro quo ❌\n",
      "3) the Steele dossier❌\n",
      "4) the pee…\n",
      "55185 RT @GOPChairwoman: Joe Biden literally can’t hide from the economic successes of @realDonaldTrump’s administration.  Biden chose Pennsylv...\n",
      "11027 RT @SexCounseling: @realDonaldTrump @foxandfriends Schiff is a congenital liar that has done nothing positive for the American people.\n",
      "10652 RT @TeamTrump: President @realDonaldTrump on Joe Biden calling to end systemic racism: He's been in Washington for 43 years, why hasn’t he…\n",
      "9028 RT @SenJohnThune: Despite the Dem-led misinformation campaign, filling this SCOTUS seat follows historical Senate norms. There is a differe…\n",
      "53414 RT @senatemajldr: The agreement between the Administration and Speaker Pelosi continues to fund the military at appropriate levels, contain...\n",
      "50516 RT @GreggJarrett: Here’s Why The Justice Department Must Investigate Joe Biden’s “Quid Pro Quo” https://t.co/EknlC5mWnX\n",
      "51047 RT @bopinion: Of Wisconsin’s 72 counties, 23 switched from voting for Obama in 2012 to Trump in 2016 https://t.co/4E0xFLZwlF https://t.co/f...\n",
      "6882 RT @BMcAdory9: President @realDonaldTrump is leading 5 Democrats for the 2020 presidential election , according to a @USATODAY/ @Suffolk_U...\n",
      "55193 RT @GOPoversight: Democrats are obsessed with @realDonaldTrump. It's time to move on and solve problems for the American people. https://t....\n",
      "10342 RT @wdunlap: @JoeBiden Failed ObamaCare cost the average American family $5,000 more per year -over doubling our healthcare insurance costs…\n",
      "8035 RT @RandPaul: 36 hours of ad hominem attacks by Schiff et al can’t erase the irony that the Democrats are doing exactly what they accuse @r…\n",
      "12613 RT @ErinMPerrine: MUST READ THREAD on Joe Biden’s “peaceful protesters”\n",
      "51992 RT @RealSaavedra: NEW: Democrat Senators reached out to Ukraine in May 2018 and asked for their assistance in investigating Trump“In the...\n"
     ]
    }
   ],
   "source": [
    "rd.seed(0)\n",
    "x = tweets[(tweets['democrates'] == 1) & (tweets['isRetweet'] == 't') & (tweets['isQuoteTweet'] == 'f')]\n",
    "    \n",
    "for identity in rd.sample(x.index.tolist(), k = 20):\n",
    "    print(identity,x.loc[(identity,'text')])"
   ]
  },
  {
   "cell_type": "code",
   "execution_count": 51,
   "id": "effective-filing",
   "metadata": {},
   "outputs": [
    {
     "data": {
      "text/plain": [
       "1.0"
      ]
     },
     "execution_count": 51,
     "metadata": {},
     "output_type": "execute_result"
    }
   ],
   "source": [
    "hit = [1,1,1,1,1,1,1,1,1,1,1,1,1,1,1,1,1,1,1,1]\n",
    "p_dr = sum(hit)/len(hit)\n",
    "p_dr"
   ]
  },
  {
   "cell_type": "code",
   "execution_count": 52,
   "id": "finite-royalty",
   "metadata": {},
   "outputs": [
    {
     "name": "stdout",
     "output_type": "stream",
     "text": [
      "41391 \"\"\"@ShoneeP: @realDonaldTrump Trump for President! Bernie is a joke, knows nothing - and Hillary is yesterday's and today's nightmare\"\"\"\n",
      "29742 \"\"\"@wisdomforwomen: “@realDonaldTrump: The Obama administration gives better medical care to Al Qaeda at Gitmo than to our vets.”  True!\"\n",
      "37603 \"\"\"@txblondegrad: @realDonaldTrump is the only candidate for president that can beat Hillary and turn this country around.\"\" I agree!\"\n",
      "31009 \"\"\"@Reagan_Nation: Michael Savage: Donald Trump Is The Only Republican That Can Beat Hillary http://t.co/auow8YX1sO\"\" Thank you Michael!\"\n",
      "18962 \"\"\"@jacadere: @foxandfriends @realDonaldTrump Mr.Trump is right again. The Republicans need to stick together and let the Dems be blamed.\"\n",
      "27356 \"\"\"@BobDayTGAS:  @NassarInvesting @BarackObama I would walk barefoot and naked on a mile of broken glass n snakes to cast my vote for TRUMP!\"\"\"\n",
      "32940 \"\"\"@curtismuddog:  @ByronYork Latest Poll shows Donald Trump winning 70% of Electoral Vote Against Hillary Clinton! https://t.co/OT98Y8f0GE\"\"\"\n",
      "32658 \"\"\"@marklindsay78: @Hanan_Khan2 @realDonaldTrump poll numbers are higher then most think, no one is asking Democrats if they are voting Trump\"\"\"\n",
      "30491 \"\"\"@TristacksEff: @realDonaldTrump would bring us back from this mess @BarackObama put us in. #RunForPresident #2016\"\"  True!\"\n",
      "38569 \"\"\"@ZachAdkinsZ: @realDonaldTrump You should totally run for president. I don't think Hillary has what it takes.\"\"\"\n",
      "40969 \"\"\"@Gengm7: @jakeda @realDonaldTrump As of April this year, Hillary had spent $264,000,000 on her campaign Mr.Trump $55,000,000. self funding\"\"\"\n",
      "28247 \"\"\"@SuptSims  it's scary to think we have Obama for 2 more years. we need a leader like you to change the course of this nation!\"\" Thank you.\"\n",
      "32560 \"\"\"@Watchman4the1: Chuck Schumer: Sen Marco Rubio Is “Totally Committed To Obama’s Immigration Agenda” https://t.co/yieqFMRxwH DonaldTrump\"\n",
      "29225 \"\"\"@DonnieHoward2: @realDonaldTrump I'm a Democrat and I'd vote for you in a second.\"\" Thanks.\"\n",
      "34358 \"\"\"@USARestoring: @HillaryClinton's toast. Dems had better get the\"\"B Team\"\" off the bench. @TGowdySC for Attorney General under President Trump\"\n",
      "26870 \"\"\"@TheRealZach49: @realDonaldTrump can't wait for you to take over this country and rebuild what Obama destroyed\"\"\"\n",
      "32923 \"\"\"@hoosierclinger: Good job @realDonaldTrump for badgering Ford. Why didnt POTUS or Hillary care about those UAW jobs in Ohio?\"\"\"\n",
      "22342 \"\"\"@JoshRosenfield: .@realDonaldTrump And yet he refuses to release his IQ results to the public. WHAT ARE YOU HIDING, MR. TRUMP.\"\" Ask Obama!\"\n",
      "27742 \"\"\"@ThissenRolf: @realDonaldTrump i'm a german social democrat, but don, go for president. I want to see real competition\"\"\"\n",
      "37356 \"\"\"@Jack_P_Ivory: @realDonaldTrump is the only person alive who could clean up the mess Obama left us.\"\"  True!\"\n"
     ]
    }
   ],
   "source": [
    "rd.seed(0)\n",
    "x = tweets[(tweets['democrates'] == 1) & (tweets['isRetweet'] == 'f') & ((tweets['isQuoteTweet'] == 't1') ^ (tweets['isQuoteTweet'] == 't2'))]\n",
    "    \n",
    "for identity in rd.sample(x.index.tolist(), k = 20):\n",
    "    print(identity,x.loc[(identity,'text')])"
   ]
  },
  {
   "cell_type": "code",
   "execution_count": 53,
   "id": "temporal-terrorist",
   "metadata": {},
   "outputs": [
    {
     "data": {
      "text/plain": [
       "1.0"
      ]
     },
     "execution_count": 53,
     "metadata": {},
     "output_type": "execute_result"
    }
   ],
   "source": [
    "hit = [1,1,1,1,1,1,1,1,1,1,1,1,1,1,1,1,1,1,1,1]\n",
    "p_dq = sum(hit)/len(hit)\n",
    "p_dq"
   ]
  },
  {
   "cell_type": "markdown",
   "id": "silver-paper",
   "metadata": {},
   "source": [
    "#### Republican Category Coherence\n",
    "For the Republican category, we are looking for tweets to mention the Republican party, or one of its members.  \n",
    "Postive Example: (36508: The Republican Party will become “The Party of Healthcare!”)  "
   ]
  },
  {
   "cell_type": "code",
   "execution_count": 54,
   "id": "impressed-praise",
   "metadata": {},
   "outputs": [
    {
     "name": "stdout",
     "output_type": "stream",
     "text": [
      "34705 More Bush cronyism – “Jeb Bush and the Common Core Money Trail”  http://t.co/SbeHmuQJak It’s the Bush way!\n",
      "40562 During the GOP convention, CNN cut away from the victims of illegal immigrant violence. They don’t want them heard. https://t.co/EHRiLkQDWD\n",
      "4601 96% Approval Rating in the Republican Party. Thank you!\n",
      "17299 @MittRomney has won the most delegates, received the most votes and won the most states. The primary is over. Time to defeat @BarackObama.\n",
      "42823 Ted Cruz is totally unelectable, if he even gets to run (born in Canada). Will loose big to Hillary. Polls show I beat Hillary easily! WIN!\n",
      "42490 It is so important to audit The Federal Reserve, and yet Ted Cruz missed the vote on the bill that would allow this to be done.\n",
      "36508 The Republican Party will become “The Party of Healthcare!”\n",
      "23373 My @foxandfriends interview on risk  for @GOP on immigration, wasting money in Middle East &amp, firing @OMAROSA  http://t.co/Cp5lkJpz2A\n",
      "42435 \"Why would Texans vote for \"\"liar\"\" Ted Cruz when he was born in Canada, lived there for 4 years-and remained a Canadian citizen until recently\"\n",
      "33119 .@MittRomney and his campaign manager should not be critical of candidates after they blew an election that should never have been lost!\n",
      "46303 People are not being told that the Republican Party is on track to pick up two seats in the U.S. Senate, and epic victory: 53 to 47. The Fake News Media only wants to speak of the House, where the Midterm results were better than other sitting Presidents.\n",
      "16609 #FullRepeal: Stopping Obamacare is now up to the American people. We must elect @MittRomney this November.\n",
      "42780 \"Dr. Ben Carson blasted Ted Cruz for \"\"deceit and dirty tricks and lies.\"\"\"\n",
      "15311 Rev.@BillyGraham is doing tremendous work this election cycle educating the Christian community on @MittRomney.\n",
      "17627 My @SquawkCNBC interview from earlier in the week discussing the GOP primary and @newtgingrich's electability http://t.co/k9G6LhAA\n",
      "15312 Both Barack and @MittRomney were excellent at the Al Smith dinner last night!\n",
      "11238 Very appreciative that @CNN covered the vast majority of the Republican Convention last night. That was really good for CNN, while at the same time being good for our Country. Thank you!\n",
      "48105 Congresswoman Martha Roby of Alabama has been a consistent and reliable vote for our Make America Great Again Agenda. She is in a Republican Primary run-off against a recent Nancy Pelosi voting Democrat. I fully endorse Martha for Alabama 2nd Congressional District!\n",
      "17151 He @RickSantorum is now losing in the latest @ppppolls to @MittRomney in Pennsylvania http://t.co/Qdks2gDp Rick is wasting everyone's time.\n",
      "43105 \"Based on the fact that Ted Cruz was born in Canada and is therefore a \"\"natural born Canadian,\"\" did he borrow unreported loans from C banks?\"\n"
     ]
    }
   ],
   "source": [
    "rd.seed(0)\n",
    "x = tweets[(tweets['republicans'] == 1) & (tweets['isRetweet'] == 'f') & (tweets['isQuoteTweet'] == 'f')]\n",
    "    \n",
    "for identity in rd.sample(x.index.tolist(), k = 20):\n",
    "    print(identity,x.loc[(identity,'text')])"
   ]
  },
  {
   "cell_type": "code",
   "execution_count": 55,
   "id": "detected-reservation",
   "metadata": {},
   "outputs": [
    {
     "data": {
      "text/plain": [
       "1.0"
      ]
     },
     "execution_count": 55,
     "metadata": {},
     "output_type": "execute_result"
    }
   ],
   "source": [
    "hit = [1,1,1,1,1,1,1,1,1,1,1,1,1,1,1,1,1,1,1,1]\n",
    "p_rt = sum(hit)/len(hit)\n",
    "p_rt"
   ]
  },
  {
   "cell_type": "code",
   "execution_count": 56,
   "id": "absent-indicator",
   "metadata": {},
   "outputs": [
    {
     "name": "stdout",
     "output_type": "stream",
     "text": [
      "10474 RT @jsolomonReports: First lady Melanie Trump unveils restoration of Rose Garden, where she’ll give GOP convention speech Tuesday | Just Th…\n",
      "11868 RT @TVNewsHQ: “When it comes to Donald Trump, the media is an attack dog. When it comes to Joe Biden, the media is a lap dog” — GOP strateg…\n",
      "1236 RT @WattersWorld: President Trump is not going away anytime soon as he is said to be the head of the GOP for decades to come. Congressman @…\n",
      "6666 RT @RepDougCollins: Chairman Schiff restricted Republican witnesses in the House.\n",
      " \n",
      "Rules Committee Democrats claimed \"plenty of witnesses…\n",
      "44589 RT @paultdove: @FoxBusiness Republican Senators who are opposing the President, look at the great economic news: Americans Are Noticing!\n",
      "39910 RT @GOP: In @timkaine's own words ⬇️ #Debates2016 https://t.co/PMngoKHUjA\n",
      "11420 RT @SenateGOP: ⚡ LIVE NOW: Tune in to hear from Senate Republican Leadership as they answer questions from the press. ⬇️ https://t.co/hfVlz…\n",
      "7609 RT @youbetcha2020: @disposable13 @BrandonStraka @ScottPresler I just hope your registered as a Republican and are voting up and down the ti…\n",
      "14670 RT @Newsmax_Media:  Donald Trump: Mean-Spirited GOP Won't Win Elections @REALDonaldTrump http://t.co/EZ1fdIT5 via @Newsmax_Media\n",
      "10147 RT @GOP: “What is going on here on the Democrat side is this is a nomination process being run by the extreme left fringe of the Democratic…\n",
      "50344 RT @HouseGOP: Why is Chairman Schiff afraid of @RepStefanik?Why doesn’t he want Republican members to ask questions?Why is he conductin...\n",
      "5917 RT @marklevinshow: Schumer’s awful Senate speech should have the effect of uniting the Republican senators against his demands.  He’s a dis…\n",
      "44307 RT @GOP: .@IvankaTrump: This administration is committed to keeping working families at the forefront of our agenda.https://t.co/rHqFqUJGWI\n",
      "3742 RT @GOP: “The economy is working for workers, and they know it.”\n",
      "https://t.co/AIs469gAQE\n",
      "7005 RT @GOP: “Our movement is about a brighter future for all Americans of every race, religion, color, and creed.” -@realDonaldTrump https://t…\n",
      "2526 RT @paulsperry_: ‘Blindsided’: GOP elections board members in NC resign in protest over irregular absentee ballots\n",
      "\n",
      "Democrats insisted on l…\n",
      "51162 RT @GOP: Promises MADE, Promises KEPT! #KeepAmericaGreathttps://t.co/oHRgIpFGV1\n",
      "6543 RT @GOP: Despite Democrats’ best efforts, President @realDonaldTrump is more popular than ever! https://t.co/iv29VM1VUr\n",
      "46510 RT @realDonaldTrump: #JOBSNOTMOBS! VOTE REPUBLICAN NOW!! https://t.co/wso9ZHIvyF\n",
      "50989 RT @realDonaldTrump: I appreciate the support of Senator @LindseyGraham, @SenateMajLdr Mitch McConnell, and their Great Senate Republican c...\n"
     ]
    }
   ],
   "source": [
    "rd.seed(0)\n",
    "x = tweets[(tweets['republicans'] == 1) & (tweets['isRetweet'] == 't') & (tweets['isQuoteTweet'] == 'f')]\n",
    "    \n",
    "for identity in rd.sample(x.index.tolist(), k = 20):\n",
    "    print(identity,x.loc[(identity,'text')])"
   ]
  },
  {
   "cell_type": "code",
   "execution_count": 57,
   "id": "downtown-paris",
   "metadata": {},
   "outputs": [
    {
     "data": {
      "text/plain": [
       "1.0"
      ]
     },
     "execution_count": 57,
     "metadata": {},
     "output_type": "execute_result"
    }
   ],
   "source": [
    "hit = [1,1,1,1,1,1,1,1,1,1,1,1,1,1,1,1,1,1,1,1]\n",
    "p_rr = sum(hit)/len(hit)\n",
    "p_rr"
   ]
  },
  {
   "cell_type": "code",
   "execution_count": 58,
   "id": "indonesian-grenada",
   "metadata": {},
   "outputs": [
    {
     "name": "stdout",
     "output_type": "stream",
     "text": [
      "35073 \"\"\"@ehShaun: @realDonaldTrump knows what he's talking about. Please don't give us another Bush as president.\"\"\"\n",
      "35711 \"\"\"@2014_vince: @realDonaldTrump all planet earth wants the deal king trump to clean up the bush..obama mess\"\" Wow, it can be done!\"\n",
      "23254 \"\"\"@TheSportsSwede: @realDonaldTrump @ec364 Bush murdered thousands of r troops &amp, wasted trillions $ in a needless &amp, senseless war-Iraq. TRUE!\"\n",
      "33500 \"\"\"@swterry91: Donald Trump Leads by 9 Points in Pew Poll – Jeb Bush in Free Fall #tcot http://t.co/uyxre0ei92\"\"\"\n",
      "38133 \"\"\"@blazaruk: \"\"RT Where the hell is global warming when you need it?\"\" I dearly hope you are able to take up the flag of the GOP in 2016\"\"\"\n",
      "36954 \"\"\"@justariot66: Rand, Cruz, Rubio next week. A hat trick of \"\"never gonna win\"\" Donald if you ever were for real this is the time.\"\"\"\n",
      "35285 \"\"\"@Auburnfan2155: @realDonaldTrump @KarlRove Karl Rove destroyed the Republican Party. Time to rebuild it.\"\" True!\"\n",
      "34073 \"\"\"@JoeWeissnmb @realDonaldTrump @MichaelCohen212 Walker &amp, Bush want to be like Trump. My Mom88 \"\"They sound like boys compared to Trump.\"\"\"\n",
      "36832 \"\"\"@KENofdfl:  @RealPro4Real @politico @GOP @SpeakerBoehner she's a dishonest and deceitful person. Trump, blows her outta the water!\"\n",
      "34809 \"\"\"@hamishjoy: There's no republican field at all. When the @realDonaldTrump is in play, the others all kinda fade away. Trump2016\"\n",
      "42379 \"\"\"@itsblakec: @realDonaldTrump Trump is a genius. Rubio and Cruz are not. I want a brilliant mind to run this country.\"\"\"\n",
      "32969 \"\"\"@voxdotcom: Trump has figured out Jeb Bush's greatest weakness as a candidate, and it's not his energy level https://t.co/l4V3EoxXlv\"\"\"\n",
      "37339 \"\"\"@MyTime28: @FoxBusiness @realDonaldTrump I rather see him as President than any Republican out there, at least he will think $$$$ and sense\"\n",
      "32049 \"\"\"@mollymaguires61: @politichick_ @nytpolitics @FoxNews @rupertmurdoch @GOP in bed together &amp, hate Trump.  Win it for the USA &amp, the 21st Cent\"\n",
      "33740 \"\"\"@PMgeezer: Only 15 percent of @GOP voters said they would not back @realDonaldTrump as the party’s standard-bearer. http://t.co/hqt7WXTepm\"\"\"\n",
      "29258 \"\"\"@FlightAJ: Hey @realDonaldTrump what is your view on George Bush?\"\" He got us into Iraq instead of making America great again. Not good!\"\n",
      "42733 \"\"\"@JoeNBC: Cruz really seems out of his element in New Hampshire. It is such a different battlefield then Iowa and the South.\"\"\"\n",
      "33384 \"\"\"@3462727: @BretBaier @Norsu2 @realDonaldTrump tired of FOX bashing Trump &amp, pushing GOP establish / Christie/Rubio/Bush\"\"\"\n",
      "38522 \"\"\"@SnoBurd: Here's an idea: Why don't DonaldTrump and @MittRomney run on the same ticket, instead of running against each other?\"\" No thanks!\"\n",
      "42497 \"\"\"@gregusp61: You really rocked them hard in S.C. Rubio and Cruz were pummled. So glad Jeb is gone! Next no liar!\"\"\"\n"
     ]
    }
   ],
   "source": [
    "rd.seed(0)\n",
    "x = tweets[(tweets['republicans'] == 1) & (tweets['isRetweet'] == 'f') & ((tweets['isQuoteTweet'] == 't1') ^ (tweets['isQuoteTweet'] == 't2'))]\n",
    "    \n",
    "for identity in rd.sample(x.index.tolist(), k = 20):\n",
    "    print(identity,x.loc[(identity,'text')])"
   ]
  },
  {
   "cell_type": "code",
   "execution_count": 59,
   "id": "determined-marsh",
   "metadata": {},
   "outputs": [
    {
     "data": {
      "text/plain": [
       "1.0"
      ]
     },
     "execution_count": 59,
     "metadata": {},
     "output_type": "execute_result"
    }
   ],
   "source": [
    "hit = [1,1,1,1,1,1,1,1,1,1,1,1,1,1,1,1,1,1,1,1]\n",
    "p_rq = sum(hit)/len(hit)\n",
    "p_rq"
   ]
  },
  {
   "cell_type": "markdown",
   "id": "american-entity",
   "metadata": {},
   "source": [
    "#### Election Category Coherence\n",
    "For a tweet to be included in this category, it must reference an election in some way.  \n",
    "Positive Example: (25771: This ‘deal’ @RNC voted for has $41 in tax increases for every $1 in spending cuts.  It is pathetic.  Obama is laughing at them.)  \n",
    "Negative Example: (20764: On Bill O'Reilly in 5 minutes!)"
   ]
  },
  {
   "cell_type": "code",
   "execution_count": 60,
   "id": "tested-integrity",
   "metadata": {},
   "outputs": [
    {
     "name": "stdout",
     "output_type": "stream",
     "text": [
      "42109 Watching John Kasich being interviewed - acting so innocent and like such a nice guy. Remember him in second debate, until I put him down.\n",
      "43718 Pocahontas just stated that the Democrats, lead by the legendary Crooked Hillary Clinton, rigged the Primaries! Lets go FBI &amp, Justice Dept.\n",
      "1706 This election will decide whether we restore the rule of a corrupt political class – or whether we declare that in America, we are still governed by THE PEOPLE! Get out and VOTE!\n",
      "https://t.co/gsFSgh2KPc\n",
      "25771 This ‘deal’ @RNC voted for has $41 in tax increases for every $1 in spending cuts.  It is pathetic.  Obama is laughing at them.\n",
      "48592 To the great people of West Virginia we have, together, a really great chance to keep making a big difference. Problem is, Don Blankenship, currently running for Senate, can’t win the General Election in your State...No way! Remember Alabama. Vote Rep. Jenkins or A.G. Morrisey!\n",
      "47477 It is about time that Connecticut had a real and talented Governor. Bob Stefanowski is the person needed to do the job. Tough on crime, Bob is also a big cutter of Taxes. He will win in November and make a Great Governor, a major difference maker. Bob has my total Endorsement!\n",
      "42951 I want to win for the people of this great country. The only people I will owe are the voters. #Trump2016 Video: https://t.co/rx7aOQqN7y\n",
      "33725 \"Wow, great post-debate poll: \"\"Trump Increases Lead\"\" via Breitbart  http://t.co/B3yJk2lJ8I\"\n",
      "46965 Senator Feinstein and the Democrats held the letter for months, only to release it with a bang after the hearings were OVER - done very purposefully to Obstruct &amp, Resist &amp, Delay. Let her testify, or not, and TAKE THE VOTE!\n",
      "40242 I visited our Trump Tower campaign headquarters last night, after returning from Ohio and Arizona, and it was packed with great pros - WIN!\n",
      "54574 The Democrats have become known as THE DO NOTHING PARTY!\n",
      "16019 Bill Clinton did a great job last night--the Democrats are lucky to have him. Do you really believe he likes @BarackObama?\n",
      "48316 Wow, Strzok-Page, the incompetent &amp, corrupt FBI lovers, have texts referring to a counter-intelligence operation into the Trump Campaign dating way back to December, 2015. SPYGATE is in full force! Is the Mainstream Media interested yet? Big stuff!\n",
      "9507 The Democrat Party you once knew — no longer exists! https://t.co/0Gou1Z49OQ\n",
      "31938 Establishment flunky @KarlRove is going crazy with the just released CBS poll that has me way ahead. New Fox poll has me beating Hillary.\n",
      "9604 “Bins full of ballots in a dumpster” https://t.co/SjWMgFuVhw\n",
      "4991 When will the Democrats start blaming RUSSIA, RUSSIA, RUSSIA, instead of their own incompetence for the voting disaster that just happened in the Great State of Iowa?\n",
      "23352 With the impending crisis in Korea, is it a big confidence builder that Chuck Hagel is Sec. of Defense? Elections have consequences.\n",
      "50254 Why do @ShannonBream &amp, @FoxNews waste airtime on Democrat Rep. Eric Swalwell, who recently left the Presidential Primaries having attained a grand number of ZERO in the polls. I don’t even know how that is possible. Fox should stay with the people that got them there, not losers!\n",
      "56195 Democrats are becoming the Party of late term abortion, high taxes, Open Borders and Crime!\n"
     ]
    }
   ],
   "source": [
    "rd.seed(0)\n",
    "x = tweets[(tweets['election'] == 1) & (tweets['isRetweet'] == 'f') & (tweets['isQuoteTweet'] == 'f')]\n",
    "    \n",
    "for identity in rd.sample(x.index.tolist(), k = 20):\n",
    "    print(identity,x.loc[(identity,'text')])"
   ]
  },
  {
   "cell_type": "code",
   "execution_count": 61,
   "id": "seeing-preserve",
   "metadata": {},
   "outputs": [
    {
     "data": {
      "text/plain": [
       "0.7"
      ]
     },
     "execution_count": 61,
     "metadata": {},
     "output_type": "execute_result"
    }
   ],
   "source": [
    "hit = [1,1,1,0,1,1,0,1,1,1,0,0,1,0,1,1,1,1,1,0]\n",
    "p_et = sum(hit)/len(hit)\n",
    "p_et"
   ]
  },
  {
   "cell_type": "code",
   "execution_count": 62,
   "id": "considered-banking",
   "metadata": {},
   "outputs": [
    {
     "name": "stdout",
     "output_type": "stream",
     "text": [
      "12605 RT @TrumpWarRoom: RNC Chair McDaniel: With 100 days until election, enthusiasm gap points to reelection for President Trump!\n",
      "https://t.co/c…\n",
      "40075 \"RT @GMA: WATCH: @IvankaTrump on \"\"women who work,\"\" empowering campaign celebrates modern women.  https://t.co/rMFe9o6WcL\"\n",
      "871 RT @justin_hart: You know what's even MORE suspicious than BIG vote dumps giving Biden the lead in WI and MI? Taking AWAY votes from @realD…\n",
      "7964 RT @Scavino45: “Texas AG Ken Paxton: Trump is right and Twitter ‘fact check’ is wrong – mail-in ballot fraud is a real problem” https://t.c…\n",
      "50994 RT @robertjeffress: A new poll shows evangelical support for President @realDonaldTrump GROWING in spite of Democrat impeachment farce! I’l...\n",
      "50106 RT @DailyCaller: Poll: Independents Flip On Impeachment, Now Opposed After First Two Weeks Of Public Hearings. https://t.co/hjwicx0Pys\n",
      "13240 RT @realDonaldTrump: Record 96% Approval Rating in the Republican Party. 53% Approval Rating Overall. Record 56% “Better Off Now” than 4 Ye…\n",
      "9373 RT @RaheemKassam: Laura Loomer Delivers Stunning Primary Victory in Trump’s Voting District https://t.co/0KSRLCeJyX\n",
      "49716 RT @JennaEllisEsq: .@realDonaldTrump has been pushing Do-Nothing-Dems to bring the USMCA to a vote for A YEAR.For Nancy to claim this is...\n",
      "11396 RT @SteveDaines: My bipartisan bill increasing flexibility for the #PPP is on its way to @realDonaldTrump's desk.  This is about relief for…\n",
      "56070 RT @TomFitton: BIG: Strzok/Page Docs Show More Collusion to Protect Hillary Clinton, Voter Fraud Crisis--Thousands of Aliens Illegally Voti...\n",
      "6045 RT @DaisyCousens: Had to see for myself lol. Twitter is meddling in the 2020 election by covering up corruption and lies from its preferred…\n",
      "50826 RT @RepPeteKing: Voted AGAINST Impeachment Resolution. Voted FOR Constitution and America. The fight goes on. God Bless America!\n",
      "3269 RT @GeraldoRivera: Trump-haters clearly  frustrated that the American people-many of whom did not vote for him-approve of the epic job @rea…\n",
      "8683 RT @TeamTrump: While Democrats debate how they plan to destroy the country, President @realDonaldTrump is fighting for YOU!\n",
      "\n",
      "#DemDebate htt…\n",
      "3298 RT @Rita_Katz: 4)If true, and it seems to be, the dead of al-Rimi would mark a major blow to #AlQaeda on the whole. Al-Rimi was a candidate…\n",
      "2164 RT @ClayTravis: I am voting for @realDonaldTrump for president this year. Here’s why: https://t.co/5U5BjB5pZb\n",
      "7517 RT @SteveGuest: Reality: “Evidence of massive voter fraud in Paterson election, court records show”\n",
      "\n",
      "Yet after fraud was found using mail-i…\n",
      "51969 \"RT @KellyannePolls: \"\"Pelosi’s Bad Impeachment Call\"\" by anti-Trumper in @NYT.  \"\"A Q-PAC poll found 57% of Americans oppose impeachment, 37%...\"\n",
      "3531 RT @DrPaulGosar: If you live in Arizona and you want to sign your favorite candidate’s petition for the 2020 election ballot:\n",
      "\n",
      "CLICK HERE➡️…\n"
     ]
    }
   ],
   "source": [
    "rd.seed(0)\n",
    "x = tweets[(tweets['election'] == 1) & (tweets['isRetweet'] == 't') & (tweets['isQuoteTweet'] == 'f')]\n",
    "    \n",
    "for identity in rd.sample(x.index.tolist(), k = 20):\n",
    "    print(identity,x.loc[(identity,'text')])"
   ]
  },
  {
   "cell_type": "code",
   "execution_count": 63,
   "id": "instructional-building",
   "metadata": {},
   "outputs": [
    {
     "data": {
      "text/plain": [
       "0.85"
      ]
     },
     "execution_count": 63,
     "metadata": {},
     "output_type": "execute_result"
    }
   ],
   "source": [
    "hit = [1,0,0,1,1,1,1,1,1,0,1,1,1,1,1,1,1,1,1,1]\n",
    "p_er = sum(hit)/len(hit)\n",
    "p_er"
   ]
  },
  {
   "cell_type": "code",
   "execution_count": 64,
   "id": "divided-blanket",
   "metadata": {},
   "outputs": [
    {
     "name": "stdout",
     "output_type": "stream",
     "text": [
      "35746 \"\"\"@sheveeta: Can't think of a better candidate. -Donald Trump\"\"\"\n",
      "36634 \"\"\"@dmanhomee: I support DonaldTrump 100% for 2016! He is the only candidate that will return this country to the great country it once was!\"\"\"\n",
      "23054 \"\"\"@PattyMSink: @realDonaldTrump Please, please, please consider running in the 2016 Presidential election. We need business savvy (you)Thanks\"\n",
      "33116 \"\"\"@Glitter_alex: @realDonaldTrump is what we need to fix this mess! #MakeAmericaGreatAgain Im only 11 but my parents are voting for Trump!\"\"\"\n",
      "41749 \"\"\"@AshleyEdam: New CBS Poll shows defections from Cruz's core supporters &amp, increased support for @realDonaldTrump ...Not surprising.\"\"\"\n",
      "38659 \"\"\"@kim_ann1: @realDonaldTrump @JoshuaDummer I'll vote Donald 👍👍👍👍\"\"\"\n",
      "36175 \"\"\"@johnborntoride: @realDonaldTrump got my vote! Need a real leader n a business man! No more corrupt politicians\"\"\"\n",
      "34120 \"\"\"@Roy_Propsner: @realDonaldTrump ...Don't give up, don't surrender your 3rd party OPTION\"\"\"\n",
      "38280 \"\"\"@Missey5Mae: I think if a GOP candidate really wants to win, he will name @realDonaldTrump as the chief trade negotiator.\"\"\"\n",
      "35204 \"\"\"@nickcokley: @realDonaldTrump my first vote ever will be for one of the most historic businessmen in history.\"\n",
      "32631 \"\"\"@TrumpsMyHomeboy: @realDonaldTrump @Robostop10 @politico The #MSM straw man candidate is falling apart!👊🏽\"\"\"\n",
      "41153 \"\"\"@Ausbiz:  RECORD 14 million primary votes/beat 16 opponents/financed own campaign. You will be a great POTUS &amp, #MakeAmericaGreatAgain\"\"\"\n",
      "29987 \"\"\"@horher:  \"\"@benedwards55 I believe the only way out of this soon to be economic disaster is to vote Trump as our next president\"\"\"\"\"\n",
      "33493 \"\"\"@valerieannt:  @DRUDGE_REPORT @JebBush Jeb you are falling in polls because conservatives feel that you cannot #MakeAmericaGreatAgain\"\"\"\n",
      "30001 \"\"\"@_xx_Alesa: I know mine for 2016 and you've my vote @realDonaldTrump Please get our Country back where it belongs. Please!!!\"\" Thanks.\"\n",
      "27671 \"\"\"@Jennifer75AR: @realDonaldTrump @foxandfriends Hope you announce that you're running for president! You'd get my vote!\"\"\"\n",
      "32978 \"\"\"@BeverlySimcic: TRUMP: JEB BUSH HAS NO MONEY, HE'S MEETING WITH MOMMY AND DADDY- CAN'T RUN HIS OWN CAMPAIGN https://t.co/2znAQAm7Ry\"\"\"\n",
      "42731 \"\"\"@GOP_Left_Me: @JoeNBC Donald Trump won that debate hands down, Christi beat up Rubio.\"\n",
      "30187 \"\"\"@tlwhitney1 @realDonaldTrump @nflcommish would give the city hope .. would give Bills fans hope for a promising team\"\"\"\n",
      "34190 \"\"\"@RubenMMoreno: @realDonaldTrump The biggest loser in the debate was @megynkelly. You can't out trump Donald Trump. You will lose!\"\n"
     ]
    }
   ],
   "source": [
    "rd.seed(0)\n",
    "x = tweets[(tweets['election'] == 1) & (tweets['isRetweet'] == 'f') & ((tweets['isQuoteTweet'] == 't1') ^ (tweets['isQuoteTweet'] == 't2'))]\n",
    "    \n",
    "for identity in rd.sample(x.index.tolist(), k = 20):\n",
    "    print(identity,x.loc[(identity,'text')])"
   ]
  },
  {
   "cell_type": "code",
   "execution_count": 65,
   "id": "celtic-declaration",
   "metadata": {},
   "outputs": [
    {
     "data": {
      "text/plain": [
       "1.0"
      ]
     },
     "execution_count": 65,
     "metadata": {},
     "output_type": "execute_result"
    }
   ],
   "source": [
    "hit = [1,1,1,1,1,1,1,1,1,1,1,1,1,1,1,1,1,1,1,1]\n",
    "p_eq = sum(hit)/len(hit)\n",
    "p_eq"
   ]
  },
  {
   "cell_type": "markdown",
   "id": "charged-valuable",
   "metadata": {},
   "source": [
    "#### Positive Category Coherence.\n",
    "A tweet is considered positive if it has some positive sentiment.  \n",
    "Positive Example: (52371: As bad as @CNN is, Comcast MSNBC is worse. Their ratings are also way down because they have lost all credibility. I believe their stories about me are not 93% negative, but actually 100% negative. They are incapable of saying anything positive, despite all of the great things...)  \n",
    "Negative Example: (16861: #CelebrityApprentice Who will win? http://t.co/1IjFi52y Find out tonight- live Season Finale at 9PM ET on NBC.)"
   ]
  },
  {
   "cell_type": "code",
   "execution_count": 66,
   "id": "outside-protein",
   "metadata": {},
   "outputs": [
    {
     "name": "stdout",
     "output_type": "stream",
     "text": [
      "52371 As bad as @CNN is, Comcast MSNBC is worse. Their ratings are also way down because they have lost all credibility. I believe their stories about me are not 93% negative, but actually 100% negative. They are incapable of saying anything positive, despite all of the great things...\n",
      "24798 @carsenadeline Yes, absolutely. There are always opportunities and therefore hope. Good luck Carsen!\n",
      "47984 A friend of mine and a man who has truly seen politics and life as few others ever will, Sean Spicer, has written a great new book, “The Briefing: Politics, the Press and the President.” It is a story told with both heart and knowledge. Really good, go get it!\n",
      "54255 On my way to Iowa - just heard nearly 1,000 agriculture groups signed a letter urging Congress to approve the USMCA. Our Patriot Farmers &amp, rural America have spoken! Now Congress must do its job &amp, support these great men and women by passing the bipartisan USMCA Trade Agreement!\n",
      "27379 The people of Buffalo should be happy Terry Pegula got the team but I hope he does better w/the Bills than he has w/the Sabres. Good luck!\n",
      "2560 ....Courts are bad, the FBI and “Justice” didn’t do their job, and the United States Election System looks like that of a third world country. Freedom of the press has been gone for a long time, it is Fake News, and now we have Big Tech (with Section 230) to deal with....\n",
      "16861 #CelebrityApprentice Who will win? http://t.co/1IjFi52y Find out tonight- live Season Finale at 9PM ET on NBC.\n",
      "34480 Great read:  “How New York's Veterans Day Parade Became 'America's Parade'” http://t.co/PuYQl4CRg3\n",
      "32551 A great evening in Springfield, Illinois. Thank you for all of the support! #Trump2016 https://t.co/mqOfuI08PX\n",
      "25678 @whitneykray @IvankaTrump  Great!\n",
      "55517 Despite the unnecessary and destructive actions taken by the Fed, the Economy is looking very strong, the China and USMCA deals are moving along nicely, there is little or no Inflation, and USA optimism is very high!\n",
      "48822 Very thankful for President Xi of China’s kind words on tarrifs and automobile barriers...also, his enlightenment on intellectual property and technology transfers. We will make great progress together!\n",
      "51540 I would love to send Ambassador Sondland, a really good man and great American, to testify, but unfortunately he would be testifying before a totally compromised kangaroo court, where Republican’s rights have been taken away, and true facts are not allowed out for the public....\n",
      "19305 @AnishaBhasin1 You wedding at Trump National was one of the most beautiful I have ever seen - more importantly, an amazing couple!\n",
      "32034 Hope he won't spend too much time ripping apart the 2nd. Amendment!\n",
      "23353 With Dr. Dror Paley &amp, Dr. Ben Carson with two wonderful children at Mar-a-Lago. http://t.co/iw9h3Qa6Y5\n",
      "40861 I am somewhat surprised that Bernie Sanders was not true to himself and his supporters. They are not happy that he is selling out!\n",
      "54320 Just watched the Great @RickBarry44, Backetball Hall of Famer, on the @marklevinshow @FoxNews. A wonderful interview of a very smart and interesting guy by the man, Mark Levin, who has the number one bestselling book, Unfreedom of the Press. Two Winners!\n",
      "55023 We can all agree that AMERICA is now #1. We are the ENVY of the WORLD — and the best is yet to come! https://t.co/Uc81DzHbu2\n",
      "14898 It's freezing and snowing in New York--we need global warming!\n"
     ]
    }
   ],
   "source": [
    "rd.seed(0)\n",
    "x = tweets[(tweets['positive'] == 1) & (tweets['isRetweet'] == 'f') & (tweets['isQuoteTweet'] == 'f')]\n",
    "    \n",
    "for identity in rd.sample(x.index.tolist(), k = 20):\n",
    "    print(identity,x.loc[(identity,'text')])"
   ]
  },
  {
   "cell_type": "code",
   "execution_count": 67,
   "id": "prostate-somewhere",
   "metadata": {},
   "outputs": [
    {
     "data": {
      "text/plain": [
       "0.75"
      ]
     },
     "execution_count": 67,
     "metadata": {},
     "output_type": "execute_result"
    }
   ],
   "source": [
    "hit = [0,1,1,1,1,0,1,1,1,1,1,1,1,1,1,1,0,1,1,0]\n",
    "p_pt = sum(hit)/len(hit)\n",
    "p_pt"
   ]
  },
  {
   "cell_type": "code",
   "execution_count": 68,
   "id": "great-punch",
   "metadata": {},
   "outputs": [
    {
     "name": "stdout",
     "output_type": "stream",
     "text": [
      "47786 RT @realDonaldTrump: The Summit with Russia was a great success, except with the real enemy of the people, the Fake News Media. I look forw...\n",
      "50132 RT @KatrinaPierson: “Trump 2020 baby!”@realDonaldTrump will win in 2020, and he’s going to do it with the help of millions of Black voter...\n",
      "2182 RT @RealKyleMorris: Sen.-elect @TTuberville: \"I'm always going to support President @realDonaldTrump. He’s the best president of my lifetim…\n",
      "10505 RT @MrMichaelBurkes: The Trumps are the greatest thing to ever happen to America!\n",
      "54556 RT @TomFitton: FBI refuses to search text messages under FOIA. Director Wray needs to step up and stop this stonewalling that protects corr...\n",
      "52989 RT @DanScavino: Soooo much love in Ocean City, Maryland! ThankU! #KAG2020🇺🇸 https://t.co/TnJt34ANiK\n",
      "49730 RT @DonaldJTrumpJr: 🔥🔥🔥 but also very true. Sensenbrenner to Democrat Impeachment Lawyer: 'You Have Made Joe McCarthy Look Like a Piker'...\n",
      "12162 RT @realJeffreyLord: Michael Goodwin: The New York Times Times is plunging head first into new depths of partisanship and deceit\n",
      "\n",
      "https://t…\n",
      "52643 RT @JohnBoozman: The #ServingARVets tour has been a great week traveling across the state meeting with #veterans, visiting vet-owned busine...\n",
      "44575 RT @IvankaTrump: The Administration is committed to supporting military spouses in the workforce. Thanks Kim for sharing your story! https:...\n",
      "8880 RT @WhiteHouse: Over the weekend, the number of daily new infections remained flat.\n",
      "\n",
      "Thanks to the efforts of every American, our strategie…\n",
      "54167 RT @DanScavino: As the worst Mayor in the history of New York City manages his bucket list in Iowa — he also remains steady at ZERO PERCENT...\n",
      "5945 RT @FieldYates: Tony Gwynn played for 20 years and struck out three times in a game... once. Incredible.\n",
      "11437 RT @NRSC: 🚨 New Bombshell Video reveals the one thing that could ruin @DougJones’s Senate career… #ALSen #alpolitics https://t.co/ORxC0xIhs4\n",
      "5948 RT @EricTrump: Amazing Quarter for the Markets!!! The DOW has the best quarter in 33 years (up 17.77%). Likewise the NASDAQ is up 30.63% in…\n",
      "4459 RT @TeamTrump: New @CNBC poll in key electoral states....\n",
      "\n",
      "5,408 likely voters: AZ, FL, MI, NC, PA, WI.\n",
      "\n",
      "@realDonaldTrump leads @JoeBiden 4…\n",
      "10167 RT @esaagar: 58% of Americans support sending the military in to supplement police force to quell riots\n",
      "\n",
      "Compare that to the twitter discou…\n",
      "55653 RT @DonaldJTrumpJr: My latest OP-Ed on Tech Censorship - check it out and RT. Conservatives face a tough fight as Big Tech's censorship e...\n",
      "6225 RT @VinceMcMahon: The true meaning of Memorial Day is often forgotten. Remember all of those that made the ultimate sacrifice so that we ca…\n",
      "12447 RT @realDonaldTrump: Wow! 96% Approval Rating in the Republican Party (and I believe this was before the “GREAT” Jobs Numbers yesterday). T…\n"
     ]
    }
   ],
   "source": [
    "rd.seed(0)\n",
    "x = tweets[(tweets['positive'] == 1) & (tweets['isRetweet'] == 't') & (tweets['isQuoteTweet'] == 'f')]\n",
    "    \n",
    "for identity in rd.sample(x.index.tolist(), k = 20):\n",
    "    print(identity,x.loc[(identity,'text')])"
   ]
  },
  {
   "cell_type": "code",
   "execution_count": 69,
   "id": "informed-sierra",
   "metadata": {},
   "outputs": [
    {
     "data": {
      "text/plain": [
       "0.8"
      ]
     },
     "execution_count": 69,
     "metadata": {},
     "output_type": "execute_result"
    }
   ],
   "source": [
    "hit = [1,1,1,1,1,1,1,1,1,1,1,0,0,0,1,1,1,0,1,1]\n",
    "p_pr = sum(hit)/len(hit)\n",
    "p_pr"
   ]
  },
  {
   "cell_type": "code",
   "execution_count": 70,
   "id": "unauthorized-assignment",
   "metadata": {},
   "outputs": [
    {
     "name": "stdout",
     "output_type": "stream",
     "text": [
      "33804 \"\"\"@debra0155: @realDonaldTrump @GinHay @jimmyfallon absolutely, he's just simply the best #realdonaldtrump\"\"\"\n",
      "35400 \"\"\"@justrelaxfornow: As a nation yearns for justice and equality, that nation hopes Donald Trump will run for President. June 16, 2015.\"\"\"\n",
      "19690 \"\"\"@kyleraccio: @realDonaldTrump Donald have you noticed how so many people want you to run? Amazing. I think you will win handily.\"\"  Thanks!\"\n",
      "29514 \"\"\"@alexniekamp: @realDonaldTrump Loving the new TRUMP sign going up in Chicago!\"\" Thank you!\"\n",
      "37960 \"\"\"@xoamxo_13: “@realDonaldTrump: Best Apprentice episode EVER tonight at 8:00.” Ready📺\"\"\"\n",
      "37254 \"\"\"@joelleangeli: @realDonaldTrump I'm patiently awaiting a big announcement... #Trump2016\"\"\"\n",
      "34891 \"\"\"@bdean1: If I had a dollar for every time a politician lied, i'd be as rich as @realDonaldTrump I'm happy as hell he's running! #Trump2016\"\"\"\n",
      "30639 \"\"\"@eruditetina                      @realDonaldTrump Your parents must have been wonderful people. Thanks for sharing.\"\" They were--thanks.\"\n",
      "36987 \"\"\"@cleopattraUSA: Please makè it a 100% chance you'll run for President! 'I could make this country great again' http://t.co/hpbNtMEs2z@@\"\"\"\n",
      "32863 \"\"\"@ngb6060: @realDonaldTrump showing why he should be our next President. Tremendous Debate. Winning all the post Debate polls.\"\n",
      "43294 \"\"\"@MEMEoryHead: I'm one of your biggest fans Mr Trump and I can't wait for you to Make America Great ifAgain! Never forget you have support!\"\"\"\n",
      "28497 \"\"\"@EdwinVSuccess @realDonaldTrump is example of how Success is earned!!  Everyday is an opportunity to get after it! \"\"  Thank you.\"\n",
      "37793 \"\"\"@userback: @realDonaldTrump @realJoeMurray I would support you. I think you are very smart!\"\" Thank you.\"\n",
      "24370 \"\"\"@jesscot: @kuhpuh @pennjillette awwww... I freakin love celeb apprentice and @realDonaldTrump &amp, @bretmichaels\"\" Thanks.\"\n",
      "30203 \"\"\"@josegonzalez_69                     @realDonaldTrump If you buy the team it would win the superbowl!\"\" @nflcommish\"\n",
      "25795 \"\"\"@djspookyshadow: Feeling a deep gratitude for all the inspiration u had given me through 2014. Sincerely wishing u more success to come!\"\n",
      "21982 \"\"\"@kevinsmoore: @realDonaldTrump says exactly what he thinks. Lol This is one of the reasons I follow this man! He's the best!\"\"  Thanks K.\"\n",
      "29339 \"\"\"@aec4444: @realDonaldTrump please don't let the USGA ruin your course in 2017 like they did Pinehurst.\"\"  I won't!\"\n",
      "38597 \"\"\"@allteamscards: @realDonaldTrump Great interview on #Letterman. Yes, we r going to miss him!\"\"\"\n",
      "25990 \"\"\"@VladimirRussia7: \"\"@realDonaldTrump :Be sure to set exceptional goals for your 2015 resolutions. Push yourself, you can do it. Think Big!\"\"\"\"\"\n"
     ]
    }
   ],
   "source": [
    "rd.seed(0)\n",
    "x = tweets[(tweets['positive'] == 1) & (tweets['isRetweet'] == 'f') & ((tweets['isQuoteTweet'] == 't1') ^ (tweets['isQuoteTweet'] == 't2'))]\n",
    "    \n",
    "for identity in rd.sample(x.index.tolist(), k = 20):\n",
    "    print(identity,x.loc[(identity,'text')])"
   ]
  },
  {
   "cell_type": "code",
   "execution_count": 71,
   "id": "numerous-perth",
   "metadata": {},
   "outputs": [
    {
     "data": {
      "text/plain": [
       "1.0"
      ]
     },
     "execution_count": 71,
     "metadata": {},
     "output_type": "execute_result"
    }
   ],
   "source": [
    "hit = [1,1,1,1,1,1,1,1,1,1,1,1,1,1,1,1,1,1,1,1]\n",
    "p_pq = sum(hit)/len(hit)\n",
    "p_pq"
   ]
  },
  {
   "cell_type": "markdown",
   "id": "explicit-speech",
   "metadata": {},
   "source": [
    "#### Negative Category Coherence:\n",
    "A tweet should be included in this category if the overall sentiment of the tweet is negative.  \n",
    "Positive Example: (31084: I wonder how much money dumb @BuzzFeed and even dumber Ben Smith loooose each year? They have zero credibility - totally irrelevant and sad!)  \n",
    "Negative Example: (40751: I highly recommend the just out book - THE FIELD OF FIGHT - by General Michael Flynn. How to defeat radical Islam.)"
   ]
  },
  {
   "cell_type": "code",
   "execution_count": 72,
   "id": "informed-conditioning",
   "metadata": {},
   "outputs": [
    {
     "name": "stdout",
     "output_type": "stream",
     "text": [
      "31084 I wonder how much money dumb @BuzzFeed and even dumber Ben Smith loooose each year? They have zero credibility - totally irrelevant and sad!\n",
      "53485 ....except for those stated by me, &amp, “reams of paper” were never given to me. It is a made up story meant to demean &amp, belittle. The Post had no sources. The facts remain the same, that we have 4 Radical Left Congresswomen who have said very bad things about Israel &amp, our Country!\n",
      "34868 Via @businessinsider by @hunterw: “TRUMP UNLOADS: Hillary Clinton was 'the worst' and is 'extremely bad'” http://t.co/lPGSlczakP\n",
      "2244 “The Radical Left is trying hard to undermine the Christopher Columbus legacy. A great Italian opened new chapter in history of humanity by discovering the Americas”.  @OANN  Not on my watch!\n",
      "17013 My @gretawire interview where I discuss fixing the economy, killing Bin Laden, the John Edwards trial and fair trade.http://bit.ly/JpSxkA\n",
      "42071 Crazy @megynkelly supposedly had lyin' Ted Cruz on her show last night. Ted is desperate and his lying is getting worse. Ted can't win!\n",
      "40990 Crooked Hillary is wheeling out one of the least productive senators in the U.S. Senate, goofy Elizabeth Warren, who lied on heritage.\n",
      "32785 I told you so-@politico just lost it's top person. Poor results and no money to pay him. If they were legit, they would be doing far better!\n",
      "54575 ....drug prices, pre-existing conditions and our great Vets. All they are geared up to do, six committees, is squander time, day after day, trying to find anything which will be bad for me. A pure fishing expedition like this never happened before, &amp, it should never happen again!\n",
      "20119 Don’t be easily pleased with yourself or with anything else. Be tough &amp, fight to keep your standards high. -Think Like a Champion\n",
      "40751 I highly recommend the just out book - THE FIELD OF FIGHT - by General Michael Flynn. How to defeat radical Islam.\n",
      "27319 I am starting to think that there is something seriously wrong with President Obama's mental health. Why won't he stop the flights. Psycho!\n",
      "45714 Congratulations to @FoxNews for being number one in inauguration ratings. They were many times higher than FAKE NEWS @CNN - public is smart!\n",
      "14602 “He who knows when he can fight and when he cannot, will be victorious.” -- Sun Tzu\n",
      "41606 .@KarlRove is a failed Jeb Bushy. Never says anything good &amp, never will, even after I beat Hillary. Shouldn't be on the air!\n",
      "9058 I authorized Zero access to White House (actually turned him down many times) for author of phony book! I never spoke to him for book. Full of lies, misrepresentations and sources that don’t exist. Look at this guy’s past and watch what happens to him and Sloppy Steve!\n",
      "18403 The ObamaCare disaster will increase the amount of uninsured http://t.co/hq7O7j7RRU What is the point of this Trillion $ monstrosity?\n",
      "9075 Now that Russian collusion, after one year of intense study, has proven to be a total hoax on the American public, the Democrats and their lapdogs, the Fake News Mainstream Media, are taking out the old Ronald Reagan playbook and screaming mental stability and intelligence.....\n",
      "53415 ...impeachment, you have a Party of one. It’s over.” @kilmeade  “Nancy said, Jerry, please sit down. Very bad idea. We discovered that after putting so much time &amp, energy into the Mueller Report, it turns out Mueller didn’t know what was in his Report.” @SteveDoocy @foxandfriends\n",
      "5959 Great new book by former Director of Oval Office Operations, Madeleine Westerhout, entitled “Off the Record”. When I look at all of the Fake Books and garbage written about me, it’s really nice to see a very smart and already wise young woman write an honest depiction of what....\n"
     ]
    }
   ],
   "source": [
    "rd.seed(0)\n",
    "x = tweets[(tweets['negative'] == 1) & (tweets['isRetweet'] == 'f') & (tweets['isQuoteTweet'] == 'f')]\n",
    "    \n",
    "for identity in rd.sample(x.index.tolist(), k = 20):\n",
    "    print(identity,x.loc[(identity,'text')])"
   ]
  },
  {
   "cell_type": "code",
   "execution_count": 73,
   "id": "attended-queue",
   "metadata": {},
   "outputs": [
    {
     "data": {
      "text/plain": [
       "0.8"
      ]
     },
     "execution_count": 73,
     "metadata": {},
     "output_type": "execute_result"
    }
   ],
   "source": [
    "hit = [1,1,1,1,1,1,1,1,1,0,0,1,0,0,1,1,1,1,1,1]\n",
    "p_nt = sum(hit)/len(hit)\n",
    "p_nt"
   ]
  },
  {
   "cell_type": "code",
   "execution_count": 74,
   "id": "behind-japanese",
   "metadata": {},
   "outputs": [
    {
     "name": "stdout",
     "output_type": "stream",
     "text": [
      "51219 RT @ZTPetrizzo: Feeling bad for this intern... https://t.co/7WoYCRJbvv\n",
      "8164 RT @steph93065: @RealSaavedra I’d be interested to know which misconduct was worse than spying on the opposing candidate and then President\n",
      "49859 RT @RepAndyBiggsAZ: From the individuals who brought you the Russian-Collusion Hoax,Comes the sequel - the Ukrainian Hoax.Democrats wil...\n",
      "52798 RT @RepMarkMeadows: Andrew McCabe: fired for lying to the FBI, caught by the Inspector General for unauthorized media leaks, and—worst of a...\n",
      "8967 RT @WhiteHouse: President @realDonaldTrump has signed an executive order to ensure anyone that destroys or vandalizes a monument, memorial,…\n",
      "904 RT @Lrihendry: Report: 6K fake Biden votes found in Arizona “lead“ drops to 4K\n",
      "5733 RT @GOPChairwoman: Just 8 work days left on Congress' calendar this year.Instead of attacking @realDonaldTrump, Pelosi should work across...\n",
      "56097 RT @dbongino: I don’t feel an ounce of empathy for all of the imbeciles who bought into the Russian collusion hoax now that it’s been entir...\n",
      "10861 RT @JHoganGidley: My response to the horrible lies from anonymous “sources” in the Atlantic: https://t.co/uHtgJvrwCb\n",
      "10334 RT @seanmdav: You wore blackface (or possibly even a KKK hood) and lied about it. https://t.co/lMQH44ExJ9\n",
      "8590 RT @virginiafoxx: The @WhiteHouse and @POTUS continue to lead the fight against COVID-19 in North Carolina. \n",
      "\n",
      "39 health centers across N.C.…\n",
      "54176 RT @WhiteHouse: Opioid addiction can happen to anyone—and we must work together to fight the stigma and save lives, says @Surgeon_General J...\n",
      "50209 RT @EliseStefanik: Bottom line: Adam Schiff failed to bring ANY evidence for impeaching @realDonaldTrump. WATCH me on @seanhannity tonight👇...\n",
      "50932 \"RT @markknoller: Pres denounces attacks on police officers. “An attack on law enforcement is an attack on all Americans,\"\" says @POTUS. And...\"\n",
      "6462 RT @GOPChairwoman: A Biden-Harris fracking ban would kill MILLIONS of jobs &amp; send energy prices through the roof.\n",
      "\n",
      "Who would benefit? \n",
      "\n",
      "Adv…\n",
      "56345 RT @parscale: This is just one of many fake news stories over the last several years. Sad so many journalists have lost their integrity. I...\n",
      "9987 RT @realDonaldTrump: Congressman @MarkwayneMullin is a Warrior for the people of Oklahoma! He proudly FIGHTS for our Border, Infrastructure…\n",
      "7622 RT @WhiteHouse: President @realDonaldTrump just took executive action to fight online censorship by tech corporations, including social med…\n",
      "12266 RT @WhiteHouse: On June 6, 1944, our Greatest Generation bravely stormed the beaches of Normandy.\n",
      "\n",
      "\"Those who fought here won a future for…\n",
      "52943 RT @Lrihendry: @realDonaldTrump They are eaten alive by hate for our President &amp, his voters! They care more about illegal immigrants than...\n"
     ]
    }
   ],
   "source": [
    "rd.seed(0)\n",
    "x = tweets[(tweets['negative'] == 1) & (tweets['isRetweet'] == 't') & (tweets['isQuoteTweet'] == 'f')]\n",
    "    \n",
    "for identity in rd.sample(x.index.tolist(), k = 20):\n",
    "    print(identity,x.loc[(identity,'text')])"
   ]
  },
  {
   "cell_type": "code",
   "execution_count": 151,
   "id": "female-strategy",
   "metadata": {},
   "outputs": [
    {
     "data": {
      "text/plain": [
       "1.0"
      ]
     },
     "execution_count": 151,
     "metadata": {},
     "output_type": "execute_result"
    }
   ],
   "source": [
    "hit = [1,1,1,1,1,1,1,1,1,1,1,1,1,1,1,1,1,1,1,1]\n",
    "p_nr = sum(hit)/len(hit)\n",
    "p_nr"
   ]
  },
  {
   "cell_type": "code",
   "execution_count": 76,
   "id": "exact-transportation",
   "metadata": {},
   "outputs": [
    {
     "name": "stdout",
     "output_type": "stream",
     "text": [
      "30781 \"\"\"@YoungKhalifa_2: “@realDonaldTrump: \"\"By failing to prepare, you are preparing to fail.\"\" -- Benjamin Franklin”\"\"\"\n",
      "32455 \"\"\"@tasteofaz: Poll: Trump Surges to 42% Nationally, ‘Bad News for Marco Rubio’ https://t.co/9IrLrlpjfM @realdonaldtrump\"\"  Great news!\"\n",
      "19366 \"\"\"@fenwickrx: @realDonaldTrump “@NewsOn6: Study: Wind Farms Killed 67 Eagles In Five Years http://t.co/ybv0hGRfEL”\"\"\"\n",
      "26870 \"\"\"@TheRealZach49: @realDonaldTrump can't wait for you to take over this country and rebuild what Obama destroyed\"\"\"\n",
      "34413 \"\"\"@DavidKyleOnline: @realDonaldTrump attack Walker on Common Core. State grassroots not happy with him on CC inaction.\"\"\"\n",
      "33652 \"\"\"@TheMindWave:  @FoxNews Im not sure why u r giving them this much importance, they had wanted to take u down in debate and they failed!!\"\"\"\n",
      "32014 \"\"\"@BornToBeGOP @DanScavino  Trump will only increase his lead after the terror attacks. America believes Trump will get rid of ISIS!\"\"\"\n",
      "28377 \"\"\"@D1PZ: One of Donald Trump's philosophies: \"\"If someone screws you, screw them back ten times worse\"\" I have heard of far worse!\"\n",
      "33565 \"\"\"@fanodale: @60Minutes @realDonaldTrump watched 60 mins first time ever. Love Trump hate Scotty\"\"\"\n",
      "29986 \"\"\"@DrewMadeOFF: RT @realDonaldTrump Circulation @ record low. Spy Mag also failed under Graydon.\"\"   @VanityFair Magazine\"\n",
      "36139 \"\"\"@OliverBooks: Best thing about this fight is randomn celeb sightings so far Tom Brady, Donald Trump, Justin Bieber\"\"   Big letdown fight!\"\n",
      "23518 \"\"\"@thomas_waller: @realDonaldTrump Great job! Way to take the high road on his attacks on conservatism. Your always a class act!\"\" Thanks Tom!\"\n",
      "34190 \"\"\"@RubenMMoreno: @realDonaldTrump The biggest loser in the debate was @megynkelly. You can't out trump Donald Trump. You will lose!\"\n",
      "21900 \"\"\"@California_Bloo: @NewsCorpse @realDonaldTrump &lt,&lt,&lt,&lt, This is the same douche that said windmills were worse for birds than oil. MUCH WORSE!\"\n",
      "27818 \"\"\"@Valbano206: Loved listening to @realDonaldTrump this morning on @MikeAndMike fantastic and true view points on the sad state of the NFL\"\"\"\n",
      "21915 \"\"\"@FabianRoss_: @realDonaldTrump You think america will be great again?\"\" Only with great and proper leadership-otherwise, disaster.\"\n",
      "20911 \"\"\"@Jaytotheford: @realDonaldTrump how did you like espn 30/30 on USFL?\"\"  A total piece of garbage by a third rate producer who hated DJT.\"\n",
      "37762 \"\"\"@MollyOgden: @realDonaldTrump This is what I like best about you -- someone lies about you and you call them right out.That's how it's done\"\n",
      "26349 \"\"\"@MasterBaxter8: Rosie &amp, Obama have something in common, both disasters and both made a huge mistake messing with Trump. #trump2016\"\"\"\n",
      "34803 \"\"\"@WayneDupreeShow: Aren't U angry how the media has turned DonaldTrump SLAM against \"\"illegal immigration\"\" into him hating \"\"all immigrants\"\n"
     ]
    }
   ],
   "source": [
    "rd.seed(0)\n",
    "x = tweets[(tweets['negative'] == 1) & (tweets['isRetweet'] == 'f') & ((tweets['isQuoteTweet'] == 't1') ^ (tweets['isQuoteTweet'] == 't2'))]\n",
    "    \n",
    "for identity in rd.sample(x.index.tolist(), k = 20):\n",
    "    print(identity,x.loc[(identity,'text')])"
   ]
  },
  {
   "cell_type": "code",
   "execution_count": 77,
   "id": "olympic-carolina",
   "metadata": {},
   "outputs": [
    {
     "data": {
      "text/plain": [
       "0.85"
      ]
     },
     "execution_count": 77,
     "metadata": {},
     "output_type": "execute_result"
    }
   ],
   "source": [
    "hit = [0,1,1,1,1,1,1,1,1,1,1,1,1,1,0,1,1,0,1,1]\n",
    "p_nq = sum(hit)/len(hit)\n",
    "p_nq"
   ]
  },
  {
   "cell_type": "markdown",
   "id": "alpha-crazy",
   "metadata": {},
   "source": [
    "#### News Category Coherence:\n",
    "A tweet is in this category if it makes mention of news.  \n",
    "Positive Example: (31398: Watching Gates on @seanhannity - looks like he got hit by a truck! Why didn't Obama get him, and others,to sign a confidentiality agreement?)  \n",
    "Negative Example: (13350: Be sure to watch The Apprentice tonight, 10 p.m. on NBC--it's an episode you won't forget!)"
   ]
  },
  {
   "cell_type": "code",
   "execution_count": 78,
   "id": "fluid-tucson",
   "metadata": {},
   "outputs": [
    {
     "name": "stdout",
     "output_type": "stream",
     "text": [
      "54411 I never called Meghan Markle “nasty.” Made up by the Fake News Media, and they got caught cold! Will @CNN, @nytimes and others apologize? Doubt it!\n",
      "31398 Watching Gates on @seanhannity - looks like he got hit by a truck! Why didn't Obama get him, and others,to sign a confidentiality agreement?\n",
      "51484 Only 25 percent want the President Impeached, which is pretty low considering the volume of Fake News coverage, but pretty high considering the fact that I did NOTHING wrong. It is all just a continuation of the greatest Scam and Witch Hunt in the history of our Country!\n",
      "56167 I see Schumer is already criticizing my State of the Union speech, even though he hasn’t seen it yet. He’s just upset that he didn’t win the Senate, after spending a fortune, like he thought he would. Too bad we weren’t given more credit for the Senate win by the media!\n",
      "33106 Replay of Fox News Sunday With Chris Wallace at 2:00 P.M. on @FoxNews. Big statement made by Chris!\n",
      "3253 More Fake News! https://t.co/URewvfAUDl\n",
      "15242 This is not a media event or about Donald J. Trump--- this is about the United States of America. I will be (cont) http://t.co/Vk0JPAb5\n",
      "40953 .@TraceAdkins great job on FOX this morning. Keep up the good work!\n",
      "39990 Every on-line poll, Time Magazine, Drudge etc., has me winning the debate. Thank you to Fox &amp, Friends for so reporting!\n",
      "32150 The truth continues to come out after 14 years. A truth that many in the media did not want to tell. #Trump2016https://t.co/AtuacgxOW1\n",
      "52408 ...FAKE NEWS. I would like very much to stop referring to this ridiculous story, but the LameStream Media just won’t let it alone. They always have to have the last word, even though they know they are defrauding &amp, deceiving the public. The public knows that the Media is corrupt!\n",
      "53961 ....No Collusion, No Obstruction! Robert Mueller said he was done after his last 9 minute news conference, as later corrected. Now the Dems want to  give it another try. Does it ever end?\n",
      "19486 @Toure  Dumb as a rock Toure doesn't have a clue about money or anything else-merely a simpleton racist.Really bad ratings,really stupid guy\n",
      "39193 I will be interviewed today on Fox News Sunday with Chris Wallace at 10:00 (Eastern) Network. ENJOY!\n",
      "26337 The cast of the new season of apprenticenbc. Premieres January 4th on NBC. http://t.co/BQFuiUsvCG\n",
      "44170 \"The greatest influence over our election was the Fake News Media \"\"screaming\"\" for Crooked Hillary Clinton. Next, she was a bad candidate!\"\n",
      "56209 “Three separate caravans marching to our Border. The numbers are tremendous.” @foxandfriends\n",
      "13350 Be sure to watch The Apprentice tonight, 10 p.m. on NBC--it's an episode you won't forget!\n",
      "40696 Funny, if you listen to @FoxNews, the Democrats did not have a good day. If you listen to the other two, they are fawning. What a difference\n",
      "8796 “These were the people that trashed Seattle years ago. Who’s paying for these people. I was appalled that 13 of Joe Biden’s staff were donating money to bail people out in Minneapolis. They should have stayed in jail until this is over (and beyond).” @newtgingrich @foxandfriends\n"
     ]
    }
   ],
   "source": [
    "rd.seed(0)\n",
    "x = tweets[(tweets['news'] == 1) & (tweets['isRetweet'] == 'f') & (tweets['isQuoteTweet'] == 'f')]\n",
    "    \n",
    "for identity in rd.sample(x.index.tolist(), k = 20):\n",
    "    print(identity,x.loc[(identity,'text')])"
   ]
  },
  {
   "cell_type": "code",
   "execution_count": 79,
   "id": "quiet-remark",
   "metadata": {},
   "outputs": [
    {
     "data": {
      "text/plain": [
       "0.9"
      ]
     },
     "execution_count": 79,
     "metadata": {},
     "output_type": "execute_result"
    }
   ],
   "source": [
    "hit = [1,1,1,1,1,1,1,1,1,1,1,1,1,1,0,1,1,0,1,1]\n",
    "p_ft = sum(hit)/len(hit)\n",
    "p_ft"
   ]
  },
  {
   "cell_type": "code",
   "execution_count": 80,
   "id": "frequent-antique",
   "metadata": {},
   "outputs": [
    {
     "name": "stdout",
     "output_type": "stream",
     "text": [
      "11231 RT @seanhannity: MAYOR MELTDOWN: De Blasio Accuses NYPD Union of ‘Fomenting Hatred’ in New York City https://t.co/8jSph0SLft\n",
      "53793 RT @RepMarkMeadows: This was amazing news from over the weekend — 224,000 jobs created in June, blowing away expectations of 160,000 jobs!...\n",
      "12024 RT @LindseyGrahamSC: Great news for South Carolina and a compliment to the @weareboeingsc workforce!\n",
      "\n",
      "This would never have come to pass ha…\n",
      "1020 RT @DonaldJTrumpJr: The same media that set their hair on fire every time a bogus Russia story came out is now ignoring evidence that the B…\n",
      "8379 RT @RepMattGaetz: Democrats and the media told us over and over again the Bidens were being falsely accused of improper behavior with Buris…\n",
      "44076 RT @EricTrump: Congratulations @SeanHannity! Looking forward to being on the show tonight at 9pmET  Hannity beats Maddow - POLITICO https:/...\n",
      "13223 RT @kimKBaltimore: Thank you, WBFF FOX 45 for having me. I wish we had more time. The crime &amp; violence in Baltimore City is the direct resu…\n",
      "11782 RT @TVNewsHQ: Fox’s @jessebwatters hits Dems for not trusting Trump on Covid vaccine: “They are undermining confidence in the exact vaccine…\n",
      "54997 RT @charliekirk11: BOOM:Despite horrendous media treatment coverage Trump stands at 51% approval rating!They tried to defame himThey...\n",
      "9668 RT @TVNewsHQ: Watch: Fox News’ @JesseBWatters compares Joe Biden to an erratic driver: “Just along for the ride: No sense of direction... w…\n",
      "12997 RT @TVNewsHQ: Watch: Fox News’ @dbongino on the “chaos candidate” Joe Biden https://t.co/lTghrnsDEq\n",
      "10793 RT @DailyCaller: Can The Right Build On Trump’s Social Media Success? One Nonprofit Is Betting On It https://t.co/rGa0LfQyxb\n",
      "46285 RT @realDonaldTrump: I will be interviewed by Chris Wallace on @FoxNews at 2:00 P.M. and 7:00 P.M. Enjoy!\n",
      "6900 RT @Mediaite: 'Censorship': Fox &amp, Friends Calls Out Canadian Broadcaster For Removing Trump From Home Alone https://t.co/k0ZivUtrCc\n",
      "43843 RT @realDonaldTrump: I will be interviewed tonight on @FoxNews by @SeanHannity at 9pmE. Enjoy!\n",
      "4604 RT @realDonaldTrump: Why doesn’t @FoxNews put up the CNBC POLL or the (believe it or not!) @CNN Poll? Hope Roger A is looking down and watc…\n",
      "8906 RT @TrumpWarRoom: Media keep asking what the Trump Administration was doing in February to combat the coronavirus after restricting travel…\n",
      "4605 RT @realDonaldTrump: .@FoxNews should fire their Fake Pollster. Never had a good Fox Poll!\n",
      "53714 RT @TexanGalCindy: #FakeNewsCNN mired in a credibility crisis as ratings continue to collapse#BoycottCNN#BoycottCNN#FakeNewsCNN#WakeUpA...\n",
      "3317 RT @seanhannity: @realdonaldTrump to Bloomberg: \"One thing this whole thing has shown is that you can't buy an election... Sometimes you ju…\n"
     ]
    }
   ],
   "source": [
    "rd.seed(0)\n",
    "x = tweets[(tweets['news'] == 1) & (tweets['isRetweet'] == 't') & (tweets['isQuoteTweet'] == 'f')]\n",
    "    \n",
    "for identity in rd.sample(x.index.tolist(), k = 20):\n",
    "    print(identity,x.loc[(identity,'text')])"
   ]
  },
  {
   "cell_type": "code",
   "execution_count": 81,
   "id": "rotary-oxygen",
   "metadata": {},
   "outputs": [
    {
     "data": {
      "text/plain": [
       "0.95"
      ]
     },
     "execution_count": 81,
     "metadata": {},
     "output_type": "execute_result"
    }
   ],
   "source": [
    "hit = [1,1,1,1,1,1,1,1,1,1,1,0,1,1,1,1,1,1,1,1]\n",
    "p_fr = sum(hit)/len(hit)\n",
    "p_fr"
   ]
  },
  {
   "cell_type": "code",
   "execution_count": 82,
   "id": "mighty-victory",
   "metadata": {},
   "outputs": [
    {
     "name": "stdout",
     "output_type": "stream",
     "text": [
      "33436 \"\"\"@Raddmom: @realDonaldTrump - don't let the media &amp, the @GOP elites push you out- Americans are with you!\"\" Thanks, I won't!\"\n",
      "42577 \"\"\"@debdew2:  @brithume @megynkelly @DiamondandSilk FOX: TRUMP HATERS R SCARED BECAUSE THEY LOSE -  TRUMP IS WINNING https://t.co/6umGLYjWhT\"\"\"\n",
      "33696 \"\"\"@JohnSte38475254: @realDonaldTrump @FoxNews  ...Why is Fox being so hard on u? I don't get it...are they idiots?\"\"\"\n",
      "22324 \"\"\"@OCAmericans: I only watch @NBC once a week to watch @realDonaldTrump's Apprentice.  Great!\"\n",
      "32233 \"\"\"@PrisonPlanet: .@realDonaldTrump gets it. Never apologize for fake controversies whipped up by the perpetually offended  media.\"\"\"\n",
      "35096 \"\"\"@melsthemom @realDonaldTrump NBC=censorship. I'm done with them\"\"\"\n",
      "34539 \"\"\"@PJAliveguy: No matter what @realDonaldTrump says the media and the republican establishment will attack it. Time for something that works!\"\n",
      "33642 \"\"\"@glendabelle_11: @FoxNews Fox has become a supporter of Liberals!They are Not supporting the GOP candidates-especially Trump! Quit watching\"\n",
      "32752 \"\"\"@TheMsDlr: Donald Trump Releases Plan to Reform Veterans Affairs - ABC News - https://t.co/MDArX5HKNk via @ABC\"\"\"\n",
      "34365 \"\"\"@moses11211: Donald Trump leads in new #GOP polls.. @foxandfriends @realDonaldTrump http://t.co/lVNSZmY9La\"\"\"\n",
      "33279 \"\"\"@ElviNichols: Will @CNN be tough as they were with @realDonaldTrump ? Not sure..https://t.co/NNnFMXrXMj\"\" No way, they will be very gentle!\"\n",
      "36488 \"\"\"@hillarysusans: Getting ready for next week with @realDonaldTrump on Monday. @NHGOP @FoxNews\"\"\"\n",
      "31819 \"\"\"@BillDaley1: @CNN @LindseyGrahamSC @realDonaldTrump Sour grapes graham. Dont blame Trump because you cant interest voters.\"\"\"\n",
      "34943 \"\"\"@Darci51: @realDonaldTrump the blue! I don't care WHAT @nbc says or @Macys Screw them! I'm voting 4 you, Mr. Trump! #trumpforpresident\"\"\"\n",
      "27131 \"\"\"@moose_taz: @foxandfriends @realDonaldTrump 1000% right about Mexico agenda and impossible citizenship process God can't we wake up.\"\n",
      "32539 \"\"\"@BreitbartNews: Ratings were HUGE for @realDonaldTrump's appearance on Saturday Night Live -&gt, https://t.co/wdQXRq36yF\"\"\"\n",
      "27132 \"\"\"@katlynne1994: @realDonaldTrump @foxandfriends Power to this man!! He cares about this country\"\"\"\n",
      "42525 \"\"\"@FamilyRedsFans: @FoxNews is really starting to campaign hard for marcorubio. #fairandbalancedmyass\"\"  He is weak on illegal immigration!\"\n",
      "26448 \"\"\"@MSmoldt: @realDonaldTrump \"\"The American dream is alive and well\"\" good interview on @FoxNews this AM #GYTU ☝️\"\"\"\n",
      "37392 \"\"\"@russiannavyblog: @Joe3957 @jwil444 @DNorrell @greta @StateDept @FoxNews If there is anything America desperately needs, it's a Trump run!\"\"\"\n"
     ]
    }
   ],
   "source": [
    "rd.seed(0)\n",
    "x = tweets[(tweets['news'] == 1) & (tweets['isRetweet'] == 'f') & ((tweets['isQuoteTweet'] == 't1') ^ (tweets['isQuoteTweet'] == 't2'))]\n",
    "    \n",
    "for identity in rd.sample(x.index.tolist(), k = 20):\n",
    "    print(identity,x.loc[(identity,'text')])"
   ]
  },
  {
   "cell_type": "code",
   "execution_count": 83,
   "id": "recovered-alert",
   "metadata": {},
   "outputs": [
    {
     "data": {
      "text/plain": [
       "0.95"
      ]
     },
     "execution_count": 83,
     "metadata": {},
     "output_type": "execute_result"
    }
   ],
   "source": [
    "hit = [1,0,1,1,1,1,1,1,1,1,1,1,1,1,1,1,1,1,1,1]\n",
    "p_fq = sum(hit)/len(hit)\n",
    "p_fq"
   ]
  },
  {
   "cell_type": "markdown",
   "id": "musical-subscriber",
   "metadata": {},
   "source": [
    "#### Law and Order Category Coherence:\n",
    "A tweet should be included in this category if the tweet has to do with law, justice, or the American Judicial system.  \n",
    "Positive Example: (45674: I have made my decision on who I will nominate for The United States Supreme Court. It will be announced live on Tuesday at 8:00 P.M. (W.H.))  \n",
    "Negative Example: (36761: Entrepreneurs: Resolve to be bigger than your problems. Who's the boss? Don't negate your own power.)  "
   ]
  },
  {
   "cell_type": "code",
   "execution_count": 84,
   "id": "authorized-republican",
   "metadata": {},
   "outputs": [
    {
     "name": "stdout",
     "output_type": "stream",
     "text": [
      "54215 When Senator @MarkWarnerVA spoke at length, and in great detail, about extremely negative information on me, with a talented entertainer purporting to be a Russian Operative, did he immediately call the FBI? NO, in fact he didn’t even tell the Senate Intelligence Committee of....\n",
      "36761 Entrepreneurs: Resolve to be bigger than your problems. Who's the boss? Don't negate your own power.\n",
      "50961 ....He loves our Military and supports our Vets! Democrat Jim Hood will never give us his vote, is anti-Trump and pro-Crooked Hillary. Get out and VOTE for Tate Reeves on November 5th. He has my Complete and Total Endorsement!\n",
      "55302 Despite the fact that the Mueller Report should not have been authorized in the first place &amp, was written as nastily as possible by 13 (18) Angry Democrats who were true Trump Haters, including highly conflicted Bob Mueller himself, the end result is No Collusion, No Obstruction!\n",
      "40950 These crimes won't be happening if I'm elected POTUS. Killer should have never been here. #AmericaFirst https://t.co/XDGKaj0ico\n",
      "1940 We need Genevieve Collins (@GCForCongress) in Congress for Texas! She is Strong on Jobs &amp; the Economy, National Security and Education, and she will always Defend your Second Amendment. Genevieve has my Complete and Total Endorsement! #TX32 https://t.co/7YwS3ZwTQe\n",
      "16554 Why is @BarackObama constantly issuing executive orders that are major power grabs of authority? This is the latest http://t.co/4IVBckTE\n",
      "45674 I have made my decision on who I will nominate for The United States Supreme Court. It will be announced live on Tuesday at 8:00 P.M. (W.H.)\n",
      "44867 Good news out of the House with the passing of 'No Sanctuary for Criminals Act.' Hopefully Senate will follow.\n",
      "40206 Thank you to all of our amazing military families, service members, and veterans. #ImWithYou https://t.co/RmQJt0Wxcq\n",
      "55826 Border Patrol and Law Enforcement has apprehended (captured) large numbers of illegal immigrants at the Border. They won’t be coming into the U.S. The Wall is being built and will greatly help us in the future, and now!\n",
      "52074 Justice Kavanaugh should sue The Failing New York Times for all they are worth!\n",
      "53795 ....healthcare (Obamacare) to stay in place, when it would have been replaced by something far better, shows how incredibly important our upcoming 2020 Election is. I have long heard that the appointment of Supreme Court Justices is a President’s most important decision. SO TRUE!\n",
      "22198 \"Many generals and military leaders are now saying \"\"I told you so!\"\"  They say this will have big impact on military strength &amp, national sec.\"\n",
      "44527 Military solutions are now fully in place,locked and loaded,should North Korea act unwisely.  Hopefully Kim Jong Un will find another path!\n",
      "32497 Wow, pres. candidate Ben Carson, who is very weak on illegal Immigration, just said  he likes amnesty and a pathway to citizenship.\n",
      "46971 The radical left lawyers want the FBI to get involved NOW. Why didn’t someone call the FBI 36 years ago?\n",
      "55319 When there is not an underlying crime with regard to Collusion (in fact, the whole thing was a made up fraud), it is difficult to say that someone is obstructing something. There was no underlying crime.” @marthamaccallum  @FoxNews\n",
      "55574 The Republican Party will become the Party of Great HealthCare! ObamaCare is a disaster, far too expensive and deductibility ridiculously high - virtually unusable! Moving forward in Courts and Legislatively!\n",
      "12495 We will be substantially LOWERING Medicare Premiums and Prescription Drug Prices, bringing them down to levels that were not thought possible!\n"
     ]
    }
   ],
   "source": [
    "rd.seed(0)\n",
    "x = tweets[(tweets['law'] == 1) & (tweets['isRetweet'] == 'f') & (tweets['isQuoteTweet'] == 'f')]\n",
    "    \n",
    "for identity in rd.sample(x.index.tolist(), k = 20):\n",
    "    print(identity,x.loc[(identity,'text')])"
   ]
  },
  {
   "cell_type": "code",
   "execution_count": 85,
   "id": "naval-slave",
   "metadata": {},
   "outputs": [
    {
     "data": {
      "text/plain": [
       "0.95"
      ]
     },
     "execution_count": 85,
     "metadata": {},
     "output_type": "execute_result"
    }
   ],
   "source": [
    "hit = [1,0,1,1,1,1,1,1,1,1,1,1,1,1,1,1,1,1,1,1]\n",
    "p_lt = sum(hit)/len(hit)\n",
    "p_lt"
   ]
  },
  {
   "cell_type": "code",
   "execution_count": 86,
   "id": "whole-anaheim",
   "metadata": {},
   "outputs": [
    {
     "name": "stdout",
     "output_type": "stream",
     "text": [
      "13142 RT @realDonaldTrump: In an illegal late night coup, Nevada’s clubhouse Governor made it impossible for Republicans to win the state. Post O…\n",
      "48087 RT @realDonaldTrump: We are gathered today to hear directly from the AMERICAN VICTIMS of ILLEGAL IMMIGRATION. These are the American Citize...\n",
      "1426 RT @realDonaldTrump: Senator John Cornyn has done an outstanding job for the people of Texas. He is strong on Crime, the Border, the Second…\n",
      "9594 RT @Southcom: “We’ve had 15% more disruptions -- that’s detainees, that’s drugs off the street… 122 metric tons.”\n",
      "\n",
      "#SOUTHCOM’s Adm. Craig F…\n",
      "53430 RT @RepArmstrongND: It's not enough for Mr. Mueller to be able to vouch for his team. Federal recusal law exists for a reason. The interest...\n",
      "51675 RT @paulsperry_: Watching CNN is like seeing the inner workings of an anti-Trump campaign war room. They are lucky they are cable and not r...\n",
      "46456 RT @realDonaldTrump: Congressman @KevinYoder has fought hard for the People of Kansas. Highly respected, strong on Crime, the Border, Milit...\n",
      "10991 RT @charliekirk11: Captain David Dorn was murdered by looters early Tuesday morning\n",
      "\n",
      "He was a retired, 77 year-old black police officer gua…\n",
      "51185 RT @NBCNews: NEW: US State Dept. has completed its internal investigation into former Sec. Clinton's use of private email and found violati...\n",
      "12430 RT @realDonaldTrump: Not only will Sleepy Joe Biden DEFUND THE POLICE, but he will DEFUND OUR MILITARY! He has no choice, the Dems are cont…\n",
      "56310 RT @marcorubio: @POTUS offers to support 2 bills sponsored by Dems (TPS &amp, DACA extensions)in exchange for Border Security (something Democr...\n",
      "8201 RT @SenJohnThune: My full statement on the passing of Justice Ruth Bader Ginsburg below ⬇️.  We didn’t always agree, but RBG was a true pat…\n",
      "53021 RT @WhiteHouse: After @ICEgov recently removed illegal immigrants working at Koch Foods’ plants in Mississippi, Americans are applying for...\n",
      "5786 RT @GOPLeader: RT if you support our police officers who put on their uniforms every day to carry out the oath to protect and serve our com…\n",
      "10499 RT @SenTomCotton: The nation must restore order. The military stands ready. https://t.co/SW68y6wvds\n",
      "5795 RT @GenFlynn: My grandson Travis...“and JUSTICE for ALL” ⚖️❤️🙏🇺🇸 https://t.co/IuOGugjOC3\n",
      "3945 RT @JonathanTurley: The Flynn case is fast becoming a case of gross judicial overreach as the court appears to assume both judicial and exe…\n",
      "9282 RT @RepLeeZeldin: The rioters aren’t listening, they have no respect, and they aren’t slowing down on their own. These are criminals and ma…\n",
      "54671 RT @TomFitton: Never in American history has there been such a spy effort against a candidate (@RealDonaldTrump) and abuse of power targeti...\n",
      "6137 RT @larryelder: “Andrew Gillum apologizes after being found 'inebriated' in hotel room where police say man was treated for 'possible drug…\n"
     ]
    }
   ],
   "source": [
    "rd.seed(0)\n",
    "x = tweets[(tweets['law'] == 1) & (tweets['isRetweet'] == 't') & (tweets['isQuoteTweet'] == 'f')]\n",
    "    \n",
    "for identity in rd.sample(x.index.tolist(), k = 20):\n",
    "    print(identity,x.loc[(identity,'text')])"
   ]
  },
  {
   "cell_type": "code",
   "execution_count": 87,
   "id": "electoral-volume",
   "metadata": {},
   "outputs": [
    {
     "data": {
      "text/plain": [
       "1.0"
      ]
     },
     "execution_count": 87,
     "metadata": {},
     "output_type": "execute_result"
    }
   ],
   "source": [
    "hit = [1,1,1,1,1,1,1,1,1,1,1,1,1,1,1,1,1,1,1,1]\n",
    "p_lr = sum(hit)/len(hit)\n",
    "p_lr"
   ]
  },
  {
   "cell_type": "code",
   "execution_count": 88,
   "id": "buried-stage",
   "metadata": {},
   "outputs": [
    {
     "name": "stdout",
     "output_type": "stream",
     "text": [
      "34226 \"\"\"@cookingdoll: @realDonaldTrump Yet another illegal arrested for bludgeoning a woman. Stop the invasion.\"\n",
      "34571 \"\"\"@bigg_ritch: The reason Trump is the man... He wants Americans to work not illegal aliens. they live better than we do illegally.\"\n",
      "19851 \"\"\"@not_that_actor: @realDonaldTrump Col Peters is right. When our adversaries r at war w each other, Assad regime+ Al Q, stay out of it!\"\n",
      "29830 \"\"\"@lisa_zeee: @realDonaldTrump &lt,-- this guy needs to run for president! Knowledge is power. #2016\"\"  Thanks!\"\n",
      "35042 \"\"\"@NeilECollins  @Macys  only interested in sales and could care less about America. Veterans and Military will be with Trump.\"\"\"\n",
      "34976 \"\"\"@myGianLuca:  @CNNPolitics @teddyschleifer Say it LOUD &amp, PROUD @realDonaldTrump! *** ILLEGAL IMMIGRATION *** Is an Attack on Our Country!\"\"\"\n",
      "34484 \"\"\"@flanny1971: @realDonaldTrump clearly puts this country first! Security, vets, economy and won't bow down to other world leaders!\"\n",
      "31930 \"\"\"@FoxNewsInsider: .@FrankLuntz Explains Why @realDonaldTrump Has Plenty of Staying Power @seanhannity #Hannity\"\n",
      "34964 \"\"\"@rodsandguitars: @danaperino just lied about DonaldTrump - Dana, Trump Did NOT say \"\"ALL are criminals &amp, rapists\"\" .. #ProudAmerican#NoLying\"\"\"\n",
      "33460 \"\"\"@TrumpNewMedia: @carrillo_pete ILLEGAL ALIENS FOUND GUILTY OF MURDERING BORDER PATROL AGENT http://t.co/jEgkaegj8T http://t.co/lR8u7mBzAb\"\n",
      "36706 \"\"\"@ALEKSMM:  I have a lawsuit in Mexico’s corrupt court system that I won but so far can’t collect. Don’t do business with Mexico!\"\"\"\"\"\n",
      "28344 \"\"\"@wRiTeItNoW.  A quote you'd like. You have undertaken to cheat me. I won't sue you, for the law is too slow. I'll ruin you. -Vanderbilt\"\"\"\n",
      "35035 \"\"\"@rebamoreland you must be doing something right, cause the left has circled the war wagons. Stay strong in your convictions, WE LOVE IT!!\"\"\"\n",
      "25803 \"\"\"@SellingVA: \"\"@realDonaldTrump: Sometimes by losing a battle you find a new way to win the war.\"\"\"\"\"\n",
      "31105 \"\"\"@scotgov: Scotland could be on the verge of a new generation of hydro power http://t.co/28a4sya3fu\"\" Now this would be GREAT!\"\n",
      "22075 \"\"\"@A380Jet: @realDonaldTrump Anthony Wiener couldn't pass a background check to be a police officer what makes him qualified to be Mayor???\"\"\"\n",
      "37698 \"\"\"@WSCP1: Obama records still a mystery - TheDonald: MSM Investigation Into Scott Walker’s College A ‘Double Standard’ http://t.co/ILuzMMpY5m\"\n",
      "29508 \"\"\"@shousman86: @realDonaldTrump Mr. Trump please build our Military and take care of our Vets as Commander in Chief\"\" This would happen!\"\n",
      "35165 \"\"\"@StephPrichard1:  @RealDonaldTrump GOP: Trump's Fearless War with Univision Only Increases His Appeal - Breitbart http://t.co/oJnV2OXcEc\"\"\"\n",
      "42652 \"\"\"@by @tedcruz good I want to see the court decide what I was always told \"\"natural born\"\" means - born on American soil\"\"\"\n"
     ]
    }
   ],
   "source": [
    "rd.seed(0)\n",
    "x = tweets[(tweets['law'] == 1) & (tweets['isRetweet'] == 'f') & ((tweets['isQuoteTweet'] == 't1') ^ (tweets['isQuoteTweet'] == 't2'))]\n",
    "    \n",
    "for identity in rd.sample(x.index.tolist(), k = 20):\n",
    "    print(identity,x.loc[(identity,'text')])"
   ]
  },
  {
   "cell_type": "code",
   "execution_count": 89,
   "id": "sorted-explosion",
   "metadata": {},
   "outputs": [
    {
     "data": {
      "text/plain": [
       "0.8"
      ]
     },
     "execution_count": 89,
     "metadata": {},
     "output_type": "execute_result"
    }
   ],
   "source": [
    "hit = [1,1,1,0,1,1,1,1,1,1,1,1,1,1,0,1,0,1,1,0]\n",
    "p_lq = sum(hit)/len(hit)\n",
    "p_lq"
   ]
  },
  {
   "cell_type": "markdown",
   "id": "direct-breach",
   "metadata": {},
   "source": [
    "#### Boarder Category Coherence:\n",
    "A tweet is in this topic if it referes to the border wall at all.  \n",
    "\n",
    "Postive Example: (6192: The Wall is funded &amp, being built! https://t.co/84BOxKr2Eo)  \n",
    "\n",
    "Negative Example: (5601: Sleepy Joe Biden was in charge of the H1N1 Swine Flu epidemic which killed thousands of people. The response was one of the worst on record. Our response is one of the best, with fast action of border closings &amp; a 78% Approval Rating, the highest on record. His was lowest!)"
   ]
  },
  {
   "cell_type": "code",
   "execution_count": 90,
   "id": "three-probability",
   "metadata": {},
   "outputs": [
    {
     "name": "stdout",
     "output_type": "stream",
     "text": [
      "45984 Thank you to our GREAT Republican Members of Congress for your VOTE to fund Border Security and the Wall. The final numbers were 217-185 and many have said that the enthusiasm was greater than they have ever seen before. So proud of you all. Now on to the Senate!\n",
      "56499 The Democrats could solve the Shutdown problem in a very short period of time. All they have to do is approve REAL Border Security (including a Wall), something which everyone, other than drug dealers, human traffickers and criminals, want very badly! This would be so easy to do!\n",
      "46542 Congressman @RodBlum of Iowa got a desperately needed Flood Wall for Cedar Rapids that was almost impossible to get. He makes a BIG difference for Iowa! Border, Military, Vets etc. We need Rod in D.C. He has my Strong Endorsement!\n",
      "6192 The Wall is funded &amp, being built! https://t.co/84BOxKr2Eo\n",
      "36629 For all of the haters and losers out there sorry, I never went Bankrupt -- but I did build a world class company and employ many people!\n",
      "48488 China must continue to be strong &amp, tight on the Border of North Korea until a deal is made. The word is that recently the Border has become much more porous and more has been filtering in. I want this to happen, and North Korea to be VERY successful, but only after signing!\n",
      "48076 ...everyone how much he likes me, but he will only vote with Nancy Pelosi. Keith is strong on borders and tough on crime — and loves cutting taxes! #MAGA\n",
      "46249 Republicans and Democrats MUST come together, finally, with a major Border Security package, which will include funding for the Wall. After 40 years of talk, it is finally time for action. Fix the Border, for once and for all, NOW!\n",
      "42119 Rubio is weak on illegal immigration, with the worst voting record in the U.S. Senate in many years. He will never MAKE AMERICA GREAT AGAIN!\n",
      "48002 I am in Milwaukee, Wisconsin, for meetings. Soon to leave for a big groundbreaking for Foxconn, which is building a great new electronics plant in Wisconsin. 15,000 Jobs, so great!\n",
      "45719 Will be meeting at 9:00 with top automobile executives concerning jobs in America. I want new plants to be built here for cars sold here!\n",
      "51785 ....People, their VOTE, their Freedoms, their Second Amendment, Religion, Military, Border Wall, and their God-given rights as a Citizen of The United States of America!\n",
      "32961 I spell out some of the differences between Ben Carson and myself at 9:00 A.M. on @CNN @jaketapper. Ben is very weak on illegal immigration.\n",
      "48247 Stock Market up almost 40% since the Election, with 7 Trillion Dollars of U.S. value built throughout the economy. Lowest unemployment rate in many decades, with Black &amp, Hispanic unemployment lowest in History, and Female unemployment lowest in 21 years. Highest confidence ever!\n",
      "18762 The contract to build the ObamaCare website was given to a CANADIAN company for $55, 744, 081. It then bloated to $292, 071,067 INCOMPETENCE\n",
      "40600 Crooked Hillary Clinton is soft on crime, supports open borders, and wants massive tax hikes. A formula for disaster!\n",
      "18850 Somebody got rich building the ObamaCare website which doesn't even come close to working - where has the money gone?\n",
      "56488 AP-NORC POLL: “Immigration among the top concerns in 2019.” People want to stop drugs and criminals at the Border. Want Border Security! Tell the Dems to do the inevitable now, rather than later. The wait is costly and dangerous!\n",
      "11528 Congressman @SteveStivers is doing a terrific job for the People of Ohio! He defends our Borders, Supports our Veterans, Strong on Crime, and the Second Amendment. Steve has my Complete and Total Endorsement!\n",
      "https://t.co/iX0VBJ44sT\n",
      "53606 ....They are anti-Israel, pro Al-Qaeda, and comment on the 9/11 attack, “some people did something.” Radical Left Democrats want Open Borders, which means drugs, crime, human trafficking, and much more....\n"
     ]
    }
   ],
   "source": [
    "rd.seed(0)\n",
    "x = tweets[(tweets['border'] == 1) & (tweets['isRetweet'] == 'f') & (tweets['isQuoteTweet'] == 'f')]\n",
    "    \n",
    "for identity in rd.sample(x.index.tolist(), k = 20):\n",
    "    print(identity,x.loc[(identity,'text')])"
   ]
  },
  {
   "cell_type": "code",
   "execution_count": 91,
   "id": "polar-hawaii",
   "metadata": {},
   "outputs": [
    {
     "data": {
      "text/plain": [
       "0.8"
      ]
     },
     "execution_count": 91,
     "metadata": {},
     "output_type": "execute_result"
    }
   ],
   "source": [
    "hit = [1,1,1,1,0,1,1,1,1,0,1,1,1,1,0,1,1,0,1,1]\n",
    "p_bt = sum(hit)/len(hit)\n",
    "p_bt"
   ]
  },
  {
   "cell_type": "code",
   "execution_count": 92,
   "id": "inappropriate-danish",
   "metadata": {},
   "outputs": [
    {
     "name": "stdout",
     "output_type": "stream",
     "text": [
      "56457 \"RT @dbongino: New Poll: Vast Majority of Voters Believe There is \"\"Crisis\"\" or \"\"Problem\"\" at U.S. Border https://t.co/bzFimBid26\"\n",
      "46450 RT @realDonaldTrump: Congressman @RodBlum of Iowa got a desperately needed Flood Wall for Cedar Rapids that was almost impossible to get. H...\n",
      "55896 RT @JudicialWatch: Right now, our borders are being used as gateways for drug cartels &amp, violent criminals – each day adding to the millions...\n",
      "47872 RT @dougmillsnyt: .@realDonaldTrump's shadow is reflected on the wall as he makes a statement and answers questions as he departs the NATO...\n",
      "3249 RT @WhiteHouse: We built the greatest economy in the world—and together, we will build it again! https://t.co/57gxhVH2k2\n",
      "10601 RT @BreitbartNews: \"This crisis has underscored just how critical it is to have strong borders and a robust manufacturing sector.\" https://…\n",
      "51812 RT @realDonaldTrump: Navistar will be building a new 250 MILLION DOLLAR truck factory in San Antonio with 600 new jobs. Congratulations San...\n",
      "50986 RT @PressSec: POTUS is a champion for America's once-forgotten communities, and his historic criminal justice reforms are building opportun...\n",
      "47090 RT @fema: Stay safe and shelter away from windows on the lowest floor that’s not subject to flooding. If you get trapped in a flooded build...\n",
      "56227 RT @GOP: “300 people are dying from heroin overdoses a week in this country, 90% of it is coming over the southern border... We’ve got to sto...\n",
      "56375 RT @TomFitton: For the first time in a generation, we have a president who is beginning to tell the truth about the crisis on the border. @...\n",
      "12630 RT @TimMurtaugh: Question of the day for Biden\n",
      "\n",
      "In the last 100 days you’ve embraced policies to crush local police, wipe out borders, give…\n",
      "50146 RT @FrancoOrdonez: Immigration Hardliners Fight For Cuccinelli To Be Next DHS Secretary : NPR https://t.co/csVNSlfro9\n",
      "44883 RT @foxandfriends: HAPPENING TODAY: House to vote on immigration bills including 'Kate’s Law' and 'No Sanctuary for Criminals Act' https://...\n",
      "53670 RT @DonaldJTrumpJr: Does anyone else remember when Democrats used to oppose illegal immigration? https://t.co/PFfx1guFm7\n",
      "9152 RT @TeamTrump: President @realDonaldTrump: “Under the Trump Administration, if you cross our border illegally, you are quickly apprehended…\n",
      "51811 RT @realDonaldTrump: Great news! @Apple announced that it is building its new Mac Pro in Texas. This means hundreds of American jobs in Aus...\n",
      "6716 RT @parscale: Joe Biden is a train wreck on illegal immigration and would harm national security.\n",
      "\n",
      "He’d have ZERO deportations for the firs…\n",
      "11472 RT @SenRonJohnson: Wisconsin is proud of its rich shipbuilding &amp; maritime history.  Bordered on 3 sides by commercially navigable waterways…\n",
      "55802 RT @paulsperry_: BREAKING: US Border Patrol says that after physical barriers were erected in San Diego and El Paso sectors, as well as Yum...\n"
     ]
    }
   ],
   "source": [
    "rd.seed(0)\n",
    "x = tweets[(tweets['border'] == 1) & (tweets['isRetweet'] == 't') & (tweets['isQuoteTweet'] == 'f')]\n",
    "    \n",
    "for identity in rd.sample(x.index.tolist(), k = 20):\n",
    "    print(identity,x.loc[(identity,'text')])"
   ]
  },
  {
   "cell_type": "code",
   "execution_count": 93,
   "id": "packed-dancing",
   "metadata": {},
   "outputs": [
    {
     "data": {
      "text/plain": [
       "0.7"
      ]
     },
     "execution_count": 93,
     "metadata": {},
     "output_type": "execute_result"
    }
   ],
   "source": [
    "hit = [1,0,1,1,0,1,0,1,0,1,1,1,0,1,1,1,0,1,1,1]\n",
    "p_br = sum(hit)/len(hit)\n",
    "p_br"
   ]
  },
  {
   "cell_type": "code",
   "execution_count": 94,
   "id": "colonial-meter",
   "metadata": {},
   "outputs": [
    {
     "name": "stdout",
     "output_type": "stream",
     "text": [
      "37503 \"\"\"@chubby6665: Legends on the wall in my bathroom at Trump Doral ..The refurb here is sensational, great venue! http://t.co/8ZsWampxZa\"\"Thanks\"\n",
      "32844 \"\"\"@SteveBashino:  Trump good for legal immigration, economy, defense, taxes, Social Security, Medicare, 2nd Amendment, and ALL Americans.\"\"\"\n",
      "36644 \"\"\"@CNBC: 5 family values Donald Trump used to build his empire » http://t.co/NKkwwloeLj http://t.co/A4DX8nG1Ji\"\"\"\n",
      "41829 \"\"\"@DiCristo13: @realDonaldTrump let's have the policy speeches on immigration, economy,  foreign policy, and NATO! https://t.co/Uuit2hWmhW\"\"\"\n",
      "33100 \"\"\"@AnnCoulter:He's right. Trump on 9/11 happening on Bush's watch: With my immigration policy, I doubt those ppl wld have been in the country\"\n",
      "20985 \"\"\"@FraserPorteous2: @realDonaldTrump I took a drive to Trump Scotland last week- what an incredible course your built. Good work, Trump!\"\"  T\"\n",
      "29405 \"\"\"@FASHfrontrunner: @realDonaldTrump Love the signage on the Chicago building! I think you should request even bigger letters!\"\n",
      "34092 \"\"\"@KNDetweiler: @hrkbenowen @thetimes @realDonaldTrump just released immigration plan is superior to everyone else's. Including Cruz.\"\n",
      "33770 \"\"\"@whyWinblo: @realDonaldTrump please make this country great again &amp, help secure our borders Mr. Trump, you're our last hope. #Trump2016\"\"\"\n",
      "33062 \"\"\"@SweetFreedom29: Hey @realDonaldTrump --&gt, FLASHBACK: Jeb Bush Admitted ‘Leaky’ Immigration Led to 9/11 http://t.co/Jmm7wd32UD #tcot\"\"  WOW!\"\n",
      "42992 \"\"\"@noamscheiber: Dow down almost 2000 pts since start of year, but still outperforming Wall Street's investment in Jeb. JEB wants Common Core\"\n",
      "36696 \"\"\"@calicombo: @realDonaldTrump @ALEKSMM ford is building a factory in Mexico.\"\" Should be in U.S.\"\n",
      "37229 \"\"\"@IndyBuffaloJim @greta I remember visiting that building a real jewel I am proud of Donald once again stepping up to make America Beautiful\"\n",
      "32132 \"\"\"@Blacks4Trump16: Legal &amp, illegal immigration drive down American wages. Only DonaldTrump can fix this. @AnnCoulter #Trump2016 #TeamTrump\"\"\"\n",
      "33768 \"\"\"@Hashtag1USA: @realDonaldTrump Trump rocked Iowa today heard his message was positive and built much enthusiasm among the voters #Trump2016\"\n",
      "32626 \"\"\"@bob_forbes2: DonaldTrump has built a lifetime reputation of doing what he says he will do. He keeps his promises. https://t.co/VBFuJOWIMa\"\n",
      "34867 \"\"\"@greta just read @realDonaldTrump going to Phoenix to give speech on illegal immigration on Saturday\"\" That is correct. I look forward to it\"\n",
      "41963 \"\"\"@TimVincent56:  @LindseyGrahamSC Talkers think about the future, Doers are already building it\"\" #VoteTrump2016 https://t.co/OoB38jypsD\"\"\"\n",
      "42971 \"\"\"@noamscheiber: Dow down almost 2000 pts since start of year, but still outperforming Wall Street's investment in Jeb.\"\n",
      "28766 \"\"\"@jeff_smith7: @realDonaldTrump Maybe Perry can put in a 9 hole golf course on the banks of the Rio Grande to lure Obama to see the border?\"\"\"\n"
     ]
    }
   ],
   "source": [
    "rd.seed(0)\n",
    "x = tweets[(tweets['border'] == 1) & (tweets['isRetweet'] == 'f') & ((tweets['isQuoteTweet'] == 't1') ^ (tweets['isQuoteTweet'] == 't2'))]\n",
    "    \n",
    "for identity in rd.sample(x.index.tolist(), k = 20):\n",
    "    print(identity,x.loc[(identity,'text')])"
   ]
  },
  {
   "cell_type": "code",
   "execution_count": 95,
   "id": "understood-occurrence",
   "metadata": {},
   "outputs": [
    {
     "data": {
      "text/plain": [
       "0.8"
      ]
     },
     "execution_count": 95,
     "metadata": {},
     "output_type": "execute_result"
    }
   ],
   "source": [
    "hit = [0,1,0,1,1,0,0,1,1,1,1,1,1,1,1,1,1,1,1,1]\n",
    "p_bq = sum(hit)/len(hit)\n",
    "p_bq"
   ]
  },
  {
   "cell_type": "markdown",
   "id": "analyzed-poker",
   "metadata": {},
   "source": [
    "#### Economic Category Coherence\n",
    "A tweet is in this category if the tweet refers to the economy in some way.  \n",
    "Positive Example: (3183: He is out of real solutions--@BarackObama's job bill is nothing more than a tax increase.)  \n",
    "Negative Example: (30171: China is closing a massive oil deal w/ Russia, taking advantage of the Ukraine conflict http://t.co/tItkQ0PmZH Smart, unlike our leaders.)"
   ]
  },
  {
   "cell_type": "code",
   "execution_count": 96,
   "id": "attached-madonna",
   "metadata": {},
   "outputs": [
    {
     "name": "stdout",
     "output_type": "stream",
     "text": [
      "55522 I was never planning a vote prior to the 2020 Election on the wonderful HealthCare package that some very talented people are now developing for me &amp, the Republican Party. It will be on full display during the Election as a much better &amp, less expensive alternative to ObamaCare...\n",
      "30171 China is closing a massive oil deal w/ Russia, taking advantage of the Ukraine conflict http://t.co/tItkQ0PmZH Smart, unlike our leaders.\n",
      "52388 When all of the people pushing so hard for Criminal Justice Reform were  unable to come even close to getting it done, they came to me as a group and asked for my help. I got it done with a group of Senators &amp, others who would never have gone for it. Obama couldn’t come close....\n",
      "34296 I wish good luck to all of the Republican candidates that traveled to California to beg for money etc. from the Koch Brothers. Puppets?\n",
      "3183 He is out of real solutions--@BarackObama's job bill is nothing more than a tax increase.\n",
      "17286 \"\"\"The illegal immigrant crime problem is far more serious and threatening than most people understand. Along our (cont) http://t.co/UAAIAKdS\"\n",
      "43326 In the East, it could be the COLDEST New Year’s Eve on record. Perhaps we could use a little bit of that good old Global Warming that our Country, but not other countries, was going to pay TRILLIONS OF DOLLARS to protect against. Bundle up!\n",
      "41448 I gave a woman named Barbara Res a top N.Y. construction job, when that was unheard of, and now she is nasty. So much for a nice thank you!\n",
      "32324 Thank you to all law enforcement agencies for a fabulous job!#LEO #LESM #Trump2016 https://t.co/SuH1jfOQR4\n",
      "53463 In 2016 I almost won Minnesota. In 2020, because of America hating anti-Semite Rep. Omar, &amp, the fact that Minnesota is having its best economic year ever, I will win the State! “We are going to be a nightmare to the President,” she say. No, AOC Plus 3 are a Nightmare for America!\n",
      "54913 ....in 3 separate locations, creating another 450 jobs. I have been working nicely with GM to get this done. Thank you to Mary B, your GREAT Governor, and Senator Rob Portman. With all the car companies coming back, and much more, THE USA IS BOOMING!\n",
      "20470 @tuserious854 I love what I do. You have to have passion for your work in order to be successful. That's number one.\n",
      "40875 Look what is happening to our country under the WEAK leadership of Obama and people like Crooked Hillary Clinton. We are a divided nation!\n",
      "26177 People are really unhappy with the endless security checks at the new World Trade Center. Durst is a terrible manager. Tenants furious!\n",
      "45858 There should be no further releases from Gitmo. These are extremely dangerous people and should not be allowed back onto the battlefield.\n",
      "15661 @escobedoantonio Work hard and never give up!\n",
      "42991 I will be the greatest job-producing president in American history. #Trump2016 #VoteTrump https://t.co/tykxcT5ZtG https://t.co/oc480lwVQg\n",
      "10727 Great job Ted. Country is proud of you!!! https://t.co/6Mb6wp4n6C\n",
      "18375 @AgalarovAras I had a great weekend with you and your family. You have done a FANTASTIC job. TRUMP TOWER-MOSCOW is next. EMIN was WOW!\n",
      "10794 Tom Tiffany (@TomTiffanyWI) is a Great Advocate for the incredible people of Wisconsin (WI07). We need Tom in Congress to help us Make America Great Again! He will Fight for Small Business, supports our Incredible Farmers, Loves our Military and our Vets....\n"
     ]
    }
   ],
   "source": [
    "rd.seed(0)\n",
    "x = tweets[(tweets['economic'] == 1) & (tweets['isRetweet'] == 'f') & (tweets['isQuoteTweet'] == 'f')]\n",
    "    \n",
    "for identity in rd.sample(x.index.tolist(), k = 20):\n",
    "    print(identity,x.loc[(identity,'text')])"
   ]
  },
  {
   "cell_type": "code",
   "execution_count": 97,
   "id": "resistant-burner",
   "metadata": {},
   "outputs": [
    {
     "data": {
      "text/plain": [
       "0.55"
      ]
     },
     "execution_count": 97,
     "metadata": {},
     "output_type": "execute_result"
    }
   ],
   "source": [
    "hit = [1,1,0,0,1,0,1,1,0,1,1,0,0,1,0,0,1,0,1,1]\n",
    "p_ct = sum(hit)/len(hit)\n",
    "p_ct"
   ]
  },
  {
   "cell_type": "code",
   "execution_count": 98,
   "id": "innovative-flexibility",
   "metadata": {},
   "outputs": [
    {
     "name": "stdout",
     "output_type": "stream",
     "text": [
      "44309 RT @GOP: .@POTUS: I want to work with Congress, Republicans, and Democrats on a plan that is pro-growth, pro-jobs, pro-worker, and pro-Amer...\n",
      "48174 RT @realDonaldTrump: My supporters are the smartest, strongest, most hard working and most loyal that we have seen in our countries history...\n",
      "2097 RT @realDonaldTrump: Few people have ever fought as strongly for Iowa as Senator @JoniErnst! A combat Veteran, her service to Iowa and our…\n",
      "10039 RT @SenRickScott: .@SenateDems blocked more funding for this program just last week and now it’s almost out of money. Small businesses need…\n",
      "52350 RT @mike_pence: Thank you to everyone at the @NCGOP working hard to get @jdanbishop to Washington! Keep up the great work! #NC09 https://t....\n",
      "51192 RT @GOPChairwoman: Nancy Pelosi only cares about her witch hunt, not working for the American people.It’s time for Pelosi to put the #USM...\n",
      "46877 RT @WhiteHouse: “America will always be a nation of great builders, because in America, we honor work, we honor grit, we honor craftsmanshi...\n",
      "11295 RT @TyCardon: Regardless who you’re pulling for, I think we can all agree that Joe Rogan would do a much better job moderating this thing t…\n",
      "50771 \"RT @TeamTrump: \"\"While we're Creating Jobs and Killing Terrorists, the Democrat Party has gone completely insane.\"\" - President @realDonaldTr...\"\n",
      "12912 RT @realDonaldTrump: Pelosi &amp; Schumer blocked desperately needed unemployment payments, which is so terrible, especially since they fully u…\n",
      "55811 \"RT @WhiteHouse: “Public optimism in their personal economy has hit a 16-year high under President Trump.\"\"“The job market doesn’t get much...\"\n",
      "8651 RT @StriderElass: Coumo \"Our way worked in New York\" Seriously?!?! I don't want any part of that way... https://t.co/110hANCGVp\n",
      "52116 RT @Jim_Jordan: Oversight hearing on DC statehood. Dems’ planned map would carve out Trump Hotel.Is it because they want the tax revenue?...\n",
      "6018 RT @WhiteHouse: We are thinking of the great people of Texas, Louisiana, Arkansas, Mississippi, and all those affected by the storm. https:…\n",
      "10721 RT @NextRevFNC: .@KayleighMcEnany: 27% of people who registered to attend Trump rally in Las Vegas, NV were Black and Latino, and 32% didn'…\n",
      "6028 RT @DTCahill: People under 40 yrs old have no clue, but @RudyGiuliani single handily took down the largest organized crime syndicate in Ame…\n",
      "4456 RT @SenRonJohnson: To use the House managers’ own argument on witnesses:\n",
      " \n",
      "“The American people deserve a fair impeachment.”\n",
      "“The Constitut…\n",
      "9882 RT @realDonaldTrump: White House News Conference today at 6:00 P.M. Economy, Job gains and Vaccine development are all doing GREAT!\n",
      "53537 RT @realDonaldTrump: So sad to see the Democrats sticking up for people who speak so badly of our Country and who, in addition, hate Israel...\n",
      "6308 RT @TeamTrump: Brad @Parscale with @kilmeade today: There is no Democrat that can compete with @realDonaldTrump and this economy https://t.…\n"
     ]
    }
   ],
   "source": [
    "rd.seed(0)\n",
    "x = tweets[(tweets['economic'] == 1) & (tweets['isRetweet'] == 't') & (tweets['isQuoteTweet'] == 'f')]\n",
    "    \n",
    "for identity in rd.sample(x.index.tolist(), k = 20):\n",
    "    print(identity,x.loc[(identity,'text')])"
   ]
  },
  {
   "cell_type": "code",
   "execution_count": 99,
   "id": "adapted-nature",
   "metadata": {},
   "outputs": [
    {
     "data": {
      "text/plain": [
       "0.8"
      ]
     },
     "execution_count": 99,
     "metadata": {},
     "output_type": "execute_result"
    }
   ],
   "source": [
    "hit = [1,0,1,1,1,0,1,0,1,1,1,0,1,1,1,1,1,1,1,1]\n",
    "p_cr = sum(hit)/len(hit)\n",
    "p_cr"
   ]
  },
  {
   "cell_type": "code",
   "execution_count": 100,
   "id": "hispanic-corporation",
   "metadata": {},
   "outputs": [
    {
     "name": "stdout",
     "output_type": "stream",
     "text": [
      "37082 \"\"\"@nikkio:  Good interview on O'Reilly - Many people r unaware how foreigners play around w/ currency to win trade over USA companies.\"\"\"\n",
      "28684 \"\"\"@Nardokids: @TrumpSoHo @realDonaldTrump Amazing. The people you hire for design are incredible\"\"  Thanks.\"\n",
      "35340 \"\"\"@AndyBran: @JoeNBC  Mr. Trump nailed it! Wow: After Doubts, Economists Find China Kills U.S. Factory Jobs - http://t.co/bzYPJ5bWSo”\"\"\"\n",
      "38208 \"\"\"@TaneRollins:  U NEED to run against Romney/Bush. You know infinitely more about economics. But you must publicly criticize them #GOP\"\"\"\n",
      "29140 \"\"\"@aj3fla @realDonaldTrump great job on @HowardStern this week. Always the best radio with the two of you.\"\"  Thank you.\"\n",
      "19171 \"\"\"@30carguy: @realDonaldTrump could you do a better job??\"\"  YES!\"\n",
      "23519 \"\"\"@DeannaSpillyard: @realDonaldTrump Although I cannot speak for them, I think you made your family proud.Great job! : )\"\"   Thanks Deanna!\"\n",
      "41804 \"\"\"@PennyHicks13: @Carolde @kisster1 @FoxNews   Your tax and economic plans are second to none! https://t.co/Q08Kp4esxl Media shld report.\"\n",
      "30660 \"\"\"@RickClement  It's tough work reading all those speeches from a teleprompter. Real leaders lead. Like you Donald!! Please run !!\"\" Thank you\"\n",
      "30137 \"\"\"@richrobins0n i love Trump because he actually says what’s on his mind, not what the people want to hear. that’s why he’s a leader\"\"  Thanks\"\n",
      "28943 \"\"\"@redslightning: @realDonaldTrump country needs the right person for the job there's only one! trump 2016\"\" Thanks.\"\n",
      "38885 \"\"\"@bethdelany: @realDonaldTrump Jamie brought in no money? her pie recipe brought in $25K #CelebrityApprentice\"\"\"\n",
      "35919 \"\"\"@TimJonesCFA: 2 minutes 20 in, politicians need lobbyist money.I don't, I have lots of money https://t.co/17KAUtS8NB @realDonaldTrump 4prez\"\n",
      "36778 \"\"\"@GameWeiver: @realDonaldTrump @ericbolling Donald Trump doesn't compliment many people. True!\"\n",
      "26572 \"\"\"@Devin_Smrekar: @realDonaldTrump how much did you enjoy hosting NASCAR?\"\"  They are great people.\"\n",
      "41829 \"\"\"@DiCristo13: @realDonaldTrump let's have the policy speeches on immigration, economy,  foreign policy, and NATO! https://t.co/Uuit2hWmhW\"\"\"\n",
      "30021 \"\"\"@salpie  @realDonaldTrump and how many of the jobs report uptick is due to Feds hiring #Obamacare exchange temps!\"\"  Good question. ?\"\n",
      "28019 \"\"\"@AlbyMetevier: @realDonaldTrump Mr trump will u save America and run? I know the job sucks but we need it fixed.\"\" So true!\"\n",
      "32441 \"\"\"@RealReagan0503: If you missed it, here is the most popular link among people I follow https://t.co/lOppBvYMRy by @realDonaldTrump\"\"\"\n",
      "38327 \"\"\"@MissCongress: @realdonaldtrump and @ivankatrump are my favorite people on TV. #CelebApprentice\"\"  Thanks.\"\n"
     ]
    }
   ],
   "source": [
    "rd.seed(0)\n",
    "x = tweets[(tweets['economic'] == 1) & (tweets['isRetweet'] == 'f') & ((tweets['isQuoteTweet'] == 't1') ^ (tweets['isQuoteTweet'] == 't2'))]\n",
    "    \n",
    "for identity in rd.sample(x.index.tolist(), k = 20):\n",
    "    print(identity,x.loc[(identity,'text')])"
   ]
  },
  {
   "cell_type": "code",
   "execution_count": 105,
   "id": "direct-lying",
   "metadata": {},
   "outputs": [
    {
     "data": {
      "text/plain": [
       "0.35"
      ]
     },
     "execution_count": 105,
     "metadata": {},
     "output_type": "execute_result"
    }
   ],
   "source": [
    "hit = [1,0,1,1,0,0,0,1,0,0,0,0,1,0,0,1,0,1,0,0]\n",
    "p_cq = sum(hit)/len(hit)\n",
    "p_cq"
   ]
  },
  {
   "cell_type": "markdown",
   "id": "expensive-burner",
   "metadata": {},
   "source": [
    "### States Category Coherence\n",
    "Topic includes mention of any state that is in the United States."
   ]
  },
  {
   "cell_type": "code",
   "execution_count": 128,
   "id": "surface-istanbul",
   "metadata": {},
   "outputs": [
    {
     "name": "stdout",
     "output_type": "stream",
     "text": [
      "39561 Just returned from Pennsylvania where we will be bringing back their jobs. Amazing crowd. Will be going back tomorrow, to Gettysburg!\n",
      "40537 Thank you to the amazing law enforcement officers today- in Daytona Beach, Florida! #LESM #MAGA https://t.co/QoxJf4Xzbc\n",
      "1823 Thank you Reading, Pennsylvania!\n",
      "https://t.co/ywpNmRgxqz\n",
      "27257 I just returned from Iowa - what a beautiful state. The people are amazing and the event for Congressman Steve King was a great success!\n",
      "43114 Just got back from Iowa - had a great time with amazing people. Will be back soon!\n",
      "42644 Just got back from Tampa. It was an amazing evening with an even more amazing crowd - fantastic people! Will be in South Carolina tomorrow.\n",
      "40170 Just returned from Pensacola, Florida, where the crowd was incredible.\n",
      "32951 Do you believe that @FoxNews is still playing up the old Iowa poll numbers and no mention of the ABCWashington Post or just out CBS results?\n",
      "42515 Remember that Marco Rubio is very weak on illegal immigration. South Carolina needs strength as illegals and Syrians pour in. Don't allow it\n",
      "39215 A great night in Fayetteville, North Carolina. Thank you! #ICYMI watch here: https://t.co/ZAuTgxKPpb https://t.co/EF9xRWmciA\n",
      "46732 On our way to Florida and Georgia!\n",
      "15059 You know the world is crazy when New York gets hit by a hurricane-- and Florida doesn't.\n",
      "42982 For the great people of Iowa, find your #IACaucus location at https://t.co/3KWOl20zMm. So important to vote! #MakeAmericaGreatAgain\n",
      "7275 .@BethVanDuyne did Great things as Mayor of Irving, Texas, with my Administration. She is a Strong Conservative who supports Border Security, Loves our Military, Vets, and supports your #2A. Beth has my Full Endorsement for Congress! https://t.co/0cUYANBzj0\n",
      "31896 A great afternoon. Thank you South Carolina! #MakeAmericaGreatAgain #Trump2016 https://t.co/iOnhK3l3xU https://t.co/EtpzrfChMZ\n",
      "7276 .@WesleyHuntTX is running for Congress in the Great State of Texas. He will help us accomplish our America First policies. Wesley is strong on Crime, the Border, our 2nd Amendment, Trade, Military and Vets. Wesley has my Complete and Total Endorsement! https://t.co/tdnO5Uh5Sa\n",
      "4369 Join me Friday (10/16) in Ocala, Florida at the Ocala International Airport at 4:00pmE! #MAGA https://t.co/ZVRMGBCE1c\n",
      "48410 California has a rare opportunity to turn things around and solve its high crime, high tax, problems - along with so many others. On June 5th., vote for GOP Gubernatorial Candidate JOHN COX, a really good and highly competent man. He’ll Make California Great Again!\n",
      "21714 Congratulations to my head pro of Trump International Golf Club (Florida) John Nieporte for qualifying for the U.S. Open!  @usopengolf\n",
      "44344 Departing for Texas and Louisiana with @FLOTUS Melania right now @JBA_NAFW. We will see you soon. America is with you! https://t.co/z3bHVdJVPr\n"
     ]
    }
   ],
   "source": [
    "rd.seed(0)\n",
    "x = tweets[(tweets['states'] == 1) & (tweets['isRetweet'] == 'f') & (tweets['isQuoteTweet'] == 'f')]\n",
    "    \n",
    "for identity in rd.sample(x.index.tolist(), k = 20):\n",
    "    print(identity,x.loc[(identity,'text')])"
   ]
  },
  {
   "cell_type": "code",
   "execution_count": 129,
   "id": "mature-absorption",
   "metadata": {},
   "outputs": [
    {
     "data": {
      "text/plain": [
       "1.0"
      ]
     },
     "execution_count": 129,
     "metadata": {},
     "output_type": "execute_result"
    }
   ],
   "source": [
    "hit = [1,1,1,1,1,1,1,1,1,1,1,1,1,1,1,1,1,1,1,1]\n",
    "p_stt = sum(hit)/len(hit)\n",
    "p_stt"
   ]
  },
  {
   "cell_type": "code",
   "execution_count": 130,
   "id": "preceding-hypothesis",
   "metadata": {},
   "outputs": [
    {
     "name": "stdout",
     "output_type": "stream",
     "text": [
      "13080 RT @realDonaldTrump: Will be in Sanford, Florida on Monday for a very BIG RALLY! https://t.co/TTOlHJT8kr\n",
      "44391 RT @EPAScottPruitt: Thoughts and prayers for those in Texas &amp, Louisiana. I am closely monitoring #Harvey developments along with @fema &amp, @E...\n",
      "1054 RT @WhiteHouse: The Trump Administration stands with Florida small businesses, who have received $32.2 BILLION in @SBAgov loans to keep the…\n",
      "9748 RT @charliekirk11: Facts:\n",
      "\n",
      "California’s Motor Voter law resulted in AT LEAST 1,500 people, including non-citizens, being registered to vote…\n",
      "51811 RT @realDonaldTrump: Great news! @Apple announced that it is building its new Mac Pro in Texas. This means hundreds of American jobs in Aus...\n",
      "49975 RT @RepMattGaetz: NAS Pensacola is a huge source of pride for all of Northwest Florida. It is the home of naval aviation. It is the home of...\n",
      "41092 RT @Reince: Flying to Dallas now with @realDonaldTrump...Reports of discord are pure fiction. Great events lined up all over Texas.  Rs wil...\n",
      "10669 RT @TeamTrump: President @realDonaldTrump: Early voting in #Florida starts on MONDAY, and we are going to have a Red Wave!\n",
      "\n",
      "VISIT: https://…\n",
      "49752 RT @Mike_Pence: Electric crowd here tonight in the Keystone State! Pennsylvania and American know that to #KeepAmericaGreat we need FOUR MO...\n",
      "11889 RT @realDonaldTrump: Senator Thom Tillis of North Carolina has really stepped up to the plate. Thom is tough on Crime, Strong on the Border…\n",
      "53476 RT @danielledsouzag: Up bright and early on @FoxFriendsFirst discussing Trump’s rally in North Carolina, his latest approval rating at 50%,...\n",
      "7964 RT @Scavino45: “Texas AG Ken Paxton: Trump is right and Twitter ‘fact check’ is wrong – mail-in ballot fraud is a real problem” https://t.c…\n",
      "51281 RT @realDonaldTrump: 95% Approval Rating in the Republican Party. Thank you! Just won two Congressional Seats in North Carolina,  &amp, a Gover...\n",
      "4550 RT @realDonaldTrump: DOJ: Democrats Paid Pennsylvania Election Officials to Stuff Ballot Box https://t.co/cmFQeWhVEe via @BreitbartNews\n",
      "10082 RT @DanScavino: 9/2/2020 | Wilmington, North Carolina! https://t.co/nYXhnz5f9q\n",
      "2092 RT @realDonaldTrump: David Young (@YoungForIowa) is a champion for Iowa! He helped us pass the Trump Tax Cuts and he will always fight for…\n",
      "9258 RT @Breaking911: STATES THAT HAVE ISSUED A ‘STAY AT HOME ORDER’\n",
      "\n",
      "- CALIFORNIA \n",
      "- NEW YORK\n",
      "- ILLINOIS \n",
      "- PENNSYLVANIA \n",
      "- CONNECTICUT \n",
      "- OREG…\n",
      "52337 RT @Scavino45: 🚨Happening Now—@POTUS @realDonaldTrump departing the @WhiteHouse for North Carolina.... https://t.co/HtreybGIAc\n",
      "54626 RT @realDonaldTrump: Fred Keller of the Great State of Pennsylvania has been an outstanding State Representative. Now he is running as the...\n",
      "4899 RT @BretBaier: The Iowa Democratic Party said it has found \"inconsistencies\" in the reporting of the caucus results, but says there was no…\n"
     ]
    }
   ],
   "source": [
    "rd.seed(0)\n",
    "x = tweets[(tweets['states'] == 1) & (tweets['isRetweet'] == 't') & (tweets['isQuoteTweet'] == 'f')]\n",
    "    \n",
    "for identity in rd.sample(x.index.tolist(), k = 20):\n",
    "    print(identity,x.loc[(identity,'text')])"
   ]
  },
  {
   "cell_type": "code",
   "execution_count": 131,
   "id": "proud-scope",
   "metadata": {},
   "outputs": [
    {
     "data": {
      "text/plain": [
       "1.0"
      ]
     },
     "execution_count": 131,
     "metadata": {},
     "output_type": "execute_result"
    }
   ],
   "source": [
    "hit = [1,1,1,1,1,1,1,1,1,1,1,1,1,1,1,1,1,1,1,1]\n",
    "p_str = sum(hit)/len(hit)\n",
    "p_str"
   ]
  },
  {
   "cell_type": "code",
   "execution_count": 132,
   "id": "productive-force",
   "metadata": {},
   "outputs": [
    {
     "name": "stdout",
     "output_type": "stream",
     "text": [
      "35373 \"\"\"@jaketapper: DonaldTrump in Iowa says \"\"I have a Gucci store that's worth more money than Romney\"\" Fact check: true http://t.co/xvDVHmntvR\"\"\"\n",
      "36921 \"\"\"@gamecockandrew: @realDonaldTrump thanks for coming to South Carolina tomarrow\"\"  My great honor!\"\n",
      "21156 \"\"\"@iNathanMcKnight: @realDonaldTrump Was his decision influenced by the No State Tax in Texas?\"\"  Didn't hurt!\"\n",
      "33000 \"\"\"@MiamiHerald: For Donald Trump, South Florida makes it rain — dollars, that is https://t.co/E1zMC3kism https://t.co/nz5QTpsktk\"\" Very nice\"\n",
      "42880 \"\"\"@michaelG4NY: new @nbcnews WSJ poll shows @realDonaldTrump pulling ahead of @tedcruz in #Iowa. https://t.co/18ktk7IZUd\"\"  Great!\"\n",
      "42795 \"\"\"@restorereality  Iowa is meaningless...keep pushing forward, run the table in NH SC NV and Super Tuesday. America needs you! #TrumpTrain\"\"\"\n",
      "35915 \"\"\"@TBI_ArmyWife: Thank you for a wonderful gathering and for supporting the #HiddenHeroes. Proud to be a Texas Fellow @DoleFoundation\"\"\"\n",
      "33450 \"\"\"@PaulRSidneyUK: I cannot believe the increase in illegals here in San Antonio Texas. We are the minority constantly discriminated against\"\n",
      "42733 \"\"\"@JoeNBC: Cruz really seems out of his element in New Hampshire. It is such a different battlefield then Iowa and the South.\"\"\"\n",
      "32913 \"\"\"@TheJusticeEngle: @realDonaldTrump I'm 18 years old from Florida, and just registered to vote. You got my vote in the primaries!\"\" THANKS.\"\n",
      "31996 \"\"\"@CRinQC: RT @thehill: New Iowa poll finds .@realDonaldTrump in the lead by double digits. https://t.co/00phDHSb37 https://t.co/t6DSOopCXd\"\n",
      "33366 \"\"\"@GaryGaryt52: @DanScavino @JudiLoera @realDonaldTrump WHEN IS TRUMP COMING TO FLORIDA? CAN'T WAIT.GO TRUMP! . FL FOR TRUMP\"\n",
      "41802 \"\"\"@Mutual408Grace: @realDonaldTrump @gene70 California women love Mr Trump too. Will make it happen in New York on April 19. Go out &amp, vote.\"\"\"\n",
      "27722 \"\"\"@ShayDud: @realDonaldTrump If you can dream it, you can do it. waltdisney Hope your dreaming of 1600 Pennsylvania Ave.\"\"\"\n",
      "32949 \"\"\"@thatgirlflorida: @realDonaldTrump @ByronYork @CBSNews @CNN Florida Loves Trump !!! We had a ball in Jacksonville Saturday! 🚂☁🇺🇸🇺🇸\"\"\"\n",
      "23078 \"\"\"@GenuineAccess: @realDonaldTrump Booked VIP clients to playing at the Trump Course in Palos Verdes fnn #\"\"  Great-best course in California!\"\n",
      "31613 \"\"\"@Hashtag1USA: @realDonaldTrump what do you think of Jeb cancelling his Iowa rally last night ? https://t.co/1oe798AAEU\"\" I went, he didn't!\"\n",
      "40426 \"\"\"@laurencristmann: Thank you for coming to Pennsylvania today. I will be there with @C_Lynne_Ryan your 3rd CD delegate at 2 pm\"\"\"\n",
      "34471 \"\"\"@gpavlik7  1/2 of new California driver’s licenses go to undocumented immigrants. Read the Sac' Bee, July 17th. Go get'em, Trump!\"\"\"\n",
      "21193 \"\"\"@MikeDGarrison: \"\"Judge orders Miss Pennsylvania to pay Donald Trump $5M in defamation case. http://t.co/hakqedJ5va” @realDonaldTrump hits.\"\n"
     ]
    }
   ],
   "source": [
    "rd.seed(0)\n",
    "x = tweets[(tweets['states'] == 1) & (tweets['isRetweet'] == 'f') & ((tweets['isQuoteTweet'] == 't1') ^ (tweets['isQuoteTweet'] == 't2'))]\n",
    "    \n",
    "for identity in rd.sample(x.index.tolist(), k = 20):\n",
    "    print(identity,x.loc[(identity,'text')])"
   ]
  },
  {
   "cell_type": "code",
   "execution_count": 133,
   "id": "pediatric-pillow",
   "metadata": {},
   "outputs": [
    {
     "data": {
      "text/plain": [
       "1.0"
      ]
     },
     "execution_count": 133,
     "metadata": {},
     "output_type": "execute_result"
    }
   ],
   "source": [
    "hit = [1,1,1,1,1,1,1,1,1,1,1,1,1,1,1,1,1,1,1,1,1]\n",
    "p_stq = sum(hit)/len(hit)\n",
    "p_stq"
   ]
  },
  {
   "cell_type": "markdown",
   "id": "divided-bobby",
   "metadata": {},
   "source": [
    "### Countries Category Coherence\n",
    "Topic includes any mention of a country that is not the United States."
   ]
  },
  {
   "cell_type": "code",
   "execution_count": 134,
   "id": "abandoned-grain",
   "metadata": {},
   "outputs": [
    {
     "name": "stdout",
     "output_type": "stream",
     "text": [
      "34994 Mexican leaders and negotiators are much tougher and smarter than those of the U.S. Mexico is killing us on jobs and trade. WAKE UP!\n",
      "55214 A very big Caravan of over 20,000 people started up through Mexico. It has been reduced in size by Mexico but is still coming. Mexico must apprehend the remainder or we will be forced to close that section of the Border &amp, call up the Military. The Coyotes &amp, Cartels have weapons!\n",
      "39542 Well, Iran has done it again. Taken two of our people and asking for a fortune for their release. This doesn't happen if I'm president!\n",
      "4300 John Kerry got caught essentially admitting that funds given ridiculously to Iran were used to fund attacks on the USA. Only a complete fool would have given that 150 Billion Dollars Plus to Iran. They then went on a Middle East Rampage! @foxandfriends @PeteHegseth\n",
      "17626 My @gretawire interview discussing @IvankaTrump wanting me to run for POTUS, @BarackObama’s SOTU and his China policy http://t.co/mt92sPxx\n",
      "46141 We are either going to have a REAL DEAL with China, or no deal at all - at which point we will be charging major Tariffs against Chinese product being shipped into the United States. Ultimately, I believe, we will be making a deal - either now or into the future....\n",
      "45326 Had a very good call last night with the President of China concerning the menace of North Korea.\n",
      "37041 Watch my @oreillyfactor appearance from this week discussing nuclear negotiations with Iran- http://t.co/gAdKBSkpzX\n",
      "56189 Just concluded a great meeting with my Intel team in the Oval Office who told me that what they said on Tuesday at the Senate Hearing was mischaracterized by the media - and we are very much in agreement on Iran, ISIS, North Korea, etc. Their testimony was distorted press.... https://t.co/Zl5aqBmpjF\n",
      "23086 Ridiculous that they gave the 14 year old golfer from China a one stroke penalty for slow play at The Masters(see, I can stick up for China)\n",
      "44807 Leaving Hamburg for Washington, D.C. and the WH. Just left China’s President Xi where we had an excellent meeting on trade &amp, North Korea.\n",
      "29914 Dennis Rodman was either drunk or on drugs (delusional) when he said I wanted to go to North Korea with him. Glad I fired him on Apprentice!\n",
      "48611 Our great financial team is in China trying to negotiate a level playing field on trade! I look forward to being with President Xi in the not too distant future. We will always have a good (great) relationship!\n",
      "16621 Scary--now China's Development Bank is looking to buy U.S. homes and developments http://t.co/Y50nOI5R They will own our country soon.\n",
      "46054 Many people have asked how we are doing in our negotiations with North Korea - I always reply by saying we are in no hurry, there is wonderful potential for great economic success for that country....\n",
      "13655 China is so brazen that they now give us economic advice--they tell us  what to do---much like a strong stockh... (cont) http://t.co/wIr68Cn4\n",
      "19135 Can you believe the head of Iran refused to meet with our great President?—Zero respect!\n",
      "13661 America's trade deficit with China is one of our greatest national security threats.  Time for Fair Trade. We must produce our own products.\n",
      "55131 China is adding great stimulus to its economy while at the same time keeping interest rates low. Our Federal Reserve has incessantly lifted interest rates, even though inflation is very low, and instituted a very big dose of quantitative tightening. We have the potential to go...\n",
      "9029 With all of the failed “experts” weighing in, does anybody really believe that talks and dialogue would be going on between North and South Korea right now if I wasn’t firm, strong and willing to commit our total “might” against the North. Fools, but talks are a good thing!\n"
     ]
    }
   ],
   "source": [
    "rd.seed(0)\n",
    "x = tweets[(tweets['countries'] == 1) & (tweets['isRetweet'] == 'f') & (tweets['isQuoteTweet'] == 'f')]\n",
    "    \n",
    "for identity in rd.sample(x.index.tolist(), k = 20):\n",
    "    print(identity,x.loc[(identity,'text')])"
   ]
  },
  {
   "cell_type": "code",
   "execution_count": 135,
   "id": "mighty-knight",
   "metadata": {},
   "outputs": [
    {
     "data": {
      "text/plain": [
       "1.0"
      ]
     },
     "execution_count": 135,
     "metadata": {},
     "output_type": "execute_result"
    }
   ],
   "source": [
    "hit = [1,1,1,1,1,1,1,1,1,1,1,1,1,1,1,1,1,1,1,1]\n",
    "p_cnt = sum(hit)/len(hit)\n",
    "p_cnt"
   ]
  },
  {
   "cell_type": "code",
   "execution_count": 136,
   "id": "hybrid-valve",
   "metadata": {},
   "outputs": [
    {
     "name": "stdout",
     "output_type": "stream",
     "text": [
      "10679 RT @LouDobbs: Controlling the Pandemic: Dr. Anthony Fauci says travel restrictions from China puts America a step ahead of Coronavirus outb…\n",
      "12541 RT @dbongino: Trump Will Win New Mexico, Predicts State GOP Chair 👇\n",
      "\n",
      "https://t.co/v0E4IgEqxD\n",
      "2265 RT @thesamsorbo: Sen Ron Johnson just released his report on Biden’s corruption with China, Ukraine, and Russia. Fox doesn’t report about i…\n",
      "7881 RT @YonhapNews: (2nd LD) Cheong Wa Dae says much of Bolton's memoir on Korea 'distorted,' urges U.S. gov't to address such 'dangerous' case…\n",
      "49443 \"RT @SkyNewsBreak: U.S. president Donald Trump says a \"\"breakthrough\"\" has been achieved in trade talks with China and he expects a deal to be...\"\n",
      "48143 RT @EricTrump: It is hard to believe that the historic North Korea / Kim Jong Un summit was exactly one week ago. Truly amazing to see the...\n",
      "11432 RT @ChuckRossDC: I know there's no connection between this op-ed and WaPo taking $4.6 million from Chinese foreign agent China Daily for pa…\n",
      "9141 RT @WhiteHouse: President @realDonaldTrump: \"Every other President let China do whatever they wanted.\" https://t.co/jEffuEFUlv\n",
      "45167 RT @DRUDGE_REPORT: MEXICO 2ND DEADLIEST COUNTRY, TOPS AFGHAN, IRAQ... https://t.co/i4FtSpLiHV\n",
      "9989 RT @GOPChairwoman: \"China and who can best rebuild our economy will be the dominant issues on Election Day and that’s bad news for Joe Bide…\n",
      "53030 RT @realDonaldTrump: ..deferral to December. It actually helps China more than us, but will be reciprocated. Millions of jobs are being los...\n",
      "7194 RT @GreggJarrett: Joe Biden asked about Hunter’s corruption in China — responds in garbled gibberish… https://t.co/xZLBFJTf6N\n",
      "49442 RT @Reuters: China will lower import tariffs on over 850 products from January 1 https://t.co/rOyxOnY9QF https://t.co/8xmiyGmiW6\n",
      "4214 RT @SenTomCotton: The American left and media cover relentlessly for Iran’s murderous regime. They claim that staged mass rallies mean the…\n",
      "8606 RT @realDonaldTrump: Joe Biden says this is a race between Scranton and Park Avenue. This is a race between Scranton and China. Joe Biden b…\n",
      "3702 RT @sendavidperdue: President @realDonaldTrump has made it clear that Iran’s destabilizing behavior will not be tolerated.I’m hopeful Ira...\n",
      "54279 RT @VP: .@POTUS’ strong stand got Mexico to do things they have never done before: 6,000 National Guard at their southern border, immigrati...\n",
      "7494 RT @LouDobbs: Fighting China’s Threat: @mikepillsbury touts @realDonaldTrump’s international accomplishments and his push for an arms contr…\n",
      "51442 RT @MariaBartiromo: USMCA passage, China deal should be ‘a one-two punch’: Rep. Tom Reed https://t.co/WcBsEjjir3 @MorningsMaria @FoxBusiness\n",
      "54987 RT @DailyCaller: DOJ Asks Courts To Lighten Up On Qualcomm As It Battles China For 5G Supremacy https://t.co/6CEMpAwJZF\n"
     ]
    }
   ],
   "source": [
    "rd.seed(0)\n",
    "x = tweets[(tweets['countries'] == 1) & (tweets['isRetweet'] == 't') & (tweets['isQuoteTweet'] == 'f')]\n",
    "    \n",
    "for identity in rd.sample(x.index.tolist(), k = 20):\n",
    "    print(identity,x.loc[(identity,'text')])"
   ]
  },
  {
   "cell_type": "code",
   "execution_count": 137,
   "id": "simple-statistics",
   "metadata": {},
   "outputs": [
    {
     "data": {
      "text/plain": [
       "1.0"
      ]
     },
     "execution_count": 137,
     "metadata": {},
     "output_type": "execute_result"
    }
   ],
   "source": [
    "hit = [1,1,1,1,1,1,1,1,1,1,1,1,1,1,1,1,1,1,1,1]\n",
    "p_cnr = sum(hit)/len(hit)\n",
    "p_cnr"
   ]
  },
  {
   "cell_type": "code",
   "execution_count": 138,
   "id": "regional-geography",
   "metadata": {},
   "outputs": [
    {
     "name": "stdout",
     "output_type": "stream",
     "text": [
      "35611 \"\"\"@jsilva74366572:  @nicksibrodi vote for Trump unless u want to keep getting fucked by isis, china, lobbyists and everyone else\"\"\"\n",
      "35758 \"\"\"@thehill: Donald Trump on Mexico: \"\"I would build a wall like nobody can build a wall\"\" http://t.co/KSasQjervA http://t.co/sVZoergra9\"\" True.\"\n",
      "20610 \"\"\"@3valuedlogic: @realDonaldTrump the Wall Street Journal believes that China will over take the US in built assets by next year. Question.\"\n",
      "29282 \"\"\"@Waldrop15w: @Kenny_Wallace @realDonaldTrump Iran controlling Iraq and all of its oil will be everyone's problem\"\" Our leaders are stupid!\"\n",
      "36654 \"\"\"@bridgetmarie89: Out of ALL the politicians in Washington, not ONE can #savesaeed imprisoned and tortured in #Iran for being a Christian\"\n",
      "36575 \"\"\"@hillarysusans: @daveyh @realDonaldTrump Way more substance than you know. Best negotiator in the world. Iran wouldn't get nukes for sure\"\"\"\n",
      "35725 \"\"\"@2014_vince: @realDonaldTrump bring jobs back from asia and mexico..vote trump for wage justice\"\"\"\n",
      "33294 \"\"\"@mimi_saulino: @seanhannity @FoxNews Syrian Muslims escorted into U.S. through Mexico. Now arriving to Oklahoma and Kansas! Congress?\"\"\"\n",
      "36460 \"\"\"@lorry_bennetti: @realDonaldTrump China has been laughing at the W🌏RLD for a long time &amp, will continue to do so!\"\"\"\n",
      "34509 \"\"\"@fedupwithgovern: Congress Can't Find Money for Veterans *Houses, Feeds, Educates, Provide Drs for illegals *Gives Iran over $200 Billion\"\"\"\n",
      "28714 \"\"\"@joella_clements:There is only one person who should be crossing our southern border, USMC Sgt Tahmooressi Boycott Mexico? #FreeOurMarine\"\"\"\"\"\n",
      "36632 \"\"\"@Sebastian_Rey10: “@CNBC: Ford is planning a $2,500,000,000 investment @realDonaldTrump in MEXICO!!!!\"\"  The U.S. is getting killed!\"\n",
      "26125 \"\"\"@JackWitty: I don't want a party as My President, I want a decisive,confident Leader. @realDonaldTrump will \"\"fire\"\" China. Give US a spark\"\"\"\n",
      "32728 \"\"\"@Truth_or_Rumor: @realDonaldTrump It's not so much that Iran made a good deal, it's that Kerry and Obama gave away the store.\"\"  O.K.!\"\n",
      "36935 \"\"\"@BackOnTrackUSA: Again, Obama has made us a laughing stock with his Iran \"\" negotiations \"\". Obama is a disgrace &amp, an embarassment\"\"\"\n",
      "23033 \"\"\"@T_Colello: @realDonaldTrump if you were president Korea wouldn't be messing with us #Trump2016\"\"  100% correct!\"\n",
      "29035 \"\"\"@D The government spends millions to keep bad people to come in via air travel. Now they go through Mexico. Wish DonaldTrump was in charge\"\"\"\n",
      "26148 \"\"\"@redvetttes: @realDonaldTrump @itsRyanHilton if he tells China where to go ,He has my vote\"\"\"\n",
      "33832 \"\"\"@americanhowl: While @realDonaldTrump rallies #NoIranDeal tomorrow, @JebBush will call China to ask for donations  http://t.co/dCoGJYF6fU\"\"\"\n",
      "20920 \"\"\"@SScottlilly80: @realDonaldTrump Run for president we need someone to stand up china and Russia. They laugh at us now.\"\" They do laugh!\"\n"
     ]
    }
   ],
   "source": [
    "rd.seed(0)\n",
    "x = tweets[(tweets['countries'] == 1) & (tweets['isRetweet'] == 'f') & ((tweets['isQuoteTweet'] == 't1') ^ (tweets['isQuoteTweet'] == 't2'))]\n",
    "    \n",
    "for identity in rd.sample(x.index.tolist(), k = 20):\n",
    "    print(identity,x.loc[(identity,'text')])"
   ]
  },
  {
   "cell_type": "code",
   "execution_count": 139,
   "id": "funky-graham",
   "metadata": {},
   "outputs": [
    {
     "data": {
      "text/plain": [
       "1.0"
      ]
     },
     "execution_count": 139,
     "metadata": {},
     "output_type": "execute_result"
    }
   ],
   "source": [
    "hit = [1,1,1,1,1,1,1,1,1,1,1,1,1,1,1,1,1,1]\n",
    "p_cnq = sum(hit)/len(hit)\n",
    "p_cnq"
   ]
  },
  {
   "cell_type": "code",
   "execution_count": 142,
   "id": "sonic-cocktail",
   "metadata": {},
   "outputs": [],
   "source": [
    "table = {\n",
    "    'category': ['selfReference','selfReference','selfReference', 'usa', 'usa', 'usa', \n",
    "                 'government', 'government', 'government','democrates', 'democrates', 'democrates',\n",
    "                 'republicans', 'republicans', 'republicans', 'election', 'election', 'election',\n",
    "                'positive', 'positive', 'positive', 'negative', 'negative', 'negative', \n",
    "                 'fakeNews', 'fakeNews', 'fakeNews', 'law', 'law', 'law', \n",
    "                 'border', 'border', 'border', 'economic', 'economic', 'economic',\n",
    "                'states','states','states','countries','countries','countries'],\n",
    "    'tweetType': ['trump','retweet','quote','trump','retweet','quote','trump','retweet','quote',\n",
    "                 'trump','retweet','quote','trump','retweet','quote','trump','retweet','quote',\n",
    "                 'trump','retweet','quote', 'trump','retweet','quote', 'trump','retweet','quote',\n",
    "                 'trump','retweet','quote', 'trump','retweet','quote', 'trump','retweet','quote',\n",
    "                 'trump','retweet','quote', 'trump','retweet','quote'],\n",
    "    'p_hat':[p_st, p_sr, p_sq, p_ut, p_ur, p_uq, p_gt, p_gr, p_gq, p_dt, p_dr, p_dq, p_rt, p_rr, p_rq,\n",
    "            p_et, p_er, p_eq, p_pt, p_pr, p_pq, p_nt, p_nr, p_nq, p_ft, p_fr, p_fq, p_lt, p_lr, p_lq,\n",
    "            p_bt, p_br, p_bq, p_ct, p_cr, p_cq, p_stt, p_str, p_stq, p_cnt, p_cnr, p_cnq]\n",
    "}\n",
    "coherenceTable = pd.DataFrame(table)"
   ]
  },
  {
   "cell_type": "code",
   "execution_count": 147,
   "id": "exceptional-planner",
   "metadata": {},
   "outputs": [
    {
     "data": {
      "text/html": [
       "<div>\n",
       "<style scoped>\n",
       "    .dataframe tbody tr th:only-of-type {\n",
       "        vertical-align: middle;\n",
       "    }\n",
       "\n",
       "    .dataframe tbody tr th {\n",
       "        vertical-align: top;\n",
       "    }\n",
       "\n",
       "    .dataframe thead th {\n",
       "        text-align: right;\n",
       "    }\n",
       "</style>\n",
       "<table border=\"1\" class=\"dataframe\">\n",
       "  <thead>\n",
       "    <tr style=\"text-align: right;\">\n",
       "      <th></th>\n",
       "      <th>category</th>\n",
       "      <th>p_hat</th>\n",
       "    </tr>\n",
       "  </thead>\n",
       "  <tbody>\n",
       "    <tr>\n",
       "      <th>0</th>\n",
       "      <td>border</td>\n",
       "      <td>0.766667</td>\n",
       "    </tr>\n",
       "    <tr>\n",
       "      <th>1</th>\n",
       "      <td>countries</td>\n",
       "      <td>1.000000</td>\n",
       "    </tr>\n",
       "    <tr>\n",
       "      <th>2</th>\n",
       "      <td>democrates</td>\n",
       "      <td>1.000000</td>\n",
       "    </tr>\n",
       "    <tr>\n",
       "      <th>3</th>\n",
       "      <td>economic</td>\n",
       "      <td>0.566667</td>\n",
       "    </tr>\n",
       "    <tr>\n",
       "      <th>4</th>\n",
       "      <td>election</td>\n",
       "      <td>0.850000</td>\n",
       "    </tr>\n",
       "    <tr>\n",
       "      <th>5</th>\n",
       "      <td>fakeNews</td>\n",
       "      <td>0.933333</td>\n",
       "    </tr>\n",
       "    <tr>\n",
       "      <th>6</th>\n",
       "      <td>government</td>\n",
       "      <td>0.966667</td>\n",
       "    </tr>\n",
       "    <tr>\n",
       "      <th>7</th>\n",
       "      <td>law</td>\n",
       "      <td>0.916667</td>\n",
       "    </tr>\n",
       "    <tr>\n",
       "      <th>8</th>\n",
       "      <td>negative</td>\n",
       "      <td>0.883333</td>\n",
       "    </tr>\n",
       "    <tr>\n",
       "      <th>9</th>\n",
       "      <td>positive</td>\n",
       "      <td>0.850000</td>\n",
       "    </tr>\n",
       "    <tr>\n",
       "      <th>10</th>\n",
       "      <td>republicans</td>\n",
       "      <td>1.000000</td>\n",
       "    </tr>\n",
       "    <tr>\n",
       "      <th>11</th>\n",
       "      <td>selfReference</td>\n",
       "      <td>0.933333</td>\n",
       "    </tr>\n",
       "    <tr>\n",
       "      <th>12</th>\n",
       "      <td>states</td>\n",
       "      <td>1.000000</td>\n",
       "    </tr>\n",
       "    <tr>\n",
       "      <th>13</th>\n",
       "      <td>usa</td>\n",
       "      <td>0.883333</td>\n",
       "    </tr>\n",
       "  </tbody>\n",
       "</table>\n",
       "</div>"
      ],
      "text/plain": [
       "         category     p_hat\n",
       "0          border  0.766667\n",
       "1       countries  1.000000\n",
       "2      democrates  1.000000\n",
       "3        economic  0.566667\n",
       "4        election  0.850000\n",
       "5        fakeNews  0.933333\n",
       "6      government  0.966667\n",
       "7             law  0.916667\n",
       "8        negative  0.883333\n",
       "9        positive  0.850000\n",
       "10    republicans  1.000000\n",
       "11  selfReference  0.933333\n",
       "12         states  1.000000\n",
       "13            usa  0.883333"
      ]
     },
     "execution_count": 147,
     "metadata": {},
     "output_type": "execute_result"
    },
    {
     "data": {
      "image/png": "[encoded data removed]",
      "text/plain": [
       "<Figure size 1080x360 with 1 Axes>"
      ]
     },
     "metadata": {
      "needs_background": "light"
     },
     "output_type": "display_data"
    }
   ],
   "source": [
    "# Over all coherence\n",
    "fig_dims = (15, 5)\n",
    "fig, ax = plt.subplots(figsize=fig_dims)\n",
    "totalCoherence = coherenceTable.groupby('category').mean().reset_index()\n",
    "#totalCoherence\n",
    "sns.barplot(data = totalCoherence, x = 'category', y = 'p_hat')\n",
    "totalCoherence"
   ]
  },
  {
   "cell_type": "code",
   "execution_count": 149,
   "id": "cathedral-evans",
   "metadata": {},
   "outputs": [
    {
     "data": {
      "text/plain": [
       "<AxesSubplot:xlabel='category', ylabel='p_hat'>"
      ]
     },
     "execution_count": 149,
     "metadata": {},
     "output_type": "execute_result"
    },
    {
     "data": {
      "image/png": "[encoded data removed]",
      "text/plain": [
       "<Figure size 1080x360 with 1 Axes>"
      ]
     },
     "metadata": {
      "needs_background": "light"
     },
     "output_type": "display_data"
    }
   ],
   "source": [
    "# Coherence by category\n",
    "fig_dims = (15, 5)\n",
    "fig, ax = plt.subplots(figsize=fig_dims)\n",
    "sns.barplot(data = coherenceTable, x = 'category', y = 'p_hat', hue = 'tweetType')"
   ]
  },
  {
   "cell_type": "code",
   "execution_count": 150,
   "id": "major-baker",
   "metadata": {},
   "outputs": [],
   "source": [
    "# Export\n",
    "\n",
    "tweets.to_csv('C:\\\\Users\\\\John\\\\Desktop\\\\SpeakAi\\\\trumpClean.csv')"
   ]
  }
 ],
 "metadata": {
  "kernelspec": {
   "display_name": "Python 3",
   "language": "python",
   "name": "python3"
  },
  "language_info": {
   "codemirror_mode": {
    "name": "ipython",
    "version": 3
   },
   "file_extension": ".py",
   "mimetype": "text/x-python",
   "name": "python",
   "nbconvert_exporter": "python",
   "pygments_lexer": "ipython3",
   "version": "3.7.6"
  }
 },
 "nbformat": 4,
 "nbformat_minor": 5
}
